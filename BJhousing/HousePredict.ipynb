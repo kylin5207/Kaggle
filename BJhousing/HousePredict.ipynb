{
 "cells": [
  {
   "cell_type": "markdown",
   "metadata": {},
   "source": [
    "**<font size=5>帝都房价预测</font>**"
   ]
  },
  {
   "cell_type": "markdown",
   "metadata": {},
   "source": [
    "**<font size=4>1. 加载原始数据</font>**"
   ]
  },
  {
   "cell_type": "code",
   "execution_count": 1,
   "metadata": {},
   "outputs": [],
   "source": [
    "import pandas as pd\n",
    "import matplotlib.pyplot as plt"
   ]
  },
  {
   "cell_type": "code",
   "execution_count": 2,
   "metadata": {},
   "outputs": [],
   "source": [
    "import numpy as np"
   ]
  },
  {
   "cell_type": "code",
   "execution_count": 3,
   "metadata": {},
   "outputs": [],
   "source": [
    "data = pd.read_csv(\"HousePrices.csv\", header=0, encoding=\"utf-8\")"
   ]
  },
  {
   "cell_type": "code",
   "execution_count": 4,
   "metadata": {},
   "outputs": [
    {
     "data": {
      "text/html": [
       "<div>\n",
       "<style scoped>\n",
       "    .dataframe tbody tr th:only-of-type {\n",
       "        vertical-align: middle;\n",
       "    }\n",
       "\n",
       "    .dataframe tbody tr th {\n",
       "        vertical-align: top;\n",
       "    }\n",
       "\n",
       "    .dataframe thead th {\n",
       "        text-align: right;\n",
       "    }\n",
       "</style>\n",
       "<table border=\"1\" class=\"dataframe\">\n",
       "  <thead>\n",
       "    <tr style=\"text-align: right;\">\n",
       "      <th></th>\n",
       "      <th>Lng</th>\n",
       "      <th>Lat</th>\n",
       "      <th>tradeTime</th>\n",
       "      <th>followers</th>\n",
       "      <th>totalPrice</th>\n",
       "      <th>square</th>\n",
       "      <th>bedRoom</th>\n",
       "      <th>drawingRoom</th>\n",
       "      <th>kitchen</th>\n",
       "      <th>bathRoom</th>\n",
       "      <th>floor</th>\n",
       "      <th>buildingType</th>\n",
       "      <th>constructionTime</th>\n",
       "      <th>renovationCondition</th>\n",
       "      <th>buildingStructure</th>\n",
       "      <th>ladderRatio</th>\n",
       "      <th>elevator</th>\n",
       "      <th>fiveYearsProperty</th>\n",
       "      <th>subway</th>\n",
       "      <th>district</th>\n",
       "    </tr>\n",
       "  </thead>\n",
       "  <tbody>\n",
       "    <tr>\n",
       "      <th>0</th>\n",
       "      <td>116.122491</td>\n",
       "      <td>39.939735</td>\n",
       "      <td>2010-1-1</td>\n",
       "      <td>0</td>\n",
       "      <td>165.0</td>\n",
       "      <td>120.45</td>\n",
       "      <td>3</td>\n",
       "      <td>1</td>\n",
       "      <td>0</td>\n",
       "      <td>1</td>\n",
       "      <td>高 12</td>\n",
       "      <td>3.0</td>\n",
       "      <td>2008</td>\n",
       "      <td>4</td>\n",
       "      <td>6</td>\n",
       "      <td>0.333</td>\n",
       "      <td>1</td>\n",
       "      <td>0</td>\n",
       "      <td>0</td>\n",
       "      <td>12</td>\n",
       "    </tr>\n",
       "    <tr>\n",
       "      <th>1</th>\n",
       "      <td>116.122150</td>\n",
       "      <td>39.932268</td>\n",
       "      <td>2010-1-5</td>\n",
       "      <td>0</td>\n",
       "      <td>72.5</td>\n",
       "      <td>68.75</td>\n",
       "      <td>2</td>\n",
       "      <td>1</td>\n",
       "      <td>0</td>\n",
       "      <td>1</td>\n",
       "      <td>高 6</td>\n",
       "      <td>4.0</td>\n",
       "      <td>1998</td>\n",
       "      <td>3</td>\n",
       "      <td>2</td>\n",
       "      <td>0.500</td>\n",
       "      <td>0</td>\n",
       "      <td>0</td>\n",
       "      <td>0</td>\n",
       "      <td>12</td>\n",
       "    </tr>\n",
       "    <tr>\n",
       "      <th>2</th>\n",
       "      <td>116.111318</td>\n",
       "      <td>39.949921</td>\n",
       "      <td>2010-1-15</td>\n",
       "      <td>0</td>\n",
       "      <td>114.0</td>\n",
       "      <td>89.94</td>\n",
       "      <td>2</td>\n",
       "      <td>1</td>\n",
       "      <td>0</td>\n",
       "      <td>1</td>\n",
       "      <td>底 6</td>\n",
       "      <td>4.0</td>\n",
       "      <td>2003</td>\n",
       "      <td>3</td>\n",
       "      <td>2</td>\n",
       "      <td>0.500</td>\n",
       "      <td>0</td>\n",
       "      <td>0</td>\n",
       "      <td>0</td>\n",
       "      <td>12</td>\n",
       "    </tr>\n",
       "    <tr>\n",
       "      <th>3</th>\n",
       "      <td>116.119651</td>\n",
       "      <td>39.934504</td>\n",
       "      <td>2010-1-16</td>\n",
       "      <td>0</td>\n",
       "      <td>84.0</td>\n",
       "      <td>71.73</td>\n",
       "      <td>1</td>\n",
       "      <td>1</td>\n",
       "      <td>0</td>\n",
       "      <td>1</td>\n",
       "      <td>中 11</td>\n",
       "      <td>4.0</td>\n",
       "      <td>2005</td>\n",
       "      <td>3</td>\n",
       "      <td>6</td>\n",
       "      <td>0.333</td>\n",
       "      <td>1</td>\n",
       "      <td>0</td>\n",
       "      <td>0</td>\n",
       "      <td>12</td>\n",
       "    </tr>\n",
       "    <tr>\n",
       "      <th>4</th>\n",
       "      <td>116.121964</td>\n",
       "      <td>39.939762</td>\n",
       "      <td>2010-1-18</td>\n",
       "      <td>0</td>\n",
       "      <td>80.0</td>\n",
       "      <td>65.63</td>\n",
       "      <td>2</td>\n",
       "      <td>1</td>\n",
       "      <td>0</td>\n",
       "      <td>1</td>\n",
       "      <td>高 6</td>\n",
       "      <td>4.0</td>\n",
       "      <td>2003</td>\n",
       "      <td>3</td>\n",
       "      <td>2</td>\n",
       "      <td>0.500</td>\n",
       "      <td>0</td>\n",
       "      <td>0</td>\n",
       "      <td>0</td>\n",
       "      <td>12</td>\n",
       "    </tr>\n",
       "  </tbody>\n",
       "</table>\n",
       "</div>"
      ],
      "text/plain": [
       "          Lng        Lat  tradeTime  followers  totalPrice  square  bedRoom  \\\n",
       "0  116.122491  39.939735   2010-1-1          0       165.0  120.45        3   \n",
       "1  116.122150  39.932268   2010-1-5          0        72.5   68.75        2   \n",
       "2  116.111318  39.949921  2010-1-15          0       114.0   89.94        2   \n",
       "3  116.119651  39.934504  2010-1-16          0        84.0   71.73        1   \n",
       "4  116.121964  39.939762  2010-1-18          0        80.0   65.63        2   \n",
       "\n",
       "   drawingRoom  kitchen  bathRoom floor  buildingType  constructionTime  \\\n",
       "0            1        0         1  高 12           3.0              2008   \n",
       "1            1        0         1   高 6           4.0              1998   \n",
       "2            1        0         1   底 6           4.0              2003   \n",
       "3            1        0         1  中 11           4.0              2005   \n",
       "4            1        0         1   高 6           4.0              2003   \n",
       "\n",
       "   renovationCondition  buildingStructure  ladderRatio  elevator  \\\n",
       "0                    4                  6        0.333         1   \n",
       "1                    3                  2        0.500         0   \n",
       "2                    3                  2        0.500         0   \n",
       "3                    3                  6        0.333         1   \n",
       "4                    3                  2        0.500         0   \n",
       "\n",
       "   fiveYearsProperty  subway  district  \n",
       "0                  0       0        12  \n",
       "1                  0       0        12  \n",
       "2                  0       0        12  \n",
       "3                  0       0        12  \n",
       "4                  0       0        12  "
      ]
     },
     "execution_count": 4,
     "metadata": {},
     "output_type": "execute_result"
    }
   ],
   "source": [
    "data.head()"
   ]
  },
  {
   "cell_type": "code",
   "execution_count": 5,
   "metadata": {},
   "outputs": [],
   "source": [
    "m, n = data.shape"
   ]
  },
  {
   "cell_type": "code",
   "execution_count": 6,
   "metadata": {},
   "outputs": [
    {
     "data": {
      "text/plain": [
       "(299231, 20)"
      ]
     },
     "execution_count": 6,
     "metadata": {},
     "output_type": "execute_result"
    }
   ],
   "source": [
    "m, n"
   ]
  },
  {
   "cell_type": "markdown",
   "metadata": {},
   "source": [
    "（1）查看各个字段的信息"
   ]
  },
  {
   "cell_type": "code",
   "execution_count": 7,
   "metadata": {
    "scrolled": true
   },
   "outputs": [
    {
     "name": "stdout",
     "output_type": "stream",
     "text": [
      "<class 'pandas.core.frame.DataFrame'>\n",
      "RangeIndex: 299231 entries, 0 to 299230\n",
      "Data columns (total 20 columns):\n",
      "Lng                    299231 non-null float64\n",
      "Lat                    299231 non-null float64\n",
      "tradeTime              299231 non-null object\n",
      "followers              299231 non-null int64\n",
      "totalPrice             299231 non-null float64\n",
      "square                 299231 non-null float64\n",
      "bedRoom                299231 non-null int64\n",
      "drawingRoom            299231 non-null int64\n",
      "kitchen                299231 non-null int64\n",
      "bathRoom               299231 non-null int64\n",
      "floor                  299231 non-null object\n",
      "buildingType           297775 non-null float64\n",
      "constructionTime       299231 non-null int64\n",
      "renovationCondition    299231 non-null int64\n",
      "buildingStructure      299231 non-null int64\n",
      "ladderRatio            299231 non-null float64\n",
      "elevator               299231 non-null int64\n",
      "fiveYearsProperty      299231 non-null int64\n",
      "subway                 299231 non-null int64\n",
      "district               299231 non-null int64\n",
      "dtypes: float64(6), int64(12), object(2)\n",
      "memory usage: 45.7+ MB\n"
     ]
    }
   ],
   "source": [
    "data.info()"
   ]
  },
  {
   "cell_type": "markdown",
   "metadata": {},
   "source": [
    "（2）查看拥有缺失值的字段"
   ]
  },
  {
   "cell_type": "code",
   "execution_count": 8,
   "metadata": {},
   "outputs": [
    {
     "data": {
      "text/plain": [
       "Index(['buildingType'], dtype='object')"
      ]
     },
     "execution_count": 8,
     "metadata": {},
     "output_type": "execute_result"
    }
   ],
   "source": [
    "data.columns[data.count() != m]"
   ]
  },
  {
   "cell_type": "markdown",
   "metadata": {},
   "source": [
    "（3）查看房屋统计信息"
   ]
  },
  {
   "cell_type": "code",
   "execution_count": 9,
   "metadata": {
    "scrolled": false
   },
   "outputs": [
    {
     "data": {
      "text/html": [
       "<div>\n",
       "<style scoped>\n",
       "    .dataframe tbody tr th:only-of-type {\n",
       "        vertical-align: middle;\n",
       "    }\n",
       "\n",
       "    .dataframe tbody tr th {\n",
       "        vertical-align: top;\n",
       "    }\n",
       "\n",
       "    .dataframe thead th {\n",
       "        text-align: right;\n",
       "    }\n",
       "</style>\n",
       "<table border=\"1\" class=\"dataframe\">\n",
       "  <thead>\n",
       "    <tr style=\"text-align: right;\">\n",
       "      <th></th>\n",
       "      <th>Lng</th>\n",
       "      <th>Lat</th>\n",
       "      <th>followers</th>\n",
       "      <th>totalPrice</th>\n",
       "      <th>square</th>\n",
       "      <th>bedRoom</th>\n",
       "      <th>drawingRoom</th>\n",
       "      <th>kitchen</th>\n",
       "      <th>bathRoom</th>\n",
       "      <th>buildingType</th>\n",
       "      <th>constructionTime</th>\n",
       "      <th>renovationCondition</th>\n",
       "      <th>buildingStructure</th>\n",
       "      <th>ladderRatio</th>\n",
       "      <th>elevator</th>\n",
       "      <th>fiveYearsProperty</th>\n",
       "      <th>subway</th>\n",
       "      <th>district</th>\n",
       "    </tr>\n",
       "  </thead>\n",
       "  <tbody>\n",
       "    <tr>\n",
       "      <th>count</th>\n",
       "      <td>299231.000000</td>\n",
       "      <td>299231.000000</td>\n",
       "      <td>299231.000000</td>\n",
       "      <td>299231.000000</td>\n",
       "      <td>299231.000000</td>\n",
       "      <td>299231.000000</td>\n",
       "      <td>299231.000000</td>\n",
       "      <td>299231.000000</td>\n",
       "      <td>299231.000000</td>\n",
       "      <td>297775.000000</td>\n",
       "      <td>299231.000000</td>\n",
       "      <td>299231.000000</td>\n",
       "      <td>299231.000000</td>\n",
       "      <td>2.992310e+05</td>\n",
       "      <td>299231.000000</td>\n",
       "      <td>299231.000000</td>\n",
       "      <td>299231.000000</td>\n",
       "      <td>299231.000000</td>\n",
       "    </tr>\n",
       "    <tr>\n",
       "      <th>mean</th>\n",
       "      <td>116.418407</td>\n",
       "      <td>39.949715</td>\n",
       "      <td>17.199354</td>\n",
       "      <td>350.698836</td>\n",
       "      <td>83.088417</td>\n",
       "      <td>2.016720</td>\n",
       "      <td>1.173872</td>\n",
       "      <td>0.994626</td>\n",
       "      <td>1.186983</td>\n",
       "      <td>3.028941</td>\n",
       "      <td>1999.215031</td>\n",
       "      <td>2.617633</td>\n",
       "      <td>4.422807</td>\n",
       "      <td>6.728294e+01</td>\n",
       "      <td>0.568791</td>\n",
       "      <td>0.650912</td>\n",
       "      <td>0.600730</td>\n",
       "      <td>6.748368</td>\n",
       "    </tr>\n",
       "    <tr>\n",
       "      <th>std</th>\n",
       "      <td>0.111460</td>\n",
       "      <td>0.092084</td>\n",
       "      <td>34.841735</td>\n",
       "      <td>230.622920</td>\n",
       "      <td>36.920255</td>\n",
       "      <td>0.773157</td>\n",
       "      <td>0.515611</td>\n",
       "      <td>0.103950</td>\n",
       "      <td>0.434529</td>\n",
       "      <td>1.265418</td>\n",
       "      <td>8.777576</td>\n",
       "      <td>1.306790</td>\n",
       "      <td>1.906629</td>\n",
       "      <td>2.587730e+04</td>\n",
       "      <td>0.495246</td>\n",
       "      <td>0.476683</td>\n",
       "      <td>0.489749</td>\n",
       "      <td>2.812338</td>\n",
       "    </tr>\n",
       "    <tr>\n",
       "      <th>min</th>\n",
       "      <td>116.072514</td>\n",
       "      <td>39.627030</td>\n",
       "      <td>0.000000</td>\n",
       "      <td>1.000000</td>\n",
       "      <td>7.370000</td>\n",
       "      <td>0.000000</td>\n",
       "      <td>0.000000</td>\n",
       "      <td>0.000000</td>\n",
       "      <td>0.000000</td>\n",
       "      <td>1.000000</td>\n",
       "      <td>1906.000000</td>\n",
       "      <td>1.000000</td>\n",
       "      <td>1.000000</td>\n",
       "      <td>1.400000e-02</td>\n",
       "      <td>0.000000</td>\n",
       "      <td>0.000000</td>\n",
       "      <td>0.000000</td>\n",
       "      <td>1.000000</td>\n",
       "    </tr>\n",
       "    <tr>\n",
       "      <th>25%</th>\n",
       "      <td>116.345204</td>\n",
       "      <td>39.892777</td>\n",
       "      <td>0.000000</td>\n",
       "      <td>205.000000</td>\n",
       "      <td>57.960000</td>\n",
       "      <td>1.000000</td>\n",
       "      <td>1.000000</td>\n",
       "      <td>1.000000</td>\n",
       "      <td>1.000000</td>\n",
       "      <td>1.000000</td>\n",
       "      <td>1994.000000</td>\n",
       "      <td>1.000000</td>\n",
       "      <td>2.000000</td>\n",
       "      <td>2.500000e-01</td>\n",
       "      <td>0.000000</td>\n",
       "      <td>0.000000</td>\n",
       "      <td>0.000000</td>\n",
       "      <td>6.000000</td>\n",
       "    </tr>\n",
       "    <tr>\n",
       "      <th>50%</th>\n",
       "      <td>116.416780</td>\n",
       "      <td>39.934530</td>\n",
       "      <td>5.000000</td>\n",
       "      <td>295.000000</td>\n",
       "      <td>74.100000</td>\n",
       "      <td>2.000000</td>\n",
       "      <td>1.000000</td>\n",
       "      <td>1.000000</td>\n",
       "      <td>1.000000</td>\n",
       "      <td>4.000000</td>\n",
       "      <td>2001.000000</td>\n",
       "      <td>3.000000</td>\n",
       "      <td>6.000000</td>\n",
       "      <td>3.330000e-01</td>\n",
       "      <td>1.000000</td>\n",
       "      <td>1.000000</td>\n",
       "      <td>1.000000</td>\n",
       "      <td>7.000000</td>\n",
       "    </tr>\n",
       "    <tr>\n",
       "      <th>75%</th>\n",
       "      <td>116.476921</td>\n",
       "      <td>40.004014</td>\n",
       "      <td>19.000000</td>\n",
       "      <td>428.000000</td>\n",
       "      <td>98.530000</td>\n",
       "      <td>2.000000</td>\n",
       "      <td>1.000000</td>\n",
       "      <td>1.000000</td>\n",
       "      <td>1.000000</td>\n",
       "      <td>4.000000</td>\n",
       "      <td>2006.000000</td>\n",
       "      <td>4.000000</td>\n",
       "      <td>6.000000</td>\n",
       "      <td>5.000000e-01</td>\n",
       "      <td>1.000000</td>\n",
       "      <td>1.000000</td>\n",
       "      <td>1.000000</td>\n",
       "      <td>8.000000</td>\n",
       "    </tr>\n",
       "    <tr>\n",
       "      <th>max</th>\n",
       "      <td>116.732378</td>\n",
       "      <td>40.252758</td>\n",
       "      <td>1143.000000</td>\n",
       "      <td>18130.000000</td>\n",
       "      <td>1745.500000</td>\n",
       "      <td>9.000000</td>\n",
       "      <td>5.000000</td>\n",
       "      <td>3.000000</td>\n",
       "      <td>7.000000</td>\n",
       "      <td>4.000000</td>\n",
       "      <td>2016.000000</td>\n",
       "      <td>4.000000</td>\n",
       "      <td>6.000000</td>\n",
       "      <td>1.000940e+07</td>\n",
       "      <td>1.000000</td>\n",
       "      <td>1.000000</td>\n",
       "      <td>1.000000</td>\n",
       "      <td>13.000000</td>\n",
       "    </tr>\n",
       "  </tbody>\n",
       "</table>\n",
       "</div>"
      ],
      "text/plain": [
       "                 Lng            Lat      followers     totalPrice  \\\n",
       "count  299231.000000  299231.000000  299231.000000  299231.000000   \n",
       "mean      116.418407      39.949715      17.199354     350.698836   \n",
       "std         0.111460       0.092084      34.841735     230.622920   \n",
       "min       116.072514      39.627030       0.000000       1.000000   \n",
       "25%       116.345204      39.892777       0.000000     205.000000   \n",
       "50%       116.416780      39.934530       5.000000     295.000000   \n",
       "75%       116.476921      40.004014      19.000000     428.000000   \n",
       "max       116.732378      40.252758    1143.000000   18130.000000   \n",
       "\n",
       "              square        bedRoom    drawingRoom        kitchen  \\\n",
       "count  299231.000000  299231.000000  299231.000000  299231.000000   \n",
       "mean       83.088417       2.016720       1.173872       0.994626   \n",
       "std        36.920255       0.773157       0.515611       0.103950   \n",
       "min         7.370000       0.000000       0.000000       0.000000   \n",
       "25%        57.960000       1.000000       1.000000       1.000000   \n",
       "50%        74.100000       2.000000       1.000000       1.000000   \n",
       "75%        98.530000       2.000000       1.000000       1.000000   \n",
       "max      1745.500000       9.000000       5.000000       3.000000   \n",
       "\n",
       "            bathRoom   buildingType  constructionTime  renovationCondition  \\\n",
       "count  299231.000000  297775.000000     299231.000000        299231.000000   \n",
       "mean        1.186983       3.028941       1999.215031             2.617633   \n",
       "std         0.434529       1.265418          8.777576             1.306790   \n",
       "min         0.000000       1.000000       1906.000000             1.000000   \n",
       "25%         1.000000       1.000000       1994.000000             1.000000   \n",
       "50%         1.000000       4.000000       2001.000000             3.000000   \n",
       "75%         1.000000       4.000000       2006.000000             4.000000   \n",
       "max         7.000000       4.000000       2016.000000             4.000000   \n",
       "\n",
       "       buildingStructure   ladderRatio       elevator  fiveYearsProperty  \\\n",
       "count      299231.000000  2.992310e+05  299231.000000      299231.000000   \n",
       "mean            4.422807  6.728294e+01       0.568791           0.650912   \n",
       "std             1.906629  2.587730e+04       0.495246           0.476683   \n",
       "min             1.000000  1.400000e-02       0.000000           0.000000   \n",
       "25%             2.000000  2.500000e-01       0.000000           0.000000   \n",
       "50%             6.000000  3.330000e-01       1.000000           1.000000   \n",
       "75%             6.000000  5.000000e-01       1.000000           1.000000   \n",
       "max             6.000000  1.000940e+07       1.000000           1.000000   \n",
       "\n",
       "              subway       district  \n",
       "count  299231.000000  299231.000000  \n",
       "mean        0.600730       6.748368  \n",
       "std         0.489749       2.812338  \n",
       "min         0.000000       1.000000  \n",
       "25%         0.000000       6.000000  \n",
       "50%         1.000000       7.000000  \n",
       "75%         1.000000       8.000000  \n",
       "max         1.000000      13.000000  "
      ]
     },
     "execution_count": 9,
     "metadata": {},
     "output_type": "execute_result"
    }
   ],
   "source": [
    "data.describe()"
   ]
  },
  {
   "cell_type": "markdown",
   "metadata": {},
   "source": [
    "（4）利用经纬度查看房屋密集程度"
   ]
  },
  {
   "cell_type": "code",
   "execution_count": 10,
   "metadata": {},
   "outputs": [],
   "source": [
    "Lng_Lat= data[[\"Lng\", \"Lat\"]]"
   ]
  },
  {
   "cell_type": "code",
   "execution_count": 11,
   "metadata": {},
   "outputs": [
    {
     "data": {
      "text/plain": [
       "(299231, 2)"
      ]
     },
     "execution_count": 11,
     "metadata": {},
     "output_type": "execute_result"
    }
   ],
   "source": [
    "Lng_Lat.shape"
   ]
  },
  {
   "cell_type": "code",
   "execution_count": 12,
   "metadata": {
    "scrolled": true
   },
   "outputs": [
    {
     "data": {
      "text/plain": [
       "Text(0.5,1,'Visualize the places')"
      ]
     },
     "execution_count": 12,
     "metadata": {},
     "output_type": "execute_result"
    },
    {
     "data": {
      "image/png": "[encoded data removed]",
      "text/plain": [
       "<Figure size 432x288 with 1 Axes>"
      ]
     },
     "metadata": {},
     "output_type": "display_data"
    }
   ],
   "source": [
    "Lng_Lat.plot(kind=\"scatter\", x=\"Lng\", y=\"Lat\", alpha=0.1)\n",
    "plt.title(\"Visualize the places\")"
   ]
  },
  {
   "cell_type": "markdown",
   "metadata": {},
   "source": [
    "(5)将含缺失值字段的整条数据删除"
   ]
  },
  {
   "cell_type": "code",
   "execution_count": 13,
   "metadata": {},
   "outputs": [],
   "source": [
    "data = data.dropna(axis=0)"
   ]
  },
  {
   "cell_type": "code",
   "execution_count": 14,
   "metadata": {},
   "outputs": [
    {
     "data": {
      "text/plain": [
       "(297775, 20)"
      ]
     },
     "execution_count": 14,
     "metadata": {},
     "output_type": "execute_result"
    }
   ],
   "source": [
    "data.shape"
   ]
  },
  {
   "cell_type": "code",
   "execution_count": 15,
   "metadata": {},
   "outputs": [
    {
     "data": {
      "text/plain": [
       "Lng                    297775\n",
       "Lat                    297775\n",
       "tradeTime              297775\n",
       "followers              297775\n",
       "totalPrice             297775\n",
       "square                 297775\n",
       "bedRoom                297775\n",
       "drawingRoom            297775\n",
       "kitchen                297775\n",
       "bathRoom               297775\n",
       "floor                  297775\n",
       "buildingType           297775\n",
       "constructionTime       297775\n",
       "renovationCondition    297775\n",
       "buildingStructure      297775\n",
       "ladderRatio            297775\n",
       "elevator               297775\n",
       "fiveYearsProperty      297775\n",
       "subway                 297775\n",
       "district               297775\n",
       "dtype: int64"
      ]
     },
     "execution_count": 15,
     "metadata": {},
     "output_type": "execute_result"
    }
   ],
   "source": [
    "data.count()"
   ]
  },
  {
   "cell_type": "markdown",
   "metadata": {},
   "source": [
    "(6)查看数据分布直方图"
   ]
  },
  {
   "cell_type": "code",
   "execution_count": 16,
   "metadata": {},
   "outputs": [
    {
     "data": {
      "text/html": [
       "<div>\n",
       "<style scoped>\n",
       "    .dataframe tbody tr th:only-of-type {\n",
       "        vertical-align: middle;\n",
       "    }\n",
       "\n",
       "    .dataframe tbody tr th {\n",
       "        vertical-align: top;\n",
       "    }\n",
       "\n",
       "    .dataframe thead th {\n",
       "        text-align: right;\n",
       "    }\n",
       "</style>\n",
       "<table border=\"1\" class=\"dataframe\">\n",
       "  <thead>\n",
       "    <tr style=\"text-align: right;\">\n",
       "      <th></th>\n",
       "      <th>Lng</th>\n",
       "      <th>Lat</th>\n",
       "      <th>tradeTime</th>\n",
       "      <th>followers</th>\n",
       "      <th>totalPrice</th>\n",
       "      <th>square</th>\n",
       "      <th>bedRoom</th>\n",
       "      <th>drawingRoom</th>\n",
       "      <th>kitchen</th>\n",
       "      <th>bathRoom</th>\n",
       "      <th>floor</th>\n",
       "      <th>buildingType</th>\n",
       "      <th>constructionTime</th>\n",
       "      <th>renovationCondition</th>\n",
       "      <th>buildingStructure</th>\n",
       "      <th>ladderRatio</th>\n",
       "      <th>elevator</th>\n",
       "      <th>fiveYearsProperty</th>\n",
       "      <th>subway</th>\n",
       "      <th>district</th>\n",
       "    </tr>\n",
       "  </thead>\n",
       "  <tbody>\n",
       "    <tr>\n",
       "      <th>0</th>\n",
       "      <td>116.122491</td>\n",
       "      <td>39.939735</td>\n",
       "      <td>2010-1-1</td>\n",
       "      <td>0</td>\n",
       "      <td>165.0</td>\n",
       "      <td>120.45</td>\n",
       "      <td>3</td>\n",
       "      <td>1</td>\n",
       "      <td>0</td>\n",
       "      <td>1</td>\n",
       "      <td>高 12</td>\n",
       "      <td>3.0</td>\n",
       "      <td>2008</td>\n",
       "      <td>4</td>\n",
       "      <td>6</td>\n",
       "      <td>0.333</td>\n",
       "      <td>1</td>\n",
       "      <td>0</td>\n",
       "      <td>0</td>\n",
       "      <td>12</td>\n",
       "    </tr>\n",
       "    <tr>\n",
       "      <th>1</th>\n",
       "      <td>116.122150</td>\n",
       "      <td>39.932268</td>\n",
       "      <td>2010-1-5</td>\n",
       "      <td>0</td>\n",
       "      <td>72.5</td>\n",
       "      <td>68.75</td>\n",
       "      <td>2</td>\n",
       "      <td>1</td>\n",
       "      <td>0</td>\n",
       "      <td>1</td>\n",
       "      <td>高 6</td>\n",
       "      <td>4.0</td>\n",
       "      <td>1998</td>\n",
       "      <td>3</td>\n",
       "      <td>2</td>\n",
       "      <td>0.500</td>\n",
       "      <td>0</td>\n",
       "      <td>0</td>\n",
       "      <td>0</td>\n",
       "      <td>12</td>\n",
       "    </tr>\n",
       "    <tr>\n",
       "      <th>2</th>\n",
       "      <td>116.111318</td>\n",
       "      <td>39.949921</td>\n",
       "      <td>2010-1-15</td>\n",
       "      <td>0</td>\n",
       "      <td>114.0</td>\n",
       "      <td>89.94</td>\n",
       "      <td>2</td>\n",
       "      <td>1</td>\n",
       "      <td>0</td>\n",
       "      <td>1</td>\n",
       "      <td>底 6</td>\n",
       "      <td>4.0</td>\n",
       "      <td>2003</td>\n",
       "      <td>3</td>\n",
       "      <td>2</td>\n",
       "      <td>0.500</td>\n",
       "      <td>0</td>\n",
       "      <td>0</td>\n",
       "      <td>0</td>\n",
       "      <td>12</td>\n",
       "    </tr>\n",
       "    <tr>\n",
       "      <th>3</th>\n",
       "      <td>116.119651</td>\n",
       "      <td>39.934504</td>\n",
       "      <td>2010-1-16</td>\n",
       "      <td>0</td>\n",
       "      <td>84.0</td>\n",
       "      <td>71.73</td>\n",
       "      <td>1</td>\n",
       "      <td>1</td>\n",
       "      <td>0</td>\n",
       "      <td>1</td>\n",
       "      <td>中 11</td>\n",
       "      <td>4.0</td>\n",
       "      <td>2005</td>\n",
       "      <td>3</td>\n",
       "      <td>6</td>\n",
       "      <td>0.333</td>\n",
       "      <td>1</td>\n",
       "      <td>0</td>\n",
       "      <td>0</td>\n",
       "      <td>12</td>\n",
       "    </tr>\n",
       "    <tr>\n",
       "      <th>4</th>\n",
       "      <td>116.121964</td>\n",
       "      <td>39.939762</td>\n",
       "      <td>2010-1-18</td>\n",
       "      <td>0</td>\n",
       "      <td>80.0</td>\n",
       "      <td>65.63</td>\n",
       "      <td>2</td>\n",
       "      <td>1</td>\n",
       "      <td>0</td>\n",
       "      <td>1</td>\n",
       "      <td>高 6</td>\n",
       "      <td>4.0</td>\n",
       "      <td>2003</td>\n",
       "      <td>3</td>\n",
       "      <td>2</td>\n",
       "      <td>0.500</td>\n",
       "      <td>0</td>\n",
       "      <td>0</td>\n",
       "      <td>0</td>\n",
       "      <td>12</td>\n",
       "    </tr>\n",
       "  </tbody>\n",
       "</table>\n",
       "</div>"
      ],
      "text/plain": [
       "          Lng        Lat  tradeTime  followers  totalPrice  square  bedRoom  \\\n",
       "0  116.122491  39.939735   2010-1-1          0       165.0  120.45        3   \n",
       "1  116.122150  39.932268   2010-1-5          0        72.5   68.75        2   \n",
       "2  116.111318  39.949921  2010-1-15          0       114.0   89.94        2   \n",
       "3  116.119651  39.934504  2010-1-16          0        84.0   71.73        1   \n",
       "4  116.121964  39.939762  2010-1-18          0        80.0   65.63        2   \n",
       "\n",
       "   drawingRoom  kitchen  bathRoom floor  buildingType  constructionTime  \\\n",
       "0            1        0         1  高 12           3.0              2008   \n",
       "1            1        0         1   高 6           4.0              1998   \n",
       "2            1        0         1   底 6           4.0              2003   \n",
       "3            1        0         1  中 11           4.0              2005   \n",
       "4            1        0         1   高 6           4.0              2003   \n",
       "\n",
       "   renovationCondition  buildingStructure  ladderRatio  elevator  \\\n",
       "0                    4                  6        0.333         1   \n",
       "1                    3                  2        0.500         0   \n",
       "2                    3                  2        0.500         0   \n",
       "3                    3                  6        0.333         1   \n",
       "4                    3                  2        0.500         0   \n",
       "\n",
       "   fiveYearsProperty  subway  district  \n",
       "0                  0       0        12  \n",
       "1                  0       0        12  \n",
       "2                  0       0        12  \n",
       "3                  0       0        12  \n",
       "4                  0       0        12  "
      ]
     },
     "execution_count": 16,
     "metadata": {},
     "output_type": "execute_result"
    }
   ],
   "source": [
    "data.head()"
   ]
  },
  {
   "cell_type": "code",
   "execution_count": 17,
   "metadata": {
    "scrolled": true
   },
   "outputs": [
    {
     "data": {
      "text/plain": [
       "Text(0,0.5,'num')"
      ]
     },
     "execution_count": 17,
     "metadata": {},
     "output_type": "execute_result"
    },
    {
     "data": {
      "image/png": "[encoded data removed]",
      "text/plain": [
       "<Figure size 720x360 with 1 Axes>"
      ]
     },
     "metadata": {},
     "output_type": "display_data"
    }
   ],
   "source": [
    "data[\"totalPrice\"].hist(bins=40, figsize=(10,5))\n",
    "plt.title(\"TotalPrice Histogram\")\n",
    "plt.xlabel(\"cost 10,000RMB\")\n",
    "plt.ylabel(\"num\")"
   ]
  },
  {
   "cell_type": "markdown",
   "metadata": {},
   "source": [
    "房价主要集中在200-500万。"
   ]
  },
  {
   "cell_type": "markdown",
   "metadata": {},
   "source": [
    "(7)查看经纬度区域信息"
   ]
  },
  {
   "cell_type": "code",
   "execution_count": 18,
   "metadata": {},
   "outputs": [
    {
     "data": {
      "text/plain": [
       "<matplotlib.colorbar.Colorbar at 0x12517828>"
      ]
     },
     "execution_count": 18,
     "metadata": {},
     "output_type": "execute_result"
    },
    {
     "data": {
      "image/png": "[encoded data removed]",
      "text/plain": [
       "<Figure size 432x288 with 2 Axes>"
      ]
     },
     "metadata": {},
     "output_type": "display_data"
    }
   ],
   "source": [
    "plt.scatter(data[\"Lng\"], data[\"Lat\"], alpha=0.3, c=data[\"district\"], cmap=plt.get_cmap(\"cool\"))\n",
    "plt.title(\"Different district\")\n",
    "plt.colorbar()"
   ]
  },
  {
   "cell_type": "markdown",
   "metadata": {},
   "source": [
    "（8）查看经纬度价格信息"
   ]
  },
  {
   "cell_type": "code",
   "execution_count": 19,
   "metadata": {},
   "outputs": [
    {
     "data": {
      "text/plain": [
       "<matplotlib.colorbar.Colorbar at 0x1731de80>"
      ]
     },
     "execution_count": 19,
     "metadata": {},
     "output_type": "execute_result"
    },
    {
     "data": {
      "image/png": "[encoded data removed]",
      "text/plain": [
       "<Figure size 432x288 with 2 Axes>"
      ]
     },
     "metadata": {},
     "output_type": "display_data"
    }
   ],
   "source": [
    "plt.scatter(data[\"Lng\"], data[\"Lat\"], alpha=0.1, c=data[\"totalPrice\"], cmap=plt.get_cmap(\"cool_r\"))\n",
    "plt.title(\"Different places with different totalPrice\")\n",
    "plt.xlabel(\"Longitude\")\n",
    "plt.ylabel(\"Latitude\")\n",
    "plt.colorbar()"
   ]
  },
  {
   "cell_type": "markdown",
   "metadata": {},
   "source": [
    "（9）查看价格的分布图和累计概率图"
   ]
  },
  {
   "cell_type": "markdown",
   "metadata": {},
   "source": [
    "根据变量的累积概率对应于所指定的理论分布累积概率绘制的散点图，用于直观地检测样本数据是否符合某一概率分布。如果被检验的数据符合所指定的分布，则代表样本数据的点应当基本在代表理论分布的对角线上。"
   ]
  },
  {
   "cell_type": "code",
   "execution_count": 20,
   "metadata": {},
   "outputs": [],
   "source": [
    "import scipy.stats as stats"
   ]
  },
  {
   "cell_type": "code",
   "execution_count": 21,
   "metadata": {},
   "outputs": [],
   "source": [
    "import seaborn as sns"
   ]
  },
  {
   "cell_type": "code",
   "execution_count": 22,
   "metadata": {},
   "outputs": [
    {
     "name": "stderr",
     "output_type": "stream",
     "text": [
      "D:\\Anaconda3\\lib\\site-packages\\scipy\\stats\\stats.py:1713: FutureWarning: Using a non-tuple sequence for multidimensional indexing is deprecated; use `arr[tuple(seq)]` instead of `arr[seq]`. In the future this will be interpreted as an array index, `arr[np.array(seq)]`, which will result either in an error or a different result.\n",
      "  return np.add.reduce(sorted[indexer] * weights, axis=axis) / sumval\n",
      "D:\\Anaconda3\\lib\\site-packages\\matplotlib\\axes\\_axes.py:6462: UserWarning: The 'normed' kwarg is deprecated, and has been replaced by the 'density' kwarg.\n",
      "  warnings.warn(\"The 'normed' kwarg is deprecated, and has been \"\n"
     ]
    },
    {
     "name": "stdout",
     "output_type": "stream",
     "text": [
      "偏度Skewness： 2.857300143068288\n",
      "峰值Kurtosis： 17.735970894703737\n"
     ]
    },
    {
     "data": {
      "image/png": "[encoded data removed]",
      "text/plain": [
       "<Figure size 432x288 with 1 Axes>"
      ]
     },
     "metadata": {},
     "output_type": "display_data"
    },
    {
     "data": {
      "image/png": "[encoded data removed]",
      "text/plain": [
       "<Figure size 432x288 with 1 Axes>"
      ]
     },
     "metadata": {},
     "output_type": "display_data"
    }
   ],
   "source": [
    "sns.distplot(data[\"totalPrice\"], kde=True)\n",
    "fig = plt.figure()\n",
    "res = stats.probplot(data[\"totalPrice\"], plot=plt)\n",
    "print(\"偏度Skewness：\", data[\"totalPrice\"].skew())\n",
    "print(\"峰值Kurtosis：\", data[\"totalPrice\"].kurt())"
   ]
  },
  {
   "cell_type": "markdown",
   "metadata": {},
   "source": [
    "**<font size=4>2. 数据预处理</font>**"
   ]
  },
  {
   "cell_type": "markdown",
   "metadata": {},
   "source": [
    "（1）考虑到floor字段既有字符，又有数字，不便于处理，将这两个字段分开处理。拆分成："
   ]
  },
  {
   "cell_type": "code",
   "execution_count": 23,
   "metadata": {},
   "outputs": [],
   "source": [
    "floordata = data[\"floor\"]"
   ]
  },
  {
   "cell_type": "code",
   "execution_count": 24,
   "metadata": {},
   "outputs": [],
   "source": [
    "floordataarray = floordata.values"
   ]
  },
  {
   "cell_type": "code",
   "execution_count": 25,
   "metadata": {},
   "outputs": [
    {
     "data": {
      "text/plain": [
       "['高', '12']"
      ]
     },
     "execution_count": 25,
     "metadata": {},
     "output_type": "execute_result"
    }
   ],
   "source": [
    " floordataarray[0].split(\" \")"
   ]
  },
  {
   "cell_type": "code",
   "execution_count": 26,
   "metadata": {},
   "outputs": [],
   "source": [
    "fm = floordataarray.shape[0]"
   ]
  },
  {
   "cell_type": "code",
   "execution_count": 27,
   "metadata": {},
   "outputs": [
    {
     "data": {
      "text/plain": [
       "297775"
      ]
     },
     "execution_count": 27,
     "metadata": {},
     "output_type": "execute_result"
    }
   ],
   "source": [
    "fm"
   ]
  },
  {
   "cell_type": "code",
   "execution_count": 28,
   "metadata": {},
   "outputs": [],
   "source": [
    "floorloc = []\n",
    "floorlayer = []"
   ]
  },
  {
   "cell_type": "code",
   "execution_count": 29,
   "metadata": {},
   "outputs": [],
   "source": [
    "for i in range(fm):\n",
    "    floorlist = floordataarray[i].split(\" \")\n",
    "    floorloc.append(floorlist[0])\n",
    "    floorlayer.append(int(floorlist[1]))"
   ]
  },
  {
   "cell_type": "code",
   "execution_count": 30,
   "metadata": {},
   "outputs": [
    {
     "data": {
      "text/plain": [
       "(297775, 297775)"
      ]
     },
     "execution_count": 30,
     "metadata": {},
     "output_type": "execute_result"
    }
   ],
   "source": [
    "len(floorloc),len(floorlayer)"
   ]
  },
  {
   "cell_type": "code",
   "execution_count": 31,
   "metadata": {},
   "outputs": [],
   "source": [
    "floorlocDF = pd.DataFrame(floorloc, columns=[\"floorloc\"])\n",
    "floorlayerDF = pd.DataFrame(floorlayer, columns=[\"floorlayer\"])"
   ]
  },
  {
   "cell_type": "code",
   "execution_count": 32,
   "metadata": {},
   "outputs": [
    {
     "data": {
      "text/html": [
       "<div>\n",
       "<style scoped>\n",
       "    .dataframe tbody tr th:only-of-type {\n",
       "        vertical-align: middle;\n",
       "    }\n",
       "\n",
       "    .dataframe tbody tr th {\n",
       "        vertical-align: top;\n",
       "    }\n",
       "\n",
       "    .dataframe thead th {\n",
       "        text-align: right;\n",
       "    }\n",
       "</style>\n",
       "<table border=\"1\" class=\"dataframe\">\n",
       "  <thead>\n",
       "    <tr style=\"text-align: right;\">\n",
       "      <th></th>\n",
       "      <th>floorloc</th>\n",
       "    </tr>\n",
       "  </thead>\n",
       "  <tbody>\n",
       "    <tr>\n",
       "      <th>0</th>\n",
       "      <td>高</td>\n",
       "    </tr>\n",
       "    <tr>\n",
       "      <th>1</th>\n",
       "      <td>高</td>\n",
       "    </tr>\n",
       "    <tr>\n",
       "      <th>2</th>\n",
       "      <td>底</td>\n",
       "    </tr>\n",
       "    <tr>\n",
       "      <th>3</th>\n",
       "      <td>中</td>\n",
       "    </tr>\n",
       "    <tr>\n",
       "      <th>4</th>\n",
       "      <td>高</td>\n",
       "    </tr>\n",
       "  </tbody>\n",
       "</table>\n",
       "</div>"
      ],
      "text/plain": [
       "  floorloc\n",
       "0        高\n",
       "1        高\n",
       "2        底\n",
       "3        中\n",
       "4        高"
      ]
     },
     "execution_count": 32,
     "metadata": {},
     "output_type": "execute_result"
    }
   ],
   "source": [
    "floorlocDF.head()"
   ]
  },
  {
   "cell_type": "code",
   "execution_count": 33,
   "metadata": {},
   "outputs": [
    {
     "data": {
      "text/html": [
       "<div>\n",
       "<style scoped>\n",
       "    .dataframe tbody tr th:only-of-type {\n",
       "        vertical-align: middle;\n",
       "    }\n",
       "\n",
       "    .dataframe tbody tr th {\n",
       "        vertical-align: top;\n",
       "    }\n",
       "\n",
       "    .dataframe thead th {\n",
       "        text-align: right;\n",
       "    }\n",
       "</style>\n",
       "<table border=\"1\" class=\"dataframe\">\n",
       "  <thead>\n",
       "    <tr style=\"text-align: right;\">\n",
       "      <th></th>\n",
       "      <th>floorlayer</th>\n",
       "    </tr>\n",
       "  </thead>\n",
       "  <tbody>\n",
       "    <tr>\n",
       "      <th>0</th>\n",
       "      <td>12</td>\n",
       "    </tr>\n",
       "    <tr>\n",
       "      <th>1</th>\n",
       "      <td>6</td>\n",
       "    </tr>\n",
       "    <tr>\n",
       "      <th>2</th>\n",
       "      <td>6</td>\n",
       "    </tr>\n",
       "    <tr>\n",
       "      <th>3</th>\n",
       "      <td>11</td>\n",
       "    </tr>\n",
       "    <tr>\n",
       "      <th>4</th>\n",
       "      <td>6</td>\n",
       "    </tr>\n",
       "  </tbody>\n",
       "</table>\n",
       "</div>"
      ],
      "text/plain": [
       "   floorlayer\n",
       "0          12\n",
       "1           6\n",
       "2           6\n",
       "3          11\n",
       "4           6"
      ]
     },
     "execution_count": 33,
     "metadata": {},
     "output_type": "execute_result"
    }
   ],
   "source": [
    "floorlayerDF.head()"
   ]
  },
  {
   "cell_type": "code",
   "execution_count": 34,
   "metadata": {
    "scrolled": true
   },
   "outputs": [
    {
     "data": {
      "text/plain": [
       "(297775, 1)"
      ]
     },
     "execution_count": 34,
     "metadata": {},
     "output_type": "execute_result"
    }
   ],
   "source": [
    "floorlayerDF.shape"
   ]
  },
  {
   "cell_type": "code",
   "execution_count": 35,
   "metadata": {},
   "outputs": [
    {
     "data": {
      "text/plain": [
       "(297775, 1)"
      ]
     },
     "execution_count": 35,
     "metadata": {},
     "output_type": "execute_result"
    }
   ],
   "source": [
    "floorlocDF.shape"
   ]
  },
  {
   "cell_type": "code",
   "execution_count": 36,
   "metadata": {},
   "outputs": [
    {
     "data": {
      "text/plain": [
       "(297775, 20)"
      ]
     },
     "execution_count": 36,
     "metadata": {},
     "output_type": "execute_result"
    }
   ],
   "source": [
    "data.shape"
   ]
  },
  {
   "cell_type": "code",
   "execution_count": 37,
   "metadata": {},
   "outputs": [
    {
     "data": {
      "text/plain": [
       "floorloc    297775\n",
       "dtype: int64"
      ]
     },
     "execution_count": 37,
     "metadata": {},
     "output_type": "execute_result"
    }
   ],
   "source": [
    "floorlocDF.count()"
   ]
  },
  {
   "cell_type": "code",
   "execution_count": 38,
   "metadata": {},
   "outputs": [
    {
     "data": {
      "text/plain": [
       "floorlayer    297775\n",
       "dtype: int64"
      ]
     },
     "execution_count": 38,
     "metadata": {},
     "output_type": "execute_result"
    }
   ],
   "source": [
    "floorlayerDF.count()"
   ]
  },
  {
   "cell_type": "code",
   "execution_count": 39,
   "metadata": {},
   "outputs": [],
   "source": [
    "data = data.reset_index()"
   ]
  },
  {
   "cell_type": "code",
   "execution_count": 40,
   "metadata": {},
   "outputs": [],
   "source": [
    "data = pd.concat([data, floorlocDF, floorlayerDF], axis=1, join_axes=[data.index])"
   ]
  },
  {
   "cell_type": "code",
   "execution_count": 41,
   "metadata": {},
   "outputs": [
    {
     "data": {
      "text/plain": [
       "(297775, 23)"
      ]
     },
     "execution_count": 41,
     "metadata": {},
     "output_type": "execute_result"
    }
   ],
   "source": [
    "data.shape"
   ]
  },
  {
   "cell_type": "code",
   "execution_count": 42,
   "metadata": {
    "scrolled": true
   },
   "outputs": [],
   "source": [
    "data = data.drop([\"floor\"], axis=1)"
   ]
  },
  {
   "cell_type": "code",
   "execution_count": 43,
   "metadata": {},
   "outputs": [
    {
     "data": {
      "text/plain": [
       "(297775, 22)"
      ]
     },
     "execution_count": 43,
     "metadata": {},
     "output_type": "execute_result"
    }
   ],
   "source": [
    "data.shape"
   ]
  },
  {
   "cell_type": "code",
   "execution_count": 44,
   "metadata": {},
   "outputs": [
    {
     "data": {
      "text/plain": [
       "index                  297775\n",
       "Lng                    297775\n",
       "Lat                    297775\n",
       "tradeTime              297775\n",
       "followers              297775\n",
       "totalPrice             297775\n",
       "square                 297775\n",
       "bedRoom                297775\n",
       "drawingRoom            297775\n",
       "kitchen                297775\n",
       "bathRoom               297775\n",
       "buildingType           297775\n",
       "constructionTime       297775\n",
       "renovationCondition    297775\n",
       "buildingStructure      297775\n",
       "ladderRatio            297775\n",
       "elevator               297775\n",
       "fiveYearsProperty      297775\n",
       "subway                 297775\n",
       "district               297775\n",
       "floorloc               297775\n",
       "floorlayer             297775\n",
       "dtype: int64"
      ]
     },
     "execution_count": 44,
     "metadata": {},
     "output_type": "execute_result"
    }
   ],
   "source": [
    "data.count()"
   ]
  },
  {
   "cell_type": "code",
   "execution_count": 45,
   "metadata": {},
   "outputs": [
    {
     "data": {
      "text/html": [
       "<div>\n",
       "<style scoped>\n",
       "    .dataframe tbody tr th:only-of-type {\n",
       "        vertical-align: middle;\n",
       "    }\n",
       "\n",
       "    .dataframe tbody tr th {\n",
       "        vertical-align: top;\n",
       "    }\n",
       "\n",
       "    .dataframe thead th {\n",
       "        text-align: right;\n",
       "    }\n",
       "</style>\n",
       "<table border=\"1\" class=\"dataframe\">\n",
       "  <thead>\n",
       "    <tr style=\"text-align: right;\">\n",
       "      <th></th>\n",
       "      <th>index</th>\n",
       "      <th>Lng</th>\n",
       "      <th>Lat</th>\n",
       "      <th>tradeTime</th>\n",
       "      <th>followers</th>\n",
       "      <th>totalPrice</th>\n",
       "      <th>square</th>\n",
       "      <th>bedRoom</th>\n",
       "      <th>drawingRoom</th>\n",
       "      <th>kitchen</th>\n",
       "      <th>...</th>\n",
       "      <th>constructionTime</th>\n",
       "      <th>renovationCondition</th>\n",
       "      <th>buildingStructure</th>\n",
       "      <th>ladderRatio</th>\n",
       "      <th>elevator</th>\n",
       "      <th>fiveYearsProperty</th>\n",
       "      <th>subway</th>\n",
       "      <th>district</th>\n",
       "      <th>floorloc</th>\n",
       "      <th>floorlayer</th>\n",
       "    </tr>\n",
       "  </thead>\n",
       "  <tbody>\n",
       "    <tr>\n",
       "      <th>0</th>\n",
       "      <td>0</td>\n",
       "      <td>116.122491</td>\n",
       "      <td>39.939735</td>\n",
       "      <td>2010-1-1</td>\n",
       "      <td>0</td>\n",
       "      <td>165.0</td>\n",
       "      <td>120.45</td>\n",
       "      <td>3</td>\n",
       "      <td>1</td>\n",
       "      <td>0</td>\n",
       "      <td>...</td>\n",
       "      <td>2008</td>\n",
       "      <td>4</td>\n",
       "      <td>6</td>\n",
       "      <td>0.333</td>\n",
       "      <td>1</td>\n",
       "      <td>0</td>\n",
       "      <td>0</td>\n",
       "      <td>12</td>\n",
       "      <td>高</td>\n",
       "      <td>12</td>\n",
       "    </tr>\n",
       "    <tr>\n",
       "      <th>1</th>\n",
       "      <td>1</td>\n",
       "      <td>116.122150</td>\n",
       "      <td>39.932268</td>\n",
       "      <td>2010-1-5</td>\n",
       "      <td>0</td>\n",
       "      <td>72.5</td>\n",
       "      <td>68.75</td>\n",
       "      <td>2</td>\n",
       "      <td>1</td>\n",
       "      <td>0</td>\n",
       "      <td>...</td>\n",
       "      <td>1998</td>\n",
       "      <td>3</td>\n",
       "      <td>2</td>\n",
       "      <td>0.500</td>\n",
       "      <td>0</td>\n",
       "      <td>0</td>\n",
       "      <td>0</td>\n",
       "      <td>12</td>\n",
       "      <td>高</td>\n",
       "      <td>6</td>\n",
       "    </tr>\n",
       "    <tr>\n",
       "      <th>2</th>\n",
       "      <td>2</td>\n",
       "      <td>116.111318</td>\n",
       "      <td>39.949921</td>\n",
       "      <td>2010-1-15</td>\n",
       "      <td>0</td>\n",
       "      <td>114.0</td>\n",
       "      <td>89.94</td>\n",
       "      <td>2</td>\n",
       "      <td>1</td>\n",
       "      <td>0</td>\n",
       "      <td>...</td>\n",
       "      <td>2003</td>\n",
       "      <td>3</td>\n",
       "      <td>2</td>\n",
       "      <td>0.500</td>\n",
       "      <td>0</td>\n",
       "      <td>0</td>\n",
       "      <td>0</td>\n",
       "      <td>12</td>\n",
       "      <td>底</td>\n",
       "      <td>6</td>\n",
       "    </tr>\n",
       "    <tr>\n",
       "      <th>3</th>\n",
       "      <td>3</td>\n",
       "      <td>116.119651</td>\n",
       "      <td>39.934504</td>\n",
       "      <td>2010-1-16</td>\n",
       "      <td>0</td>\n",
       "      <td>84.0</td>\n",
       "      <td>71.73</td>\n",
       "      <td>1</td>\n",
       "      <td>1</td>\n",
       "      <td>0</td>\n",
       "      <td>...</td>\n",
       "      <td>2005</td>\n",
       "      <td>3</td>\n",
       "      <td>6</td>\n",
       "      <td>0.333</td>\n",
       "      <td>1</td>\n",
       "      <td>0</td>\n",
       "      <td>0</td>\n",
       "      <td>12</td>\n",
       "      <td>中</td>\n",
       "      <td>11</td>\n",
       "    </tr>\n",
       "    <tr>\n",
       "      <th>4</th>\n",
       "      <td>4</td>\n",
       "      <td>116.121964</td>\n",
       "      <td>39.939762</td>\n",
       "      <td>2010-1-18</td>\n",
       "      <td>0</td>\n",
       "      <td>80.0</td>\n",
       "      <td>65.63</td>\n",
       "      <td>2</td>\n",
       "      <td>1</td>\n",
       "      <td>0</td>\n",
       "      <td>...</td>\n",
       "      <td>2003</td>\n",
       "      <td>3</td>\n",
       "      <td>2</td>\n",
       "      <td>0.500</td>\n",
       "      <td>0</td>\n",
       "      <td>0</td>\n",
       "      <td>0</td>\n",
       "      <td>12</td>\n",
       "      <td>高</td>\n",
       "      <td>6</td>\n",
       "    </tr>\n",
       "  </tbody>\n",
       "</table>\n",
       "<p>5 rows × 22 columns</p>\n",
       "</div>"
      ],
      "text/plain": [
       "   index         Lng        Lat  tradeTime  followers  totalPrice  square  \\\n",
       "0      0  116.122491  39.939735   2010-1-1          0       165.0  120.45   \n",
       "1      1  116.122150  39.932268   2010-1-5          0        72.5   68.75   \n",
       "2      2  116.111318  39.949921  2010-1-15          0       114.0   89.94   \n",
       "3      3  116.119651  39.934504  2010-1-16          0        84.0   71.73   \n",
       "4      4  116.121964  39.939762  2010-1-18          0        80.0   65.63   \n",
       "\n",
       "   bedRoom  drawingRoom  kitchen     ...      constructionTime  \\\n",
       "0        3            1        0     ...                  2008   \n",
       "1        2            1        0     ...                  1998   \n",
       "2        2            1        0     ...                  2003   \n",
       "3        1            1        0     ...                  2005   \n",
       "4        2            1        0     ...                  2003   \n",
       "\n",
       "   renovationCondition  buildingStructure  ladderRatio  elevator  \\\n",
       "0                    4                  6        0.333         1   \n",
       "1                    3                  2        0.500         0   \n",
       "2                    3                  2        0.500         0   \n",
       "3                    3                  6        0.333         1   \n",
       "4                    3                  2        0.500         0   \n",
       "\n",
       "   fiveYearsProperty  subway  district  floorloc  floorlayer  \n",
       "0                  0       0        12         高          12  \n",
       "1                  0       0        12         高           6  \n",
       "2                  0       0        12         底           6  \n",
       "3                  0       0        12         中          11  \n",
       "4                  0       0        12         高           6  \n",
       "\n",
       "[5 rows x 22 columns]"
      ]
     },
     "execution_count": 45,
     "metadata": {},
     "output_type": "execute_result"
    }
   ],
   "source": [
    "data.head()"
   ]
  },
  {
   "cell_type": "code",
   "execution_count": 46,
   "metadata": {},
   "outputs": [
    {
     "data": {
      "text/plain": [
       "index                  297775\n",
       "Lng                    297775\n",
       "Lat                    297775\n",
       "tradeTime              297775\n",
       "followers              297775\n",
       "totalPrice             297775\n",
       "square                 297775\n",
       "bedRoom                297775\n",
       "drawingRoom            297775\n",
       "kitchen                297775\n",
       "bathRoom               297775\n",
       "buildingType           297775\n",
       "constructionTime       297775\n",
       "renovationCondition    297775\n",
       "buildingStructure      297775\n",
       "ladderRatio            297775\n",
       "elevator               297775\n",
       "fiveYearsProperty      297775\n",
       "subway                 297775\n",
       "district               297775\n",
       "floorloc               297775\n",
       "floorlayer             297775\n",
       "dtype: int64"
      ]
     },
     "execution_count": 46,
     "metadata": {},
     "output_type": "execute_result"
    }
   ],
   "source": [
    "data.count()"
   ]
  },
  {
   "cell_type": "markdown",
   "metadata": {},
   "source": [
    "(2)对floorloc字段使用one-hot编码"
   ]
  },
  {
   "cell_type": "code",
   "execution_count": 47,
   "metadata": {},
   "outputs": [
    {
     "data": {
      "text/plain": [
       "中     112131\n",
       "高      65379\n",
       "低      59695\n",
       "顶      35653\n",
       "底      23928\n",
       "未知       989\n",
       "Name: floorloc, dtype: int64"
      ]
     },
     "execution_count": 47,
     "metadata": {},
     "output_type": "execute_result"
    }
   ],
   "source": [
    "data[\"floorloc\"].value_counts()"
   ]
  },
  {
   "cell_type": "markdown",
   "metadata": {},
   "source": [
    "发现这个字段共有6种类型"
   ]
  },
  {
   "cell_type": "markdown",
   "metadata": {},
   "source": [
    "将其他类别字段也按照one-hot进行编码处理"
   ]
  },
  {
   "cell_type": "code",
   "execution_count": 48,
   "metadata": {},
   "outputs": [],
   "source": [
    "data = pd.get_dummies(data, columns=[\"floorloc\", \"buildingType\", \"renovationCondition\", \"buildingStructure\"])"
   ]
  },
  {
   "cell_type": "code",
   "execution_count": 49,
   "metadata": {},
   "outputs": [
    {
     "data": {
      "text/html": [
       "<div>\n",
       "<style scoped>\n",
       "    .dataframe tbody tr th:only-of-type {\n",
       "        vertical-align: middle;\n",
       "    }\n",
       "\n",
       "    .dataframe tbody tr th {\n",
       "        vertical-align: top;\n",
       "    }\n",
       "\n",
       "    .dataframe thead th {\n",
       "        text-align: right;\n",
       "    }\n",
       "</style>\n",
       "<table border=\"1\" class=\"dataframe\">\n",
       "  <thead>\n",
       "    <tr style=\"text-align: right;\">\n",
       "      <th></th>\n",
       "      <th>index</th>\n",
       "      <th>Lng</th>\n",
       "      <th>Lat</th>\n",
       "      <th>tradeTime</th>\n",
       "      <th>followers</th>\n",
       "      <th>totalPrice</th>\n",
       "      <th>square</th>\n",
       "      <th>bedRoom</th>\n",
       "      <th>drawingRoom</th>\n",
       "      <th>kitchen</th>\n",
       "      <th>...</th>\n",
       "      <th>renovationCondition_1</th>\n",
       "      <th>renovationCondition_2</th>\n",
       "      <th>renovationCondition_3</th>\n",
       "      <th>renovationCondition_4</th>\n",
       "      <th>buildingStructure_1</th>\n",
       "      <th>buildingStructure_2</th>\n",
       "      <th>buildingStructure_3</th>\n",
       "      <th>buildingStructure_4</th>\n",
       "      <th>buildingStructure_5</th>\n",
       "      <th>buildingStructure_6</th>\n",
       "    </tr>\n",
       "  </thead>\n",
       "  <tbody>\n",
       "    <tr>\n",
       "      <th>0</th>\n",
       "      <td>0</td>\n",
       "      <td>116.122491</td>\n",
       "      <td>39.939735</td>\n",
       "      <td>2010-1-1</td>\n",
       "      <td>0</td>\n",
       "      <td>165.0</td>\n",
       "      <td>120.45</td>\n",
       "      <td>3</td>\n",
       "      <td>1</td>\n",
       "      <td>0</td>\n",
       "      <td>...</td>\n",
       "      <td>0</td>\n",
       "      <td>0</td>\n",
       "      <td>0</td>\n",
       "      <td>1</td>\n",
       "      <td>0</td>\n",
       "      <td>0</td>\n",
       "      <td>0</td>\n",
       "      <td>0</td>\n",
       "      <td>0</td>\n",
       "      <td>1</td>\n",
       "    </tr>\n",
       "    <tr>\n",
       "      <th>1</th>\n",
       "      <td>1</td>\n",
       "      <td>116.122150</td>\n",
       "      <td>39.932268</td>\n",
       "      <td>2010-1-5</td>\n",
       "      <td>0</td>\n",
       "      <td>72.5</td>\n",
       "      <td>68.75</td>\n",
       "      <td>2</td>\n",
       "      <td>1</td>\n",
       "      <td>0</td>\n",
       "      <td>...</td>\n",
       "      <td>0</td>\n",
       "      <td>0</td>\n",
       "      <td>1</td>\n",
       "      <td>0</td>\n",
       "      <td>0</td>\n",
       "      <td>1</td>\n",
       "      <td>0</td>\n",
       "      <td>0</td>\n",
       "      <td>0</td>\n",
       "      <td>0</td>\n",
       "    </tr>\n",
       "    <tr>\n",
       "      <th>2</th>\n",
       "      <td>2</td>\n",
       "      <td>116.111318</td>\n",
       "      <td>39.949921</td>\n",
       "      <td>2010-1-15</td>\n",
       "      <td>0</td>\n",
       "      <td>114.0</td>\n",
       "      <td>89.94</td>\n",
       "      <td>2</td>\n",
       "      <td>1</td>\n",
       "      <td>0</td>\n",
       "      <td>...</td>\n",
       "      <td>0</td>\n",
       "      <td>0</td>\n",
       "      <td>1</td>\n",
       "      <td>0</td>\n",
       "      <td>0</td>\n",
       "      <td>1</td>\n",
       "      <td>0</td>\n",
       "      <td>0</td>\n",
       "      <td>0</td>\n",
       "      <td>0</td>\n",
       "    </tr>\n",
       "    <tr>\n",
       "      <th>3</th>\n",
       "      <td>3</td>\n",
       "      <td>116.119651</td>\n",
       "      <td>39.934504</td>\n",
       "      <td>2010-1-16</td>\n",
       "      <td>0</td>\n",
       "      <td>84.0</td>\n",
       "      <td>71.73</td>\n",
       "      <td>1</td>\n",
       "      <td>1</td>\n",
       "      <td>0</td>\n",
       "      <td>...</td>\n",
       "      <td>0</td>\n",
       "      <td>0</td>\n",
       "      <td>1</td>\n",
       "      <td>0</td>\n",
       "      <td>0</td>\n",
       "      <td>0</td>\n",
       "      <td>0</td>\n",
       "      <td>0</td>\n",
       "      <td>0</td>\n",
       "      <td>1</td>\n",
       "    </tr>\n",
       "    <tr>\n",
       "      <th>4</th>\n",
       "      <td>4</td>\n",
       "      <td>116.121964</td>\n",
       "      <td>39.939762</td>\n",
       "      <td>2010-1-18</td>\n",
       "      <td>0</td>\n",
       "      <td>80.0</td>\n",
       "      <td>65.63</td>\n",
       "      <td>2</td>\n",
       "      <td>1</td>\n",
       "      <td>0</td>\n",
       "      <td>...</td>\n",
       "      <td>0</td>\n",
       "      <td>0</td>\n",
       "      <td>1</td>\n",
       "      <td>0</td>\n",
       "      <td>0</td>\n",
       "      <td>1</td>\n",
       "      <td>0</td>\n",
       "      <td>0</td>\n",
       "      <td>0</td>\n",
       "      <td>0</td>\n",
       "    </tr>\n",
       "  </tbody>\n",
       "</table>\n",
       "<p>5 rows × 38 columns</p>\n",
       "</div>"
      ],
      "text/plain": [
       "   index         Lng        Lat  tradeTime  followers  totalPrice  square  \\\n",
       "0      0  116.122491  39.939735   2010-1-1          0       165.0  120.45   \n",
       "1      1  116.122150  39.932268   2010-1-5          0        72.5   68.75   \n",
       "2      2  116.111318  39.949921  2010-1-15          0       114.0   89.94   \n",
       "3      3  116.119651  39.934504  2010-1-16          0        84.0   71.73   \n",
       "4      4  116.121964  39.939762  2010-1-18          0        80.0   65.63   \n",
       "\n",
       "   bedRoom  drawingRoom  kitchen         ...           renovationCondition_1  \\\n",
       "0        3            1        0         ...                               0   \n",
       "1        2            1        0         ...                               0   \n",
       "2        2            1        0         ...                               0   \n",
       "3        1            1        0         ...                               0   \n",
       "4        2            1        0         ...                               0   \n",
       "\n",
       "   renovationCondition_2  renovationCondition_3  renovationCondition_4  \\\n",
       "0                      0                      0                      1   \n",
       "1                      0                      1                      0   \n",
       "2                      0                      1                      0   \n",
       "3                      0                      1                      0   \n",
       "4                      0                      1                      0   \n",
       "\n",
       "   buildingStructure_1  buildingStructure_2  buildingStructure_3  \\\n",
       "0                    0                    0                    0   \n",
       "1                    0                    1                    0   \n",
       "2                    0                    1                    0   \n",
       "3                    0                    0                    0   \n",
       "4                    0                    1                    0   \n",
       "\n",
       "   buildingStructure_4  buildingStructure_5  buildingStructure_6  \n",
       "0                    0                    0                    1  \n",
       "1                    0                    0                    0  \n",
       "2                    0                    0                    0  \n",
       "3                    0                    0                    1  \n",
       "4                    0                    0                    0  \n",
       "\n",
       "[5 rows x 38 columns]"
      ]
     },
     "execution_count": 49,
     "metadata": {},
     "output_type": "execute_result"
    }
   ],
   "source": [
    "data.head()"
   ]
  },
  {
   "cell_type": "markdown",
   "metadata": {},
   "source": [
    "（4）绘制房价随时间变化的图像"
   ]
  },
  {
   "cell_type": "code",
   "execution_count": 50,
   "metadata": {},
   "outputs": [],
   "source": [
    "price = data[[\"tradeTime\", \"totalPrice\"]]"
   ]
  },
  {
   "cell_type": "code",
   "execution_count": 51,
   "metadata": {},
   "outputs": [
    {
     "data": {
      "text/html": [
       "<div>\n",
       "<style scoped>\n",
       "    .dataframe tbody tr th:only-of-type {\n",
       "        vertical-align: middle;\n",
       "    }\n",
       "\n",
       "    .dataframe tbody tr th {\n",
       "        vertical-align: top;\n",
       "    }\n",
       "\n",
       "    .dataframe thead th {\n",
       "        text-align: right;\n",
       "    }\n",
       "</style>\n",
       "<table border=\"1\" class=\"dataframe\">\n",
       "  <thead>\n",
       "    <tr style=\"text-align: right;\">\n",
       "      <th></th>\n",
       "      <th>tradeTime</th>\n",
       "      <th>totalPrice</th>\n",
       "    </tr>\n",
       "  </thead>\n",
       "  <tbody>\n",
       "    <tr>\n",
       "      <th>0</th>\n",
       "      <td>2010-1-1</td>\n",
       "      <td>165.0</td>\n",
       "    </tr>\n",
       "    <tr>\n",
       "      <th>1</th>\n",
       "      <td>2010-1-5</td>\n",
       "      <td>72.5</td>\n",
       "    </tr>\n",
       "    <tr>\n",
       "      <th>2</th>\n",
       "      <td>2010-1-15</td>\n",
       "      <td>114.0</td>\n",
       "    </tr>\n",
       "    <tr>\n",
       "      <th>3</th>\n",
       "      <td>2010-1-16</td>\n",
       "      <td>84.0</td>\n",
       "    </tr>\n",
       "    <tr>\n",
       "      <th>4</th>\n",
       "      <td>2010-1-18</td>\n",
       "      <td>80.0</td>\n",
       "    </tr>\n",
       "    <tr>\n",
       "      <th>5</th>\n",
       "      <td>2010-1-24</td>\n",
       "      <td>110.0</td>\n",
       "    </tr>\n",
       "    <tr>\n",
       "      <th>6</th>\n",
       "      <td>2010-1-24</td>\n",
       "      <td>163.0</td>\n",
       "    </tr>\n",
       "    <tr>\n",
       "      <th>7</th>\n",
       "      <td>2010-1-24</td>\n",
       "      <td>141.5</td>\n",
       "    </tr>\n",
       "    <tr>\n",
       "      <th>8</th>\n",
       "      <td>2010-1-27</td>\n",
       "      <td>69.0</td>\n",
       "    </tr>\n",
       "    <tr>\n",
       "      <th>9</th>\n",
       "      <td>2010-1-29</td>\n",
       "      <td>51.0</td>\n",
       "    </tr>\n",
       "    <tr>\n",
       "      <th>10</th>\n",
       "      <td>2010-1-30</td>\n",
       "      <td>115.5</td>\n",
       "    </tr>\n",
       "    <tr>\n",
       "      <th>11</th>\n",
       "      <td>2010-1-30</td>\n",
       "      <td>60.0</td>\n",
       "    </tr>\n",
       "    <tr>\n",
       "      <th>12</th>\n",
       "      <td>2010-2-2</td>\n",
       "      <td>147.0</td>\n",
       "    </tr>\n",
       "    <tr>\n",
       "      <th>13</th>\n",
       "      <td>2010-2-8</td>\n",
       "      <td>80.8</td>\n",
       "    </tr>\n",
       "    <tr>\n",
       "      <th>14</th>\n",
       "      <td>2010-2-8</td>\n",
       "      <td>69.0</td>\n",
       "    </tr>\n",
       "    <tr>\n",
       "      <th>15</th>\n",
       "      <td>2010-2-8</td>\n",
       "      <td>118.0</td>\n",
       "    </tr>\n",
       "    <tr>\n",
       "      <th>16</th>\n",
       "      <td>2010-2-12</td>\n",
       "      <td>113.8</td>\n",
       "    </tr>\n",
       "    <tr>\n",
       "      <th>17</th>\n",
       "      <td>2010-2-20</td>\n",
       "      <td>128.3</td>\n",
       "    </tr>\n",
       "    <tr>\n",
       "      <th>18</th>\n",
       "      <td>2010-2-20</td>\n",
       "      <td>139.0</td>\n",
       "    </tr>\n",
       "    <tr>\n",
       "      <th>19</th>\n",
       "      <td>2010-2-21</td>\n",
       "      <td>56.5</td>\n",
       "    </tr>\n",
       "    <tr>\n",
       "      <th>20</th>\n",
       "      <td>2010-2-23</td>\n",
       "      <td>86.5</td>\n",
       "    </tr>\n",
       "    <tr>\n",
       "      <th>21</th>\n",
       "      <td>2010-2-24</td>\n",
       "      <td>74.5</td>\n",
       "    </tr>\n",
       "    <tr>\n",
       "      <th>22</th>\n",
       "      <td>2010-2-25</td>\n",
       "      <td>101.0</td>\n",
       "    </tr>\n",
       "    <tr>\n",
       "      <th>23</th>\n",
       "      <td>2010-2-26</td>\n",
       "      <td>119.0</td>\n",
       "    </tr>\n",
       "    <tr>\n",
       "      <th>24</th>\n",
       "      <td>2010-2-27</td>\n",
       "      <td>52.0</td>\n",
       "    </tr>\n",
       "    <tr>\n",
       "      <th>25</th>\n",
       "      <td>2010-2-28</td>\n",
       "      <td>98.0</td>\n",
       "    </tr>\n",
       "    <tr>\n",
       "      <th>26</th>\n",
       "      <td>2010-3-1</td>\n",
       "      <td>137.0</td>\n",
       "    </tr>\n",
       "    <tr>\n",
       "      <th>27</th>\n",
       "      <td>2010-3-2</td>\n",
       "      <td>98.0</td>\n",
       "    </tr>\n",
       "    <tr>\n",
       "      <th>28</th>\n",
       "      <td>2010-3-2</td>\n",
       "      <td>99.0</td>\n",
       "    </tr>\n",
       "    <tr>\n",
       "      <th>29</th>\n",
       "      <td>2010-3-3</td>\n",
       "      <td>90.0</td>\n",
       "    </tr>\n",
       "    <tr>\n",
       "      <th>...</th>\n",
       "      <td>...</td>\n",
       "      <td>...</td>\n",
       "    </tr>\n",
       "    <tr>\n",
       "      <th>297745</th>\n",
       "      <td>2018-1-3</td>\n",
       "      <td>254.0</td>\n",
       "    </tr>\n",
       "    <tr>\n",
       "      <th>297746</th>\n",
       "      <td>2018-1-3</td>\n",
       "      <td>316.0</td>\n",
       "    </tr>\n",
       "    <tr>\n",
       "      <th>297747</th>\n",
       "      <td>2018-1-3</td>\n",
       "      <td>387.0</td>\n",
       "    </tr>\n",
       "    <tr>\n",
       "      <th>297748</th>\n",
       "      <td>2018-1-3</td>\n",
       "      <td>396.0</td>\n",
       "    </tr>\n",
       "    <tr>\n",
       "      <th>297749</th>\n",
       "      <td>2018-1-3</td>\n",
       "      <td>431.0</td>\n",
       "    </tr>\n",
       "    <tr>\n",
       "      <th>297750</th>\n",
       "      <td>2018-1-3</td>\n",
       "      <td>665.0</td>\n",
       "    </tr>\n",
       "    <tr>\n",
       "      <th>297751</th>\n",
       "      <td>2018-1-3</td>\n",
       "      <td>239.0</td>\n",
       "    </tr>\n",
       "    <tr>\n",
       "      <th>297752</th>\n",
       "      <td>2018-1-3</td>\n",
       "      <td>260.0</td>\n",
       "    </tr>\n",
       "    <tr>\n",
       "      <th>297753</th>\n",
       "      <td>2018-1-3</td>\n",
       "      <td>354.5</td>\n",
       "    </tr>\n",
       "    <tr>\n",
       "      <th>297754</th>\n",
       "      <td>2018-1-3</td>\n",
       "      <td>365.0</td>\n",
       "    </tr>\n",
       "    <tr>\n",
       "      <th>297755</th>\n",
       "      <td>2018-1-3</td>\n",
       "      <td>479.0</td>\n",
       "    </tr>\n",
       "    <tr>\n",
       "      <th>297756</th>\n",
       "      <td>2018-1-3</td>\n",
       "      <td>507.0</td>\n",
       "    </tr>\n",
       "    <tr>\n",
       "      <th>297757</th>\n",
       "      <td>2018-1-3</td>\n",
       "      <td>174.0</td>\n",
       "    </tr>\n",
       "    <tr>\n",
       "      <th>297758</th>\n",
       "      <td>2018-1-3</td>\n",
       "      <td>330.0</td>\n",
       "    </tr>\n",
       "    <tr>\n",
       "      <th>297759</th>\n",
       "      <td>2018-1-3</td>\n",
       "      <td>735.0</td>\n",
       "    </tr>\n",
       "    <tr>\n",
       "      <th>297760</th>\n",
       "      <td>2018-1-3</td>\n",
       "      <td>330.0</td>\n",
       "    </tr>\n",
       "    <tr>\n",
       "      <th>297761</th>\n",
       "      <td>2018-1-3</td>\n",
       "      <td>666.0</td>\n",
       "    </tr>\n",
       "    <tr>\n",
       "      <th>297762</th>\n",
       "      <td>2018-1-3</td>\n",
       "      <td>1460.0</td>\n",
       "    </tr>\n",
       "    <tr>\n",
       "      <th>297763</th>\n",
       "      <td>2018-1-3</td>\n",
       "      <td>211.0</td>\n",
       "    </tr>\n",
       "    <tr>\n",
       "      <th>297764</th>\n",
       "      <td>2018-1-3</td>\n",
       "      <td>219.0</td>\n",
       "    </tr>\n",
       "    <tr>\n",
       "      <th>297765</th>\n",
       "      <td>2018-1-3</td>\n",
       "      <td>305.0</td>\n",
       "    </tr>\n",
       "    <tr>\n",
       "      <th>297766</th>\n",
       "      <td>2018-1-3</td>\n",
       "      <td>300.0</td>\n",
       "    </tr>\n",
       "    <tr>\n",
       "      <th>297767</th>\n",
       "      <td>2018-1-3</td>\n",
       "      <td>571.0</td>\n",
       "    </tr>\n",
       "    <tr>\n",
       "      <th>297768</th>\n",
       "      <td>2018-1-19</td>\n",
       "      <td>545.0</td>\n",
       "    </tr>\n",
       "    <tr>\n",
       "      <th>297769</th>\n",
       "      <td>2018-1-20</td>\n",
       "      <td>255.0</td>\n",
       "    </tr>\n",
       "    <tr>\n",
       "      <th>297770</th>\n",
       "      <td>2018-1-22</td>\n",
       "      <td>830.0</td>\n",
       "    </tr>\n",
       "    <tr>\n",
       "      <th>297771</th>\n",
       "      <td>2018-1-22</td>\n",
       "      <td>261.0</td>\n",
       "    </tr>\n",
       "    <tr>\n",
       "      <th>297772</th>\n",
       "      <td>2018-1-24</td>\n",
       "      <td>460.0</td>\n",
       "    </tr>\n",
       "    <tr>\n",
       "      <th>297773</th>\n",
       "      <td>2018-1-26</td>\n",
       "      <td>410.0</td>\n",
       "    </tr>\n",
       "    <tr>\n",
       "      <th>297774</th>\n",
       "      <td>2018-1-28</td>\n",
       "      <td>345.0</td>\n",
       "    </tr>\n",
       "  </tbody>\n",
       "</table>\n",
       "<p>297775 rows × 2 columns</p>\n",
       "</div>"
      ],
      "text/plain": [
       "        tradeTime  totalPrice\n",
       "0        2010-1-1       165.0\n",
       "1        2010-1-5        72.5\n",
       "2       2010-1-15       114.0\n",
       "3       2010-1-16        84.0\n",
       "4       2010-1-18        80.0\n",
       "5       2010-1-24       110.0\n",
       "6       2010-1-24       163.0\n",
       "7       2010-1-24       141.5\n",
       "8       2010-1-27        69.0\n",
       "9       2010-1-29        51.0\n",
       "10      2010-1-30       115.5\n",
       "11      2010-1-30        60.0\n",
       "12       2010-2-2       147.0\n",
       "13       2010-2-8        80.8\n",
       "14       2010-2-8        69.0\n",
       "15       2010-2-8       118.0\n",
       "16      2010-2-12       113.8\n",
       "17      2010-2-20       128.3\n",
       "18      2010-2-20       139.0\n",
       "19      2010-2-21        56.5\n",
       "20      2010-2-23        86.5\n",
       "21      2010-2-24        74.5\n",
       "22      2010-2-25       101.0\n",
       "23      2010-2-26       119.0\n",
       "24      2010-2-27        52.0\n",
       "25      2010-2-28        98.0\n",
       "26       2010-3-1       137.0\n",
       "27       2010-3-2        98.0\n",
       "28       2010-3-2        99.0\n",
       "29       2010-3-3        90.0\n",
       "...           ...         ...\n",
       "297745   2018-1-3       254.0\n",
       "297746   2018-1-3       316.0\n",
       "297747   2018-1-3       387.0\n",
       "297748   2018-1-3       396.0\n",
       "297749   2018-1-3       431.0\n",
       "297750   2018-1-3       665.0\n",
       "297751   2018-1-3       239.0\n",
       "297752   2018-1-3       260.0\n",
       "297753   2018-1-3       354.5\n",
       "297754   2018-1-3       365.0\n",
       "297755   2018-1-3       479.0\n",
       "297756   2018-1-3       507.0\n",
       "297757   2018-1-3       174.0\n",
       "297758   2018-1-3       330.0\n",
       "297759   2018-1-3       735.0\n",
       "297760   2018-1-3       330.0\n",
       "297761   2018-1-3       666.0\n",
       "297762   2018-1-3      1460.0\n",
       "297763   2018-1-3       211.0\n",
       "297764   2018-1-3       219.0\n",
       "297765   2018-1-3       305.0\n",
       "297766   2018-1-3       300.0\n",
       "297767   2018-1-3       571.0\n",
       "297768  2018-1-19       545.0\n",
       "297769  2018-1-20       255.0\n",
       "297770  2018-1-22       830.0\n",
       "297771  2018-1-22       261.0\n",
       "297772  2018-1-24       460.0\n",
       "297773  2018-1-26       410.0\n",
       "297774  2018-1-28       345.0\n",
       "\n",
       "[297775 rows x 2 columns]"
      ]
     },
     "execution_count": 51,
     "metadata": {},
     "output_type": "execute_result"
    }
   ],
   "source": [
    "price"
   ]
  },
  {
   "cell_type": "code",
   "execution_count": 52,
   "metadata": {},
   "outputs": [],
   "source": [
    "group = price.groupby(price[\"tradeTime\"])"
   ]
  },
  {
   "cell_type": "code",
   "execution_count": 53,
   "metadata": {},
   "outputs": [],
   "source": [
    "means = group.mean()[\"totalPrice\"]"
   ]
  },
  {
   "cell_type": "markdown",
   "metadata": {},
   "source": [
    "通过group.mean()方法计算出来的均值是Series类型的，需要手动转化为DataFrame类型"
   ]
  },
  {
   "cell_type": "code",
   "execution_count": 54,
   "metadata": {},
   "outputs": [],
   "source": [
    "meanData = pd.DataFrame(means, columns=[\"totalPrice\"])"
   ]
  },
  {
   "cell_type": "code",
   "execution_count": 55,
   "metadata": {},
   "outputs": [
    {
     "data": {
      "text/html": [
       "<div>\n",
       "<style scoped>\n",
       "    .dataframe tbody tr th:only-of-type {\n",
       "        vertical-align: middle;\n",
       "    }\n",
       "\n",
       "    .dataframe tbody tr th {\n",
       "        vertical-align: top;\n",
       "    }\n",
       "\n",
       "    .dataframe thead th {\n",
       "        text-align: right;\n",
       "    }\n",
       "</style>\n",
       "<table border=\"1\" class=\"dataframe\">\n",
       "  <thead>\n",
       "    <tr style=\"text-align: right;\">\n",
       "      <th></th>\n",
       "      <th>totalPrice</th>\n",
       "    </tr>\n",
       "    <tr>\n",
       "      <th>tradeTime</th>\n",
       "      <th></th>\n",
       "    </tr>\n",
       "  </thead>\n",
       "  <tbody>\n",
       "    <tr>\n",
       "      <th>2010-1-1</th>\n",
       "      <td>165.000000</td>\n",
       "    </tr>\n",
       "    <tr>\n",
       "      <th>2010-1-15</th>\n",
       "      <td>114.000000</td>\n",
       "    </tr>\n",
       "    <tr>\n",
       "      <th>2010-1-16</th>\n",
       "      <td>84.000000</td>\n",
       "    </tr>\n",
       "    <tr>\n",
       "      <th>2010-1-18</th>\n",
       "      <td>80.000000</td>\n",
       "    </tr>\n",
       "    <tr>\n",
       "      <th>2010-1-24</th>\n",
       "      <td>138.166667</td>\n",
       "    </tr>\n",
       "  </tbody>\n",
       "</table>\n",
       "</div>"
      ],
      "text/plain": [
       "           totalPrice\n",
       "tradeTime            \n",
       "2010-1-1   165.000000\n",
       "2010-1-15  114.000000\n",
       "2010-1-16   84.000000\n",
       "2010-1-18   80.000000\n",
       "2010-1-24  138.166667"
      ]
     },
     "execution_count": 55,
     "metadata": {},
     "output_type": "execute_result"
    }
   ],
   "source": [
    "meanData.head()"
   ]
  },
  {
   "cell_type": "markdown",
   "metadata": {},
   "source": [
    "索引就是每天的日期数据，存储为datetime，此时是index索引类型，需要手动转换"
   ]
  },
  {
   "cell_type": "code",
   "execution_count": 56,
   "metadata": {},
   "outputs": [],
   "source": [
    "datetime = meanData.index.values"
   ]
  },
  {
   "cell_type": "code",
   "execution_count": 57,
   "metadata": {},
   "outputs": [],
   "source": [
    "datetimeDF = pd.DataFrame(datetime, columns=[\"datetime\"])"
   ]
  },
  {
   "cell_type": "markdown",
   "metadata": {},
   "source": [
    "和meanData合并，此时需要充值meanData的索引"
   ]
  },
  {
   "cell_type": "code",
   "execution_count": 58,
   "metadata": {},
   "outputs": [],
   "source": [
    "meanData.reset_index(inplace=True,drop=True)"
   ]
  },
  {
   "cell_type": "code",
   "execution_count": 59,
   "metadata": {},
   "outputs": [],
   "source": [
    "meanprice = pd.concat([datetimeDF, meanData], axis=1, join_axes=[datetimeDF.index])"
   ]
  },
  {
   "cell_type": "code",
   "execution_count": 60,
   "metadata": {},
   "outputs": [
    {
     "data": {
      "text/html": [
       "<div>\n",
       "<style scoped>\n",
       "    .dataframe tbody tr th:only-of-type {\n",
       "        vertical-align: middle;\n",
       "    }\n",
       "\n",
       "    .dataframe tbody tr th {\n",
       "        vertical-align: top;\n",
       "    }\n",
       "\n",
       "    .dataframe thead th {\n",
       "        text-align: right;\n",
       "    }\n",
       "</style>\n",
       "<table border=\"1\" class=\"dataframe\">\n",
       "  <thead>\n",
       "    <tr style=\"text-align: right;\">\n",
       "      <th></th>\n",
       "      <th>datetime</th>\n",
       "      <th>totalPrice</th>\n",
       "    </tr>\n",
       "  </thead>\n",
       "  <tbody>\n",
       "    <tr>\n",
       "      <th>0</th>\n",
       "      <td>2010-1-1</td>\n",
       "      <td>165.000000</td>\n",
       "    </tr>\n",
       "    <tr>\n",
       "      <th>1</th>\n",
       "      <td>2010-1-15</td>\n",
       "      <td>114.000000</td>\n",
       "    </tr>\n",
       "    <tr>\n",
       "      <th>2</th>\n",
       "      <td>2010-1-16</td>\n",
       "      <td>84.000000</td>\n",
       "    </tr>\n",
       "    <tr>\n",
       "      <th>3</th>\n",
       "      <td>2010-1-18</td>\n",
       "      <td>80.000000</td>\n",
       "    </tr>\n",
       "    <tr>\n",
       "      <th>4</th>\n",
       "      <td>2010-1-24</td>\n",
       "      <td>138.166667</td>\n",
       "    </tr>\n",
       "  </tbody>\n",
       "</table>\n",
       "</div>"
      ],
      "text/plain": [
       "    datetime  totalPrice\n",
       "0   2010-1-1  165.000000\n",
       "1  2010-1-15  114.000000\n",
       "2  2010-1-16   84.000000\n",
       "3  2010-1-18   80.000000\n",
       "4  2010-1-24  138.166667"
      ]
     },
     "execution_count": 60,
     "metadata": {},
     "output_type": "execute_result"
    }
   ],
   "source": [
    "meanprice.head()"
   ]
  },
  {
   "cell_type": "code",
   "execution_count": 61,
   "metadata": {},
   "outputs": [
    {
     "data": {
      "text/plain": [
       "(2545, 2)"
      ]
     },
     "execution_count": 61,
     "metadata": {},
     "output_type": "execute_result"
    }
   ],
   "source": [
    "meanprice.shape"
   ]
  },
  {
   "cell_type": "markdown",
   "metadata": {},
   "source": [
    "考虑到绘制每日的数据量有点太大了，改为计算每月的均值"
   ]
  },
  {
   "cell_type": "code",
   "execution_count": 62,
   "metadata": {},
   "outputs": [],
   "source": [
    "meanprice[\"datetime\"] = pd.to_datetime(meanprice[\"datetime\"], format=\"%Y-%m-%d\")"
   ]
  },
  {
   "cell_type": "code",
   "execution_count": 63,
   "metadata": {},
   "outputs": [],
   "source": [
    "meanprice[\"year\"] = pd.DatetimeIndex(meanprice.datetime).year\n",
    "meanprice[\"month\"] = pd.DatetimeIndex(meanprice.datetime).month"
   ]
  },
  {
   "cell_type": "code",
   "execution_count": 64,
   "metadata": {},
   "outputs": [],
   "source": [
    "meanprice[\"month\"] = meanprice[\"month\"].map(lambda x:(\"%02d\")%x)"
   ]
  },
  {
   "cell_type": "code",
   "execution_count": 65,
   "metadata": {},
   "outputs": [],
   "source": [
    "meanprice[\"datetime\"] = meanprice[\"year\"].map(str) + meanprice[\"month\"].map(str)"
   ]
  },
  {
   "cell_type": "code",
   "execution_count": 66,
   "metadata": {},
   "outputs": [
    {
     "data": {
      "text/html": [
       "<div>\n",
       "<style scoped>\n",
       "    .dataframe tbody tr th:only-of-type {\n",
       "        vertical-align: middle;\n",
       "    }\n",
       "\n",
       "    .dataframe tbody tr th {\n",
       "        vertical-align: top;\n",
       "    }\n",
       "\n",
       "    .dataframe thead th {\n",
       "        text-align: right;\n",
       "    }\n",
       "</style>\n",
       "<table border=\"1\" class=\"dataframe\">\n",
       "  <thead>\n",
       "    <tr style=\"text-align: right;\">\n",
       "      <th></th>\n",
       "      <th>datetime</th>\n",
       "      <th>totalPrice</th>\n",
       "      <th>year</th>\n",
       "      <th>month</th>\n",
       "    </tr>\n",
       "  </thead>\n",
       "  <tbody>\n",
       "    <tr>\n",
       "      <th>0</th>\n",
       "      <td>201001</td>\n",
       "      <td>165.000000</td>\n",
       "      <td>2010</td>\n",
       "      <td>01</td>\n",
       "    </tr>\n",
       "    <tr>\n",
       "      <th>1</th>\n",
       "      <td>201001</td>\n",
       "      <td>114.000000</td>\n",
       "      <td>2010</td>\n",
       "      <td>01</td>\n",
       "    </tr>\n",
       "    <tr>\n",
       "      <th>2</th>\n",
       "      <td>201001</td>\n",
       "      <td>84.000000</td>\n",
       "      <td>2010</td>\n",
       "      <td>01</td>\n",
       "    </tr>\n",
       "    <tr>\n",
       "      <th>3</th>\n",
       "      <td>201001</td>\n",
       "      <td>80.000000</td>\n",
       "      <td>2010</td>\n",
       "      <td>01</td>\n",
       "    </tr>\n",
       "    <tr>\n",
       "      <th>4</th>\n",
       "      <td>201001</td>\n",
       "      <td>138.166667</td>\n",
       "      <td>2010</td>\n",
       "      <td>01</td>\n",
       "    </tr>\n",
       "  </tbody>\n",
       "</table>\n",
       "</div>"
      ],
      "text/plain": [
       "  datetime  totalPrice  year month\n",
       "0   201001  165.000000  2010    01\n",
       "1   201001  114.000000  2010    01\n",
       "2   201001   84.000000  2010    01\n",
       "3   201001   80.000000  2010    01\n",
       "4   201001  138.166667  2010    01"
      ]
     },
     "execution_count": 66,
     "metadata": {},
     "output_type": "execute_result"
    }
   ],
   "source": [
    "meanprice.head()"
   ]
  },
  {
   "cell_type": "code",
   "execution_count": 67,
   "metadata": {},
   "outputs": [],
   "source": [
    "meanprice = meanprice.drop([\"year\", \"month\"], axis=1)"
   ]
  },
  {
   "cell_type": "code",
   "execution_count": 68,
   "metadata": {},
   "outputs": [],
   "source": [
    "group = meanprice.groupby(meanprice[\"datetime\"])"
   ]
  },
  {
   "cell_type": "code",
   "execution_count": 69,
   "metadata": {},
   "outputs": [],
   "source": [
    "means = group.mean()[\"totalPrice\"]"
   ]
  },
  {
   "cell_type": "code",
   "execution_count": 70,
   "metadata": {},
   "outputs": [],
   "source": [
    "meanData = pd.DataFrame(means, columns=[\"totalPrice\"])"
   ]
  },
  {
   "cell_type": "code",
   "execution_count": 71,
   "metadata": {},
   "outputs": [
    {
     "data": {
      "text/html": [
       "<div>\n",
       "<style scoped>\n",
       "    .dataframe tbody tr th:only-of-type {\n",
       "        vertical-align: middle;\n",
       "    }\n",
       "\n",
       "    .dataframe tbody tr th {\n",
       "        vertical-align: top;\n",
       "    }\n",
       "\n",
       "    .dataframe thead th {\n",
       "        text-align: right;\n",
       "    }\n",
       "</style>\n",
       "<table border=\"1\" class=\"dataframe\">\n",
       "  <thead>\n",
       "    <tr style=\"text-align: right;\">\n",
       "      <th></th>\n",
       "      <th>totalPrice</th>\n",
       "    </tr>\n",
       "    <tr>\n",
       "      <th>datetime</th>\n",
       "      <th></th>\n",
       "    </tr>\n",
       "  </thead>\n",
       "  <tbody>\n",
       "    <tr>\n",
       "      <th>201001</th>\n",
       "      <td>95.712963</td>\n",
       "    </tr>\n",
       "    <tr>\n",
       "      <th>201002</th>\n",
       "      <td>97.383333</td>\n",
       "    </tr>\n",
       "    <tr>\n",
       "      <th>201003</th>\n",
       "      <td>109.418478</td>\n",
       "    </tr>\n",
       "    <tr>\n",
       "      <th>201004</th>\n",
       "      <td>144.325641</td>\n",
       "    </tr>\n",
       "    <tr>\n",
       "      <th>201005</th>\n",
       "      <td>135.000000</td>\n",
       "    </tr>\n",
       "  </tbody>\n",
       "</table>\n",
       "</div>"
      ],
      "text/plain": [
       "          totalPrice\n",
       "datetime            \n",
       "201001     95.712963\n",
       "201002     97.383333\n",
       "201003    109.418478\n",
       "201004    144.325641\n",
       "201005    135.000000"
      ]
     },
     "execution_count": 71,
     "metadata": {},
     "output_type": "execute_result"
    }
   ],
   "source": [
    "meanData.head()"
   ]
  },
  {
   "cell_type": "code",
   "execution_count": 72,
   "metadata": {},
   "outputs": [],
   "source": [
    "datetime = meanData.index.values"
   ]
  },
  {
   "cell_type": "code",
   "execution_count": 73,
   "metadata": {},
   "outputs": [],
   "source": [
    "datetimeDF = pd.DataFrame(datetime, columns=[\"datetime\"])"
   ]
  },
  {
   "cell_type": "code",
   "execution_count": 74,
   "metadata": {},
   "outputs": [],
   "source": [
    "meanData.reset_index(inplace=True,drop=True)"
   ]
  },
  {
   "cell_type": "code",
   "execution_count": 75,
   "metadata": {},
   "outputs": [],
   "source": [
    "meanprice = pd.concat([datetimeDF, meanData], axis=1, join_axes=[datetimeDF.index])"
   ]
  },
  {
   "cell_type": "code",
   "execution_count": 76,
   "metadata": {},
   "outputs": [
    {
     "data": {
      "text/html": [
       "<div>\n",
       "<style scoped>\n",
       "    .dataframe tbody tr th:only-of-type {\n",
       "        vertical-align: middle;\n",
       "    }\n",
       "\n",
       "    .dataframe tbody tr th {\n",
       "        vertical-align: top;\n",
       "    }\n",
       "\n",
       "    .dataframe thead th {\n",
       "        text-align: right;\n",
       "    }\n",
       "</style>\n",
       "<table border=\"1\" class=\"dataframe\">\n",
       "  <thead>\n",
       "    <tr style=\"text-align: right;\">\n",
       "      <th></th>\n",
       "      <th>datetime</th>\n",
       "      <th>totalPrice</th>\n",
       "    </tr>\n",
       "  </thead>\n",
       "  <tbody>\n",
       "    <tr>\n",
       "      <th>0</th>\n",
       "      <td>201001</td>\n",
       "      <td>95.712963</td>\n",
       "    </tr>\n",
       "    <tr>\n",
       "      <th>1</th>\n",
       "      <td>201002</td>\n",
       "      <td>97.383333</td>\n",
       "    </tr>\n",
       "    <tr>\n",
       "      <th>2</th>\n",
       "      <td>201003</td>\n",
       "      <td>109.418478</td>\n",
       "    </tr>\n",
       "    <tr>\n",
       "      <th>3</th>\n",
       "      <td>201004</td>\n",
       "      <td>144.325641</td>\n",
       "    </tr>\n",
       "    <tr>\n",
       "      <th>4</th>\n",
       "      <td>201005</td>\n",
       "      <td>135.000000</td>\n",
       "    </tr>\n",
       "  </tbody>\n",
       "</table>\n",
       "</div>"
      ],
      "text/plain": [
       "  datetime  totalPrice\n",
       "0   201001   95.712963\n",
       "1   201002   97.383333\n",
       "2   201003  109.418478\n",
       "3   201004  144.325641\n",
       "4   201005  135.000000"
      ]
     },
     "execution_count": 76,
     "metadata": {},
     "output_type": "execute_result"
    }
   ],
   "source": [
    "meanprice.head()"
   ]
  },
  {
   "cell_type": "code",
   "execution_count": 77,
   "metadata": {},
   "outputs": [
    {
     "data": {
      "text/plain": [
       "(97, 2)"
      ]
     },
     "execution_count": 77,
     "metadata": {},
     "output_type": "execute_result"
    }
   ],
   "source": [
    "meanprice.shape"
   ]
  },
  {
   "cell_type": "code",
   "execution_count": 78,
   "metadata": {},
   "outputs": [],
   "source": [
    "meanprice[\"datetime\"] = pd.to_datetime(meanprice[\"datetime\"], format=\"%Y%m\")"
   ]
  },
  {
   "cell_type": "code",
   "execution_count": 79,
   "metadata": {},
   "outputs": [],
   "source": [
    "meanprice = meanprice.set_index(\"datetime\")"
   ]
  },
  {
   "cell_type": "code",
   "execution_count": 80,
   "metadata": {},
   "outputs": [],
   "source": [
    "meandataIndex = meanprice.index"
   ]
  },
  {
   "cell_type": "code",
   "execution_count": 81,
   "metadata": {},
   "outputs": [
    {
     "data": {
      "text/plain": [
       "Timestamp('2018-01-01 00:00:00')"
      ]
     },
     "execution_count": 81,
     "metadata": {},
     "output_type": "execute_result"
    }
   ],
   "source": [
    "meandataIndex.max()"
   ]
  },
  {
   "cell_type": "code",
   "execution_count": 82,
   "metadata": {},
   "outputs": [
    {
     "name": "stdout",
     "output_type": "stream",
     "text": [
      "Using matplotlib backend: Qt5Agg\n"
     ]
    }
   ],
   "source": [
    "%matplotlib"
   ]
  },
  {
   "cell_type": "code",
   "execution_count": 83,
   "metadata": {
    "scrolled": true
   },
   "outputs": [
    {
     "data": {
      "text/plain": [
       "Text(0.5,1,'the average transaction in every month during 8 years')"
      ]
     },
     "execution_count": 83,
     "metadata": {},
     "output_type": "execute_result"
    }
   ],
   "source": [
    "xticks = pd.date_range(start=meandataIndex.min(), end = meandataIndex.max(), freq=\"Y\")\n",
    "plt.figure(figsize=(10,5))\n",
    "plt.xticks(xticks, xticks.strftime(\"%Y\"), rotation=0, ha=\"center\")\n",
    "plt.plot(meanprice[\"totalPrice\"],linewidth=1, color=\"blue\")\n",
    "plt.xlabel(\"Time\")\n",
    "plt.ylabel(\"price 10,000RMB\")\n",
    "plt.title(\"the average transaction in every month during 8 years\")"
   ]
  },
  {
   "cell_type": "markdown",
   "metadata": {},
   "source": [
    "（5）对data数据的时间格式进行处理，提取出年份和月"
   ]
  },
  {
   "cell_type": "code",
   "execution_count": 84,
   "metadata": {},
   "outputs": [],
   "source": [
    "data[\"tradeTime\"] = pd.to_datetime(data[\"tradeTime\"], format=\"%Y-%m-%d\")"
   ]
  },
  {
   "cell_type": "code",
   "execution_count": 85,
   "metadata": {},
   "outputs": [],
   "source": [
    "data[\"tradeYear\"] = pd.DatetimeIndex(data.tradeTime).year"
   ]
  },
  {
   "cell_type": "code",
   "execution_count": 86,
   "metadata": {},
   "outputs": [],
   "source": [
    "data[\"tradeMonth\"] = pd.DatetimeIndex(data.tradeTime).month"
   ]
  },
  {
   "cell_type": "markdown",
   "metadata": {},
   "source": [
    "粒度到月即可，之后山区tradeTime字段"
   ]
  },
  {
   "cell_type": "code",
   "execution_count": 87,
   "metadata": {},
   "outputs": [],
   "source": [
    "data = data.drop([\"tradeTime\"], axis=1)"
   ]
  },
  {
   "cell_type": "code",
   "execution_count": 88,
   "metadata": {},
   "outputs": [
    {
     "data": {
      "text/plain": [
       "Index(['index', 'Lng', 'Lat', 'followers', 'totalPrice', 'square', 'bedRoom',\n",
       "       'drawingRoom', 'kitchen', 'bathRoom', 'constructionTime', 'ladderRatio',\n",
       "       'elevator', 'fiveYearsProperty', 'subway', 'district', 'floorlayer',\n",
       "       'floorloc_中', 'floorloc_低', 'floorloc_底', 'floorloc_未知', 'floorloc_顶',\n",
       "       'floorloc_高', 'buildingType_1.0', 'buildingType_2.0',\n",
       "       'buildingType_3.0', 'buildingType_4.0', 'renovationCondition_1',\n",
       "       'renovationCondition_2', 'renovationCondition_3',\n",
       "       'renovationCondition_4', 'buildingStructure_1', 'buildingStructure_2',\n",
       "       'buildingStructure_3', 'buildingStructure_4', 'buildingStructure_5',\n",
       "       'buildingStructure_6', 'tradeYear', 'tradeMonth'],\n",
       "      dtype='object')"
      ]
     },
     "execution_count": 88,
     "metadata": {},
     "output_type": "execute_result"
    }
   ],
   "source": [
    "data.columns"
   ]
  },
  {
   "cell_type": "code",
   "execution_count": 89,
   "metadata": {},
   "outputs": [
    {
     "data": {
      "text/plain": [
       "(297775, 39)"
      ]
     },
     "execution_count": 89,
     "metadata": {},
     "output_type": "execute_result"
    }
   ],
   "source": [
    "data.shape"
   ]
  },
  {
   "cell_type": "code",
   "execution_count": 90,
   "metadata": {},
   "outputs": [
    {
     "data": {
      "text/plain": [
       "index                    297775\n",
       "Lng                      297775\n",
       "Lat                      297775\n",
       "followers                297775\n",
       "totalPrice               297775\n",
       "square                   297775\n",
       "bedRoom                  297775\n",
       "drawingRoom              297775\n",
       "kitchen                  297775\n",
       "bathRoom                 297775\n",
       "constructionTime         297775\n",
       "ladderRatio              297775\n",
       "elevator                 297775\n",
       "fiveYearsProperty        297775\n",
       "subway                   297775\n",
       "district                 297775\n",
       "floorlayer               297775\n",
       "floorloc_中               297775\n",
       "floorloc_低               297775\n",
       "floorloc_底               297775\n",
       "floorloc_未知              297775\n",
       "floorloc_顶               297775\n",
       "floorloc_高               297775\n",
       "buildingType_1.0         297775\n",
       "buildingType_2.0         297775\n",
       "buildingType_3.0         297775\n",
       "buildingType_4.0         297775\n",
       "renovationCondition_1    297775\n",
       "renovationCondition_2    297775\n",
       "renovationCondition_3    297775\n",
       "renovationCondition_4    297775\n",
       "buildingStructure_1      297775\n",
       "buildingStructure_2      297775\n",
       "buildingStructure_3      297775\n",
       "buildingStructure_4      297775\n",
       "buildingStructure_5      297775\n",
       "buildingStructure_6      297775\n",
       "tradeYear                297775\n",
       "tradeMonth               297775\n",
       "dtype: int64"
      ]
     },
     "execution_count": 90,
     "metadata": {},
     "output_type": "execute_result"
    }
   ],
   "source": [
    "data.count()"
   ]
  },
  {
   "cell_type": "markdown",
   "metadata": {},
   "source": [
    "建造年份的时间也要处理一下，目前是object类型"
   ]
  },
  {
   "cell_type": "code",
   "execution_count": 91,
   "metadata": {},
   "outputs": [],
   "source": [
    "data[\"constructionTime\"] = data[\"constructionTime\"].map(int)"
   ]
  },
  {
   "cell_type": "code",
   "execution_count": 92,
   "metadata": {},
   "outputs": [
    {
     "data": {
      "text/html": [
       "<div>\n",
       "<style scoped>\n",
       "    .dataframe tbody tr th:only-of-type {\n",
       "        vertical-align: middle;\n",
       "    }\n",
       "\n",
       "    .dataframe tbody tr th {\n",
       "        vertical-align: top;\n",
       "    }\n",
       "\n",
       "    .dataframe thead th {\n",
       "        text-align: right;\n",
       "    }\n",
       "</style>\n",
       "<table border=\"1\" class=\"dataframe\">\n",
       "  <thead>\n",
       "    <tr style=\"text-align: right;\">\n",
       "      <th></th>\n",
       "      <th>index</th>\n",
       "      <th>Lng</th>\n",
       "      <th>Lat</th>\n",
       "      <th>followers</th>\n",
       "      <th>totalPrice</th>\n",
       "      <th>square</th>\n",
       "      <th>bedRoom</th>\n",
       "      <th>drawingRoom</th>\n",
       "      <th>kitchen</th>\n",
       "      <th>bathRoom</th>\n",
       "      <th>...</th>\n",
       "      <th>renovationCondition_3</th>\n",
       "      <th>renovationCondition_4</th>\n",
       "      <th>buildingStructure_1</th>\n",
       "      <th>buildingStructure_2</th>\n",
       "      <th>buildingStructure_3</th>\n",
       "      <th>buildingStructure_4</th>\n",
       "      <th>buildingStructure_5</th>\n",
       "      <th>buildingStructure_6</th>\n",
       "      <th>tradeYear</th>\n",
       "      <th>tradeMonth</th>\n",
       "    </tr>\n",
       "  </thead>\n",
       "  <tbody>\n",
       "    <tr>\n",
       "      <th>0</th>\n",
       "      <td>0</td>\n",
       "      <td>116.122491</td>\n",
       "      <td>39.939735</td>\n",
       "      <td>0</td>\n",
       "      <td>165.0</td>\n",
       "      <td>120.45</td>\n",
       "      <td>3</td>\n",
       "      <td>1</td>\n",
       "      <td>0</td>\n",
       "      <td>1</td>\n",
       "      <td>...</td>\n",
       "      <td>0</td>\n",
       "      <td>1</td>\n",
       "      <td>0</td>\n",
       "      <td>0</td>\n",
       "      <td>0</td>\n",
       "      <td>0</td>\n",
       "      <td>0</td>\n",
       "      <td>1</td>\n",
       "      <td>2010</td>\n",
       "      <td>1</td>\n",
       "    </tr>\n",
       "    <tr>\n",
       "      <th>1</th>\n",
       "      <td>1</td>\n",
       "      <td>116.122150</td>\n",
       "      <td>39.932268</td>\n",
       "      <td>0</td>\n",
       "      <td>72.5</td>\n",
       "      <td>68.75</td>\n",
       "      <td>2</td>\n",
       "      <td>1</td>\n",
       "      <td>0</td>\n",
       "      <td>1</td>\n",
       "      <td>...</td>\n",
       "      <td>1</td>\n",
       "      <td>0</td>\n",
       "      <td>0</td>\n",
       "      <td>1</td>\n",
       "      <td>0</td>\n",
       "      <td>0</td>\n",
       "      <td>0</td>\n",
       "      <td>0</td>\n",
       "      <td>2010</td>\n",
       "      <td>1</td>\n",
       "    </tr>\n",
       "    <tr>\n",
       "      <th>2</th>\n",
       "      <td>2</td>\n",
       "      <td>116.111318</td>\n",
       "      <td>39.949921</td>\n",
       "      <td>0</td>\n",
       "      <td>114.0</td>\n",
       "      <td>89.94</td>\n",
       "      <td>2</td>\n",
       "      <td>1</td>\n",
       "      <td>0</td>\n",
       "      <td>1</td>\n",
       "      <td>...</td>\n",
       "      <td>1</td>\n",
       "      <td>0</td>\n",
       "      <td>0</td>\n",
       "      <td>1</td>\n",
       "      <td>0</td>\n",
       "      <td>0</td>\n",
       "      <td>0</td>\n",
       "      <td>0</td>\n",
       "      <td>2010</td>\n",
       "      <td>1</td>\n",
       "    </tr>\n",
       "    <tr>\n",
       "      <th>3</th>\n",
       "      <td>3</td>\n",
       "      <td>116.119651</td>\n",
       "      <td>39.934504</td>\n",
       "      <td>0</td>\n",
       "      <td>84.0</td>\n",
       "      <td>71.73</td>\n",
       "      <td>1</td>\n",
       "      <td>1</td>\n",
       "      <td>0</td>\n",
       "      <td>1</td>\n",
       "      <td>...</td>\n",
       "      <td>1</td>\n",
       "      <td>0</td>\n",
       "      <td>0</td>\n",
       "      <td>0</td>\n",
       "      <td>0</td>\n",
       "      <td>0</td>\n",
       "      <td>0</td>\n",
       "      <td>1</td>\n",
       "      <td>2010</td>\n",
       "      <td>1</td>\n",
       "    </tr>\n",
       "    <tr>\n",
       "      <th>4</th>\n",
       "      <td>4</td>\n",
       "      <td>116.121964</td>\n",
       "      <td>39.939762</td>\n",
       "      <td>0</td>\n",
       "      <td>80.0</td>\n",
       "      <td>65.63</td>\n",
       "      <td>2</td>\n",
       "      <td>1</td>\n",
       "      <td>0</td>\n",
       "      <td>1</td>\n",
       "      <td>...</td>\n",
       "      <td>1</td>\n",
       "      <td>0</td>\n",
       "      <td>0</td>\n",
       "      <td>1</td>\n",
       "      <td>0</td>\n",
       "      <td>0</td>\n",
       "      <td>0</td>\n",
       "      <td>0</td>\n",
       "      <td>2010</td>\n",
       "      <td>1</td>\n",
       "    </tr>\n",
       "  </tbody>\n",
       "</table>\n",
       "<p>5 rows × 39 columns</p>\n",
       "</div>"
      ],
      "text/plain": [
       "   index         Lng        Lat  followers  totalPrice  square  bedRoom  \\\n",
       "0      0  116.122491  39.939735          0       165.0  120.45        3   \n",
       "1      1  116.122150  39.932268          0        72.5   68.75        2   \n",
       "2      2  116.111318  39.949921          0       114.0   89.94        2   \n",
       "3      3  116.119651  39.934504          0        84.0   71.73        1   \n",
       "4      4  116.121964  39.939762          0        80.0   65.63        2   \n",
       "\n",
       "   drawingRoom  kitchen  bathRoom     ...      renovationCondition_3  \\\n",
       "0            1        0         1     ...                          0   \n",
       "1            1        0         1     ...                          1   \n",
       "2            1        0         1     ...                          1   \n",
       "3            1        0         1     ...                          1   \n",
       "4            1        0         1     ...                          1   \n",
       "\n",
       "   renovationCondition_4  buildingStructure_1  buildingStructure_2  \\\n",
       "0                      1                    0                    0   \n",
       "1                      0                    0                    1   \n",
       "2                      0                    0                    1   \n",
       "3                      0                    0                    0   \n",
       "4                      0                    0                    1   \n",
       "\n",
       "   buildingStructure_3  buildingStructure_4  buildingStructure_5  \\\n",
       "0                    0                    0                    0   \n",
       "1                    0                    0                    0   \n",
       "2                    0                    0                    0   \n",
       "3                    0                    0                    0   \n",
       "4                    0                    0                    0   \n",
       "\n",
       "   buildingStructure_6  tradeYear  tradeMonth  \n",
       "0                    1       2010           1  \n",
       "1                    0       2010           1  \n",
       "2                    0       2010           1  \n",
       "3                    1       2010           1  \n",
       "4                    0       2010           1  \n",
       "\n",
       "[5 rows x 39 columns]"
      ]
     },
     "execution_count": 92,
     "metadata": {},
     "output_type": "execute_result"
    }
   ],
   "source": [
    "data.head()"
   ]
  },
  {
   "cell_type": "code",
   "execution_count": 93,
   "metadata": {},
   "outputs": [
    {
     "data": {
      "text/plain": [
       "0    2008\n",
       "1    1998\n",
       "2    2003\n",
       "3    2005\n",
       "4    2003\n",
       "Name: constructionTime, dtype: int64"
      ]
     },
     "execution_count": 93,
     "metadata": {},
     "output_type": "execute_result"
    }
   ],
   "source": [
    "data[\"constructionTime\"].head()"
   ]
  },
  {
   "cell_type": "markdown",
   "metadata": {},
   "source": [
    "(6)有点乱，拍下顺序，把时间放在前面："
   ]
  },
  {
   "cell_type": "code",
   "execution_count": 94,
   "metadata": {},
   "outputs": [],
   "source": [
    "orderlist = ['Lng', 'Lat', 'tradeYear', 'tradeMonth',  'followers', 'totalPrice', 'square', 'bedRoom',\n",
    "       'drawingRoom', 'kitchen', 'bathRoom', 'constructionTime', 'ladderRatio',\n",
    "       'elevator', 'fiveYearsProperty', 'subway', 'district', 'floorlayer',\n",
    "       'floorloc_中', 'floorloc_低', 'floorloc_底', 'floorloc_未知', 'floorloc_顶',\n",
    "       'floorloc_高', 'buildingType_1.0', 'buildingType_2.0',\n",
    "       'buildingType_3.0', 'buildingType_4.0', 'renovationCondition_1',\n",
    "       'renovationCondition_2', 'renovationCondition_3',\n",
    "       'renovationCondition_4', 'buildingStructure_1', 'buildingStructure_2',\n",
    "       'buildingStructure_3', 'buildingStructure_4', 'buildingStructure_5',\n",
    "       'buildingStructure_6', ]"
   ]
  },
  {
   "cell_type": "code",
   "execution_count": 95,
   "metadata": {},
   "outputs": [],
   "source": [
    "data = data[orderlist]"
   ]
  },
  {
   "cell_type": "code",
   "execution_count": 96,
   "metadata": {
    "scrolled": true
   },
   "outputs": [
    {
     "data": {
      "text/html": [
       "<div>\n",
       "<style scoped>\n",
       "    .dataframe tbody tr th:only-of-type {\n",
       "        vertical-align: middle;\n",
       "    }\n",
       "\n",
       "    .dataframe tbody tr th {\n",
       "        vertical-align: top;\n",
       "    }\n",
       "\n",
       "    .dataframe thead th {\n",
       "        text-align: right;\n",
       "    }\n",
       "</style>\n",
       "<table border=\"1\" class=\"dataframe\">\n",
       "  <thead>\n",
       "    <tr style=\"text-align: right;\">\n",
       "      <th></th>\n",
       "      <th>Lng</th>\n",
       "      <th>Lat</th>\n",
       "      <th>tradeYear</th>\n",
       "      <th>tradeMonth</th>\n",
       "      <th>followers</th>\n",
       "      <th>totalPrice</th>\n",
       "      <th>square</th>\n",
       "      <th>bedRoom</th>\n",
       "      <th>drawingRoom</th>\n",
       "      <th>kitchen</th>\n",
       "      <th>...</th>\n",
       "      <th>renovationCondition_1</th>\n",
       "      <th>renovationCondition_2</th>\n",
       "      <th>renovationCondition_3</th>\n",
       "      <th>renovationCondition_4</th>\n",
       "      <th>buildingStructure_1</th>\n",
       "      <th>buildingStructure_2</th>\n",
       "      <th>buildingStructure_3</th>\n",
       "      <th>buildingStructure_4</th>\n",
       "      <th>buildingStructure_5</th>\n",
       "      <th>buildingStructure_6</th>\n",
       "    </tr>\n",
       "  </thead>\n",
       "  <tbody>\n",
       "    <tr>\n",
       "      <th>0</th>\n",
       "      <td>116.122491</td>\n",
       "      <td>39.939735</td>\n",
       "      <td>2010</td>\n",
       "      <td>1</td>\n",
       "      <td>0</td>\n",
       "      <td>165.0</td>\n",
       "      <td>120.45</td>\n",
       "      <td>3</td>\n",
       "      <td>1</td>\n",
       "      <td>0</td>\n",
       "      <td>...</td>\n",
       "      <td>0</td>\n",
       "      <td>0</td>\n",
       "      <td>0</td>\n",
       "      <td>1</td>\n",
       "      <td>0</td>\n",
       "      <td>0</td>\n",
       "      <td>0</td>\n",
       "      <td>0</td>\n",
       "      <td>0</td>\n",
       "      <td>1</td>\n",
       "    </tr>\n",
       "    <tr>\n",
       "      <th>1</th>\n",
       "      <td>116.122150</td>\n",
       "      <td>39.932268</td>\n",
       "      <td>2010</td>\n",
       "      <td>1</td>\n",
       "      <td>0</td>\n",
       "      <td>72.5</td>\n",
       "      <td>68.75</td>\n",
       "      <td>2</td>\n",
       "      <td>1</td>\n",
       "      <td>0</td>\n",
       "      <td>...</td>\n",
       "      <td>0</td>\n",
       "      <td>0</td>\n",
       "      <td>1</td>\n",
       "      <td>0</td>\n",
       "      <td>0</td>\n",
       "      <td>1</td>\n",
       "      <td>0</td>\n",
       "      <td>0</td>\n",
       "      <td>0</td>\n",
       "      <td>0</td>\n",
       "    </tr>\n",
       "    <tr>\n",
       "      <th>2</th>\n",
       "      <td>116.111318</td>\n",
       "      <td>39.949921</td>\n",
       "      <td>2010</td>\n",
       "      <td>1</td>\n",
       "      <td>0</td>\n",
       "      <td>114.0</td>\n",
       "      <td>89.94</td>\n",
       "      <td>2</td>\n",
       "      <td>1</td>\n",
       "      <td>0</td>\n",
       "      <td>...</td>\n",
       "      <td>0</td>\n",
       "      <td>0</td>\n",
       "      <td>1</td>\n",
       "      <td>0</td>\n",
       "      <td>0</td>\n",
       "      <td>1</td>\n",
       "      <td>0</td>\n",
       "      <td>0</td>\n",
       "      <td>0</td>\n",
       "      <td>0</td>\n",
       "    </tr>\n",
       "    <tr>\n",
       "      <th>3</th>\n",
       "      <td>116.119651</td>\n",
       "      <td>39.934504</td>\n",
       "      <td>2010</td>\n",
       "      <td>1</td>\n",
       "      <td>0</td>\n",
       "      <td>84.0</td>\n",
       "      <td>71.73</td>\n",
       "      <td>1</td>\n",
       "      <td>1</td>\n",
       "      <td>0</td>\n",
       "      <td>...</td>\n",
       "      <td>0</td>\n",
       "      <td>0</td>\n",
       "      <td>1</td>\n",
       "      <td>0</td>\n",
       "      <td>0</td>\n",
       "      <td>0</td>\n",
       "      <td>0</td>\n",
       "      <td>0</td>\n",
       "      <td>0</td>\n",
       "      <td>1</td>\n",
       "    </tr>\n",
       "    <tr>\n",
       "      <th>4</th>\n",
       "      <td>116.121964</td>\n",
       "      <td>39.939762</td>\n",
       "      <td>2010</td>\n",
       "      <td>1</td>\n",
       "      <td>0</td>\n",
       "      <td>80.0</td>\n",
       "      <td>65.63</td>\n",
       "      <td>2</td>\n",
       "      <td>1</td>\n",
       "      <td>0</td>\n",
       "      <td>...</td>\n",
       "      <td>0</td>\n",
       "      <td>0</td>\n",
       "      <td>1</td>\n",
       "      <td>0</td>\n",
       "      <td>0</td>\n",
       "      <td>1</td>\n",
       "      <td>0</td>\n",
       "      <td>0</td>\n",
       "      <td>0</td>\n",
       "      <td>0</td>\n",
       "    </tr>\n",
       "  </tbody>\n",
       "</table>\n",
       "<p>5 rows × 38 columns</p>\n",
       "</div>"
      ],
      "text/plain": [
       "          Lng        Lat  tradeYear  tradeMonth  followers  totalPrice  \\\n",
       "0  116.122491  39.939735       2010           1          0       165.0   \n",
       "1  116.122150  39.932268       2010           1          0        72.5   \n",
       "2  116.111318  39.949921       2010           1          0       114.0   \n",
       "3  116.119651  39.934504       2010           1          0        84.0   \n",
       "4  116.121964  39.939762       2010           1          0        80.0   \n",
       "\n",
       "   square  bedRoom  drawingRoom  kitchen         ...           \\\n",
       "0  120.45        3            1        0         ...            \n",
       "1   68.75        2            1        0         ...            \n",
       "2   89.94        2            1        0         ...            \n",
       "3   71.73        1            1        0         ...            \n",
       "4   65.63        2            1        0         ...            \n",
       "\n",
       "   renovationCondition_1  renovationCondition_2  renovationCondition_3  \\\n",
       "0                      0                      0                      0   \n",
       "1                      0                      0                      1   \n",
       "2                      0                      0                      1   \n",
       "3                      0                      0                      1   \n",
       "4                      0                      0                      1   \n",
       "\n",
       "   renovationCondition_4  buildingStructure_1  buildingStructure_2  \\\n",
       "0                      1                    0                    0   \n",
       "1                      0                    0                    1   \n",
       "2                      0                    0                    1   \n",
       "3                      0                    0                    0   \n",
       "4                      0                    0                    1   \n",
       "\n",
       "   buildingStructure_3  buildingStructure_4  buildingStructure_5  \\\n",
       "0                    0                    0                    0   \n",
       "1                    0                    0                    0   \n",
       "2                    0                    0                    0   \n",
       "3                    0                    0                    0   \n",
       "4                    0                    0                    0   \n",
       "\n",
       "   buildingStructure_6  \n",
       "0                    1  \n",
       "1                    0  \n",
       "2                    0  \n",
       "3                    1  \n",
       "4                    0  \n",
       "\n",
       "[5 rows x 38 columns]"
      ]
     },
     "execution_count": 96,
     "metadata": {},
     "output_type": "execute_result"
    }
   ],
   "source": [
    "data.head()"
   ]
  },
  {
   "cell_type": "markdown",
   "metadata": {},
   "source": [
    "查看不同年份间的面积-价格变化情况"
   ]
  },
  {
   "cell_type": "code",
   "execution_count": 97,
   "metadata": {},
   "outputs": [],
   "source": [
    "yeardata = data[[\"tradeYear\", \"tradeMonth\", \"square\", \"totalPrice\"]]"
   ]
  },
  {
   "cell_type": "code",
   "execution_count": 98,
   "metadata": {},
   "outputs": [
    {
     "data": {
      "text/html": [
       "<div>\n",
       "<style scoped>\n",
       "    .dataframe tbody tr th:only-of-type {\n",
       "        vertical-align: middle;\n",
       "    }\n",
       "\n",
       "    .dataframe tbody tr th {\n",
       "        vertical-align: top;\n",
       "    }\n",
       "\n",
       "    .dataframe thead th {\n",
       "        text-align: right;\n",
       "    }\n",
       "</style>\n",
       "<table border=\"1\" class=\"dataframe\">\n",
       "  <thead>\n",
       "    <tr style=\"text-align: right;\">\n",
       "      <th></th>\n",
       "      <th>tradeYear</th>\n",
       "      <th>tradeMonth</th>\n",
       "      <th>square</th>\n",
       "      <th>totalPrice</th>\n",
       "    </tr>\n",
       "  </thead>\n",
       "  <tbody>\n",
       "    <tr>\n",
       "      <th>0</th>\n",
       "      <td>2010</td>\n",
       "      <td>1</td>\n",
       "      <td>120.45</td>\n",
       "      <td>165.0</td>\n",
       "    </tr>\n",
       "    <tr>\n",
       "      <th>1</th>\n",
       "      <td>2010</td>\n",
       "      <td>1</td>\n",
       "      <td>68.75</td>\n",
       "      <td>72.5</td>\n",
       "    </tr>\n",
       "    <tr>\n",
       "      <th>2</th>\n",
       "      <td>2010</td>\n",
       "      <td>1</td>\n",
       "      <td>89.94</td>\n",
       "      <td>114.0</td>\n",
       "    </tr>\n",
       "    <tr>\n",
       "      <th>3</th>\n",
       "      <td>2010</td>\n",
       "      <td>1</td>\n",
       "      <td>71.73</td>\n",
       "      <td>84.0</td>\n",
       "    </tr>\n",
       "    <tr>\n",
       "      <th>4</th>\n",
       "      <td>2010</td>\n",
       "      <td>1</td>\n",
       "      <td>65.63</td>\n",
       "      <td>80.0</td>\n",
       "    </tr>\n",
       "  </tbody>\n",
       "</table>\n",
       "</div>"
      ],
      "text/plain": [
       "   tradeYear  tradeMonth  square  totalPrice\n",
       "0       2010           1  120.45       165.0\n",
       "1       2010           1   68.75        72.5\n",
       "2       2010           1   89.94       114.0\n",
       "3       2010           1   71.73        84.0\n",
       "4       2010           1   65.63        80.0"
      ]
     },
     "execution_count": 98,
     "metadata": {},
     "output_type": "execute_result"
    }
   ],
   "source": [
    "yeardata.head()"
   ]
  },
  {
   "cell_type": "code",
   "execution_count": 99,
   "metadata": {},
   "outputs": [],
   "source": [
    "year2010 = yeardata[yeardata[\"tradeYear\"] == 2010]\n",
    "year2011 = yeardata[yeardata[\"tradeYear\"] == 2011]\n",
    "year2012 = yeardata[yeardata[\"tradeYear\"] == 2012]\n",
    "year2013 = yeardata[yeardata[\"tradeYear\"] == 2013]\n",
    "year2014 = yeardata[yeardata[\"tradeYear\"] == 2014]\n",
    "year2015 = yeardata[yeardata[\"tradeYear\"] == 2015]\n",
    "year2016 = yeardata[yeardata[\"tradeYear\"] == 2016]\n",
    "year2017 = yeardata[yeardata[\"tradeYear\"] == 2017]"
   ]
  },
  {
   "cell_type": "code",
   "execution_count": 100,
   "metadata": {},
   "outputs": [],
   "source": [
    "year2010 = year2010.sort_values(by=\"square\" , ascending=True) \n",
    "year2011 = year2011.sort_values(by=\"square\" , ascending=True) \n",
    "year2012 = year2012.sort_values(by=\"square\" , ascending=True) \n",
    "year2013 = year2013.sort_values(by=\"square\" , ascending=True) \n",
    "year2014 = year2014.sort_values(by=\"square\" , ascending=True) \n",
    "year2015 = year2015.sort_values(by=\"square\" , ascending=True) \n",
    "year2016 = year2016.sort_values(by=\"square\" , ascending=True) \n",
    "year2017 = year2017.sort_values(by=\"square\" , ascending=True) "
   ]
  },
  {
   "cell_type": "code",
   "execution_count": 101,
   "metadata": {},
   "outputs": [
    {
     "data": {
      "text/html": [
       "<div>\n",
       "<style scoped>\n",
       "    .dataframe tbody tr th:only-of-type {\n",
       "        vertical-align: middle;\n",
       "    }\n",
       "\n",
       "    .dataframe tbody tr th {\n",
       "        vertical-align: top;\n",
       "    }\n",
       "\n",
       "    .dataframe thead th {\n",
       "        text-align: right;\n",
       "    }\n",
       "</style>\n",
       "<table border=\"1\" class=\"dataframe\">\n",
       "  <thead>\n",
       "    <tr style=\"text-align: right;\">\n",
       "      <th></th>\n",
       "      <th>tradeYear</th>\n",
       "      <th>tradeMonth</th>\n",
       "      <th>square</th>\n",
       "      <th>totalPrice</th>\n",
       "    </tr>\n",
       "  </thead>\n",
       "  <tbody>\n",
       "    <tr>\n",
       "      <th>49</th>\n",
       "      <td>2010</td>\n",
       "      <td>3</td>\n",
       "      <td>43.22</td>\n",
       "      <td>62.0</td>\n",
       "    </tr>\n",
       "    <tr>\n",
       "      <th>142</th>\n",
       "      <td>2010</td>\n",
       "      <td>11</td>\n",
       "      <td>43.22</td>\n",
       "      <td>78.0</td>\n",
       "    </tr>\n",
       "    <tr>\n",
       "      <th>19</th>\n",
       "      <td>2010</td>\n",
       "      <td>2</td>\n",
       "      <td>43.22</td>\n",
       "      <td>56.5</td>\n",
       "    </tr>\n",
       "    <tr>\n",
       "      <th>67</th>\n",
       "      <td>2010</td>\n",
       "      <td>4</td>\n",
       "      <td>45.32</td>\n",
       "      <td>79.0</td>\n",
       "    </tr>\n",
       "    <tr>\n",
       "      <th>11</th>\n",
       "      <td>2010</td>\n",
       "      <td>1</td>\n",
       "      <td>46.38</td>\n",
       "      <td>60.0</td>\n",
       "    </tr>\n",
       "  </tbody>\n",
       "</table>\n",
       "</div>"
      ],
      "text/plain": [
       "     tradeYear  tradeMonth  square  totalPrice\n",
       "49        2010           3   43.22        62.0\n",
       "142       2010          11   43.22        78.0\n",
       "19        2010           2   43.22        56.5\n",
       "67        2010           4   45.32        79.0\n",
       "11        2010           1   46.38        60.0"
      ]
     },
     "execution_count": 101,
     "metadata": {},
     "output_type": "execute_result"
    }
   ],
   "source": [
    "year2010.head()"
   ]
  },
  {
   "cell_type": "code",
   "execution_count": 102,
   "metadata": {},
   "outputs": [],
   "source": [
    "listBins = [0, 10, 50, 100, 200, 500, 1000]"
   ]
  },
  {
   "cell_type": "code",
   "execution_count": 103,
   "metadata": {},
   "outputs": [],
   "source": [
    "listLabels = [\"0_10\",\"10_50\",\"50_100\",\"100_200\",\"200_500\",\"500_1000\"]"
   ]
  },
  {
   "cell_type": "code",
   "execution_count": 104,
   "metadata": {},
   "outputs": [],
   "source": [
    "year2010[\"square\"] = pd.cut(year2010['square'], bins=listBins, labels=listLabels, include_lowest=True)\n",
    "year2011[\"square\"] = pd.cut(year2011['square'], bins=listBins, labels=listLabels, include_lowest=True)\n",
    "year2012[\"square\"] = pd.cut(year2012['square'], bins=listBins, labels=listLabels, include_lowest=True)\n",
    "year2013[\"square\"] = pd.cut(year2013['square'], bins=listBins, labels=listLabels, include_lowest=True)\n",
    "year2014[\"square\"] = pd.cut(year2014['square'], bins=listBins, labels=listLabels, include_lowest=True)\n",
    "year2015[\"square\"] = pd.cut(year2015['square'], bins=listBins, labels=listLabels, include_lowest=True)\n",
    "year2016[\"square\"] = pd.cut(year2016['square'], bins=listBins, labels=listLabels, include_lowest=True)\n",
    "year2017[\"square\"] = pd.cut(year2017['square'], bins=listBins, labels=listLabels, include_lowest=True)"
   ]
  },
  {
   "cell_type": "code",
   "execution_count": 105,
   "metadata": {},
   "outputs": [
    {
     "data": {
      "text/html": [
       "<div>\n",
       "<style scoped>\n",
       "    .dataframe tbody tr th:only-of-type {\n",
       "        vertical-align: middle;\n",
       "    }\n",
       "\n",
       "    .dataframe tbody tr th {\n",
       "        vertical-align: top;\n",
       "    }\n",
       "\n",
       "    .dataframe thead th {\n",
       "        text-align: right;\n",
       "    }\n",
       "</style>\n",
       "<table border=\"1\" class=\"dataframe\">\n",
       "  <thead>\n",
       "    <tr style=\"text-align: right;\">\n",
       "      <th></th>\n",
       "      <th>tradeYear</th>\n",
       "      <th>tradeMonth</th>\n",
       "      <th>square</th>\n",
       "      <th>totalPrice</th>\n",
       "    </tr>\n",
       "  </thead>\n",
       "  <tbody>\n",
       "    <tr>\n",
       "      <th>136235</th>\n",
       "      <td>2015</td>\n",
       "      <td>7</td>\n",
       "      <td>0_10</td>\n",
       "      <td>88.0</td>\n",
       "    </tr>\n",
       "    <tr>\n",
       "      <th>136236</th>\n",
       "      <td>2015</td>\n",
       "      <td>7</td>\n",
       "      <td>0_10</td>\n",
       "      <td>93.0</td>\n",
       "    </tr>\n",
       "    <tr>\n",
       "      <th>119500</th>\n",
       "      <td>2015</td>\n",
       "      <td>4</td>\n",
       "      <td>0_10</td>\n",
       "      <td>133.0</td>\n",
       "    </tr>\n",
       "    <tr>\n",
       "      <th>108134</th>\n",
       "      <td>2015</td>\n",
       "      <td>1</td>\n",
       "      <td>0_10</td>\n",
       "      <td>21.7</td>\n",
       "    </tr>\n",
       "    <tr>\n",
       "      <th>162875</th>\n",
       "      <td>2015</td>\n",
       "      <td>12</td>\n",
       "      <td>10_50</td>\n",
       "      <td>95.0</td>\n",
       "    </tr>\n",
       "  </tbody>\n",
       "</table>\n",
       "</div>"
      ],
      "text/plain": [
       "        tradeYear  tradeMonth square  totalPrice\n",
       "136235       2015           7   0_10        88.0\n",
       "136236       2015           7   0_10        93.0\n",
       "119500       2015           4   0_10       133.0\n",
       "108134       2015           1   0_10        21.7\n",
       "162875       2015          12  10_50        95.0"
      ]
     },
     "execution_count": 105,
     "metadata": {},
     "output_type": "execute_result"
    }
   ],
   "source": [
    "year2015.head()"
   ]
  },
  {
   "cell_type": "code",
   "execution_count": 106,
   "metadata": {},
   "outputs": [],
   "source": [
    "group2010 = year2010.groupby(year2010[\"square\"])\n",
    "group2011 = year2011.groupby(year2011[\"square\"])\n",
    "group2012 = year2012.groupby(year2012[\"square\"])\n",
    "group2013 = year2013.groupby(year2013[\"square\"])\n",
    "group2014 = year2014.groupby(year2014[\"square\"])\n",
    "group2015 = year2015.groupby(year2015[\"square\"])\n",
    "group2016 = year2016.groupby(year2016[\"square\"])\n",
    "group2017 = year2017.groupby(year2017[\"square\"])"
   ]
  },
  {
   "cell_type": "code",
   "execution_count": 107,
   "metadata": {},
   "outputs": [],
   "source": [
    "mean2010 = group2010.mean()[\"totalPrice\"]\n",
    "mean2011 = group2011.mean()[\"totalPrice\"]\n",
    "mean2012 = group2012.mean()[\"totalPrice\"]\n",
    "mean2013 = group2013.mean()[\"totalPrice\"]\n",
    "mean2014 = group2014.mean()[\"totalPrice\"]\n",
    "mean2015 = group2015.mean()[\"totalPrice\"]\n",
    "mean2016 = group2016.mean()[\"totalPrice\"]\n",
    "mean2017 = group2017.mean()[\"totalPrice\"]"
   ]
  },
  {
   "cell_type": "code",
   "execution_count": 108,
   "metadata": {},
   "outputs": [],
   "source": [
    "mean2010 = pd.DataFrame(mean2010, columns=[\"totalPrice\"])\n",
    "mean2011 = pd.DataFrame(mean2011, columns=[\"totalPrice\"])\n",
    "mean2012 = pd.DataFrame(mean2012, columns=[\"totalPrice\"])\n",
    "mean2013 = pd.DataFrame(mean2013, columns=[\"totalPrice\"])\n",
    "mean2014 = pd.DataFrame(mean2014, columns=[\"totalPrice\"])\n",
    "mean2015 = pd.DataFrame(mean2015, columns=[\"totalPrice\"])\n",
    "mean2016 = pd.DataFrame(mean2016, columns=[\"totalPrice\"])\n",
    "mean2017 = pd.DataFrame(mean2017, columns=[\"totalPrice\"])"
   ]
  },
  {
   "cell_type": "code",
   "execution_count": 109,
   "metadata": {},
   "outputs": [
    {
     "data": {
      "text/html": [
       "<div>\n",
       "<style scoped>\n",
       "    .dataframe tbody tr th:only-of-type {\n",
       "        vertical-align: middle;\n",
       "    }\n",
       "\n",
       "    .dataframe tbody tr th {\n",
       "        vertical-align: top;\n",
       "    }\n",
       "\n",
       "    .dataframe thead th {\n",
       "        text-align: right;\n",
       "    }\n",
       "</style>\n",
       "<table border=\"1\" class=\"dataframe\">\n",
       "  <thead>\n",
       "    <tr style=\"text-align: right;\">\n",
       "      <th></th>\n",
       "      <th>totalPrice</th>\n",
       "    </tr>\n",
       "    <tr>\n",
       "      <th>square</th>\n",
       "      <th></th>\n",
       "    </tr>\n",
       "  </thead>\n",
       "  <tbody>\n",
       "    <tr>\n",
       "      <th>0_10</th>\n",
       "      <td>NaN</td>\n",
       "    </tr>\n",
       "    <tr>\n",
       "      <th>10_50</th>\n",
       "      <td>335.531455</td>\n",
       "    </tr>\n",
       "    <tr>\n",
       "      <th>50_100</th>\n",
       "      <td>476.395727</td>\n",
       "    </tr>\n",
       "    <tr>\n",
       "      <th>100_200</th>\n",
       "      <td>764.291018</td>\n",
       "    </tr>\n",
       "    <tr>\n",
       "      <th>200_500</th>\n",
       "      <td>1571.329011</td>\n",
       "    </tr>\n",
       "  </tbody>\n",
       "</table>\n",
       "</div>"
      ],
      "text/plain": [
       "          totalPrice\n",
       "square              \n",
       "0_10             NaN\n",
       "10_50     335.531455\n",
       "50_100    476.395727\n",
       "100_200   764.291018\n",
       "200_500  1571.329011"
      ]
     },
     "execution_count": 109,
     "metadata": {},
     "output_type": "execute_result"
    }
   ],
   "source": [
    "mean2017.head()"
   ]
  },
  {
   "cell_type": "code",
   "execution_count": 110,
   "metadata": {},
   "outputs": [],
   "source": [
    "mean2010 = mean2010.reset_index()\n",
    "mean2011 = mean2011.reset_index()\n",
    "mean2012 = mean2012.reset_index()\n",
    "mean2013 = mean2013.reset_index()\n",
    "mean2014 = mean2014.reset_index()\n",
    "mean2015 = mean2015.reset_index()\n",
    "mean2016 = mean2016.reset_index()\n",
    "mean2017 = mean2017.reset_index()"
   ]
  },
  {
   "cell_type": "code",
   "execution_count": 111,
   "metadata": {},
   "outputs": [
    {
     "data": {
      "text/html": [
       "<div>\n",
       "<style scoped>\n",
       "    .dataframe tbody tr th:only-of-type {\n",
       "        vertical-align: middle;\n",
       "    }\n",
       "\n",
       "    .dataframe tbody tr th {\n",
       "        vertical-align: top;\n",
       "    }\n",
       "\n",
       "    .dataframe thead th {\n",
       "        text-align: right;\n",
       "    }\n",
       "</style>\n",
       "<table border=\"1\" class=\"dataframe\">\n",
       "  <thead>\n",
       "    <tr style=\"text-align: right;\">\n",
       "      <th></th>\n",
       "      <th>square</th>\n",
       "      <th>totalPrice</th>\n",
       "    </tr>\n",
       "  </thead>\n",
       "  <tbody>\n",
       "    <tr>\n",
       "      <th>0</th>\n",
       "      <td>0_10</td>\n",
       "      <td>NaN</td>\n",
       "    </tr>\n",
       "    <tr>\n",
       "      <th>1</th>\n",
       "      <td>10_50</td>\n",
       "      <td>62.125000</td>\n",
       "    </tr>\n",
       "    <tr>\n",
       "      <th>2</th>\n",
       "      <td>50_100</td>\n",
       "      <td>123.548148</td>\n",
       "    </tr>\n",
       "    <tr>\n",
       "      <th>3</th>\n",
       "      <td>100_200</td>\n",
       "      <td>200.323529</td>\n",
       "    </tr>\n",
       "    <tr>\n",
       "      <th>4</th>\n",
       "      <td>200_500</td>\n",
       "      <td>NaN</td>\n",
       "    </tr>\n",
       "    <tr>\n",
       "      <th>5</th>\n",
       "      <td>500_1000</td>\n",
       "      <td>NaN</td>\n",
       "    </tr>\n",
       "  </tbody>\n",
       "</table>\n",
       "</div>"
      ],
      "text/plain": [
       "     square  totalPrice\n",
       "0      0_10         NaN\n",
       "1     10_50   62.125000\n",
       "2    50_100  123.548148\n",
       "3   100_200  200.323529\n",
       "4   200_500         NaN\n",
       "5  500_1000         NaN"
      ]
     },
     "execution_count": 111,
     "metadata": {},
     "output_type": "execute_result"
    }
   ],
   "source": [
    "mean2010"
   ]
  },
  {
   "cell_type": "code",
   "execution_count": 112,
   "metadata": {},
   "outputs": [],
   "source": [
    "mean2010[\"totalPrice\"].fillna(0, inplace = True)\n",
    "mean2011[\"totalPrice\"].fillna(0, inplace = True)\n",
    "mean2012[\"totalPrice\"].fillna(0, inplace = True)\n",
    "mean2013[\"totalPrice\"].fillna(0, inplace = True)\n",
    "mean2014[\"totalPrice\"].fillna(0, inplace = True)\n",
    "mean2015[\"totalPrice\"].fillna(0, inplace = True)\n",
    "mean2016[\"totalPrice\"].fillna(0, inplace = True)\n",
    "mean2017[\"totalPrice\"].fillna(0, inplace = True)"
   ]
  },
  {
   "cell_type": "code",
   "execution_count": 113,
   "metadata": {},
   "outputs": [],
   "source": [
    "labelBins = [0, 10, 50, 100, 200, 500]"
   ]
  },
  {
   "cell_type": "code",
   "execution_count": 114,
   "metadata": {},
   "outputs": [
    {
     "data": {
      "text/plain": [
       "<matplotlib.legend.Legend at 0x27433f60>"
      ]
     },
     "execution_count": 114,
     "metadata": {},
     "output_type": "execute_result"
    }
   ],
   "source": [
    "plt.plot(labelBins, mean2010[\"totalPrice\"], label=\"2010\")\n",
    "plt.plot(labelBins, mean2011[\"totalPrice\"], label=\"2011\")\n",
    "plt.plot(labelBins, mean2012[\"totalPrice\"], label=\"2012\")\n",
    "plt.plot(labelBins, mean2013[\"totalPrice\"], label=\"2013\")\n",
    "plt.plot(labelBins, mean2014[\"totalPrice\"], label=\"2014\")\n",
    "plt.plot(labelBins, mean2015[\"totalPrice\"], label=\"2015\")\n",
    "plt.plot(labelBins, mean2016[\"totalPrice\"], label=\"2016\")\n",
    "plt.plot(labelBins, mean2017[\"totalPrice\"], label=\"2017\")\n",
    "plt.title(\"square-Price with different years\")\n",
    "plt.xlabel(\"square m3\")\n",
    "plt.ylabel(\"price 10,000RMB\")\n",
    "plt.legend()"
   ]
  },
  {
   "cell_type": "markdown",
   "metadata": {},
   "source": [
    "**<font size=4>3. 相关性分析</font>**"
   ]
  },
  {
   "cell_type": "markdown",
   "metadata": {},
   "source": [
    "（1）利用pd.corr()得到数据集的各个特征之间的相关系数矩阵"
   ]
  },
  {
   "cell_type": "code",
   "execution_count": 115,
   "metadata": {},
   "outputs": [],
   "source": [
    "corr = data.corr()"
   ]
  },
  {
   "cell_type": "code",
   "execution_count": 116,
   "metadata": {
    "scrolled": false
   },
   "outputs": [
    {
     "data": {
      "text/plain": [
       "totalPrice               1.000000\n",
       "square                   0.559936\n",
       "bathRoom                 0.430571\n",
       "bedRoom                  0.427240\n",
       "tradeYear                0.411084\n",
       "drawingRoom              0.315325\n",
       "renovationCondition_4    0.217588\n",
       "elevator                 0.209762\n",
       "buildingStructure_6      0.200662\n",
       "floorlayer               0.167923\n",
       "followers                0.160462\n",
       "constructionTime         0.123129\n",
       "subway                   0.117104\n",
       "kitchen                  0.084920\n",
       "buildingType_3.0         0.074460\n",
       "buildingType_1.0         0.039629\n",
       "floorloc_低               0.027166\n",
       "renovationCondition_3    0.026353\n",
       "floorloc_高               0.015530\n",
       "Lat                      0.014538\n",
       "renovationCondition_2    0.013720\n",
       "district                 0.013001\n",
       "floorloc_中               0.012494\n",
       "floorloc_未知              0.002798\n",
       "buildingStructure_5      0.000917\n",
       "ladderRatio             -0.001136\n",
       "tradeMonth              -0.004091\n",
       "buildingStructure_1     -0.005084\n",
       "buildingStructure_3     -0.007774\n",
       "fiveYearsProperty       -0.009692\n",
       "buildingType_2.0        -0.009736\n",
       "floorloc_底              -0.014640\n",
       "buildingStructure_4     -0.047441\n",
       "floorloc_顶              -0.060186\n",
       "Lng                     -0.073507\n",
       "buildingType_4.0        -0.092764\n",
       "buildingStructure_2     -0.184020\n",
       "renovationCondition_1   -0.244917\n",
       "Name: totalPrice, dtype: float64"
      ]
     },
     "execution_count": 116,
     "metadata": {},
     "output_type": "execute_result"
    }
   ],
   "source": [
    "corr[\"totalPrice\"].sort_values(ascending=False)"
   ]
  },
  {
   "cell_type": "markdown",
   "metadata": {},
   "source": [
    "根据相关性 删除一部分属性"
   ]
  },
  {
   "cell_type": "code",
   "execution_count": 117,
   "metadata": {},
   "outputs": [],
   "source": [
    "droplist = [\"kitchen\", \"buildingType_3.0\",\"buildingType_1.0\",\"renovationCondition_3\",\"Lat\",\"renovationCondition_2\",\"floorloc_中\",\"floorloc_未知\",\"buildingStructure_5\",\n",
    "            \"ladderRatio\",\"buildingStructure_1\",\"buildingStructure_3\",\"fiveYearsProperty\",\"buildingType_2.0\",\"buildingStructure_4\",\"floorloc_顶\",\"Lng\"]"
   ]
  },
  {
   "cell_type": "code",
   "execution_count": 118,
   "metadata": {},
   "outputs": [],
   "source": [
    "data = data.drop(droplist, axis=1)"
   ]
  },
  {
   "cell_type": "code",
   "execution_count": 119,
   "metadata": {},
   "outputs": [
    {
     "data": {
      "text/plain": [
       "Index(['tradeYear', 'tradeMonth', 'followers', 'totalPrice', 'square',\n",
       "       'bedRoom', 'drawingRoom', 'bathRoom', 'constructionTime', 'elevator',\n",
       "       'subway', 'district', 'floorlayer', 'floorloc_低', 'floorloc_底',\n",
       "       'floorloc_高', 'buildingType_4.0', 'renovationCondition_1',\n",
       "       'renovationCondition_4', 'buildingStructure_2', 'buildingStructure_6'],\n",
       "      dtype='object')"
      ]
     },
     "execution_count": 119,
     "metadata": {},
     "output_type": "execute_result"
    }
   ],
   "source": [
    "data.columns"
   ]
  },
  {
   "cell_type": "code",
   "execution_count": 120,
   "metadata": {},
   "outputs": [],
   "source": [
    "data = data.drop(['floorloc_低','floorloc_底','floorloc_高'], axis=1)"
   ]
  },
  {
   "cell_type": "code",
   "execution_count": 121,
   "metadata": {},
   "outputs": [],
   "source": [
    "data = data.drop(['buildingType_4.0'], axis=1)"
   ]
  },
  {
   "cell_type": "code",
   "execution_count": 122,
   "metadata": {},
   "outputs": [],
   "source": [
    "corr = data.corr()"
   ]
  },
  {
   "cell_type": "code",
   "execution_count": 123,
   "metadata": {},
   "outputs": [
    {
     "data": {
      "text/plain": [
       "totalPrice               1.000000\n",
       "square                   0.559936\n",
       "bathRoom                 0.430571\n",
       "bedRoom                  0.427240\n",
       "tradeYear                0.411084\n",
       "drawingRoom              0.315325\n",
       "renovationCondition_4    0.217588\n",
       "elevator                 0.209762\n",
       "buildingStructure_6      0.200662\n",
       "floorlayer               0.167923\n",
       "followers                0.160462\n",
       "constructionTime         0.123129\n",
       "subway                   0.117104\n",
       "district                 0.013001\n",
       "tradeMonth              -0.004091\n",
       "buildingStructure_2     -0.184020\n",
       "renovationCondition_1   -0.244917\n",
       "Name: totalPrice, dtype: float64"
      ]
     },
     "execution_count": 123,
     "metadata": {},
     "output_type": "execute_result"
    }
   ],
   "source": [
    "corr[\"totalPrice\"].sort_values(ascending=False)"
   ]
  },
  {
   "cell_type": "code",
   "execution_count": 124,
   "metadata": {},
   "outputs": [],
   "source": [
    "featurenames = data.columns.values"
   ]
  },
  {
   "cell_type": "markdown",
   "metadata": {},
   "source": [
    "绘制热力图"
   ]
  },
  {
   "cell_type": "code",
   "execution_count": 125,
   "metadata": {},
   "outputs": [
    {
     "data": {
      "text/plain": [
       "Text(0.5,1,'Correlation heatmap')"
      ]
     },
     "execution_count": 125,
     "metadata": {},
     "output_type": "execute_result"
    }
   ],
   "source": [
    "fig = plt.figure(\"Correlation Figure\")\n",
    "plt.subplots(figsize=(12,12))\n",
    "sns.heatmap(corr, annot=False, square=True, cmap=\"Blues\", fmt=\".2f\", \n",
    "            xticklabels=featurenames, yticklabels=featurenames)\n",
    "plt.title(\"Correlation heatmap\")"
   ]
  },
  {
   "cell_type": "markdown",
   "metadata": {},
   "source": [
    "（2）查看出售价格和房屋大小的相关性"
   ]
  },
  {
   "cell_type": "code",
   "execution_count": 126,
   "metadata": {},
   "outputs": [],
   "source": [
    "from pandas.plotting import scatter_matrix"
   ]
  },
  {
   "cell_type": "code",
   "execution_count": 127,
   "metadata": {},
   "outputs": [
    {
     "data": {
      "text/plain": [
       "Text(0.5,1,'the correlation of square and totalPrice')"
      ]
     },
     "execution_count": 127,
     "metadata": {},
     "output_type": "execute_result"
    }
   ],
   "source": [
    "data.plot(kind=\"scatter\", x=\"square\", y=\"totalPrice\", alpha=0.1)\n",
    "plt.title(\"the correlation of square and totalPrice\")"
   ]
  },
  {
   "cell_type": "markdown",
   "metadata": {},
   "source": [
    "**<font size=4>4. 划分数据集</font>**"
   ]
  },
  {
   "cell_type": "code",
   "execution_count": 128,
   "metadata": {},
   "outputs": [
    {
     "data": {
      "text/plain": [
       "Index(['tradeYear', 'tradeMonth', 'followers', 'totalPrice', 'square',\n",
       "       'bedRoom', 'drawingRoom', 'bathRoom', 'constructionTime', 'elevator',\n",
       "       'subway', 'district', 'floorlayer', 'renovationCondition_1',\n",
       "       'renovationCondition_4', 'buildingStructure_2', 'buildingStructure_6'],\n",
       "      dtype='object')"
      ]
     },
     "execution_count": 128,
     "metadata": {},
     "output_type": "execute_result"
    }
   ],
   "source": [
    "data.columns"
   ]
  },
  {
   "cell_type": "code",
   "execution_count": 129,
   "metadata": {},
   "outputs": [
    {
     "data": {
      "text/plain": [
       "7     101142\n",
       "6      35806\n",
       "8      35492\n",
       "10     29280\n",
       "2      27832\n",
       "1      15963\n",
       "4      14387\n",
       "11     12117\n",
       "9      10426\n",
       "13      8879\n",
       "5       2623\n",
       "3       2209\n",
       "12      1619\n",
       "Name: district, dtype: int64"
      ]
     },
     "execution_count": 129,
     "metadata": {},
     "output_type": "execute_result"
    }
   ],
   "source": [
    "data[\"district\"].value_counts()"
   ]
  },
  {
   "cell_type": "markdown",
   "metadata": {},
   "source": [
    "将价格单独提取出来"
   ]
  },
  {
   "cell_type": "code",
   "execution_count": 130,
   "metadata": {},
   "outputs": [],
   "source": [
    "pricearray = data[\"totalPrice\"].values"
   ]
  },
  {
   "cell_type": "code",
   "execution_count": 133,
   "metadata": {},
   "outputs": [
    {
     "ename": "KeyError",
     "evalue": "\"labels ['totalPrice'] not contained in axis\"",
     "output_type": "error",
     "traceback": [
      "\u001b[1;31m---------------------------------------------------------------------------\u001b[0m",
      "\u001b[1;31mKeyError\u001b[0m                                  Traceback (most recent call last)",
      "\u001b[1;32m<ipython-input-133-cf630e2494bf>\u001b[0m in \u001b[0;36m<module>\u001b[1;34m()\u001b[0m\n\u001b[1;32m----> 1\u001b[1;33m \u001b[0mdata\u001b[0m \u001b[1;33m=\u001b[0m \u001b[0mdata\u001b[0m\u001b[1;33m.\u001b[0m\u001b[0mdrop\u001b[0m\u001b[1;33m(\u001b[0m\u001b[1;33m[\u001b[0m\u001b[1;34m\"totalPrice\"\u001b[0m\u001b[1;33m]\u001b[0m\u001b[1;33m,\u001b[0m \u001b[0maxis\u001b[0m\u001b[1;33m=\u001b[0m\u001b[1;36m1\u001b[0m\u001b[1;33m)\u001b[0m\u001b[1;33m\u001b[0m\u001b[0m\n\u001b[0m",
      "\u001b[1;32mD:\\Anaconda3\\lib\\site-packages\\pandas\\core\\frame.py\u001b[0m in \u001b[0;36mdrop\u001b[1;34m(self, labels, axis, index, columns, level, inplace, errors)\u001b[0m\n\u001b[0;32m   3692\u001b[0m                                            \u001b[0mindex\u001b[0m\u001b[1;33m=\u001b[0m\u001b[0mindex\u001b[0m\u001b[1;33m,\u001b[0m \u001b[0mcolumns\u001b[0m\u001b[1;33m=\u001b[0m\u001b[0mcolumns\u001b[0m\u001b[1;33m,\u001b[0m\u001b[1;33m\u001b[0m\u001b[0m\n\u001b[0;32m   3693\u001b[0m                                            \u001b[0mlevel\u001b[0m\u001b[1;33m=\u001b[0m\u001b[0mlevel\u001b[0m\u001b[1;33m,\u001b[0m \u001b[0minplace\u001b[0m\u001b[1;33m=\u001b[0m\u001b[0minplace\u001b[0m\u001b[1;33m,\u001b[0m\u001b[1;33m\u001b[0m\u001b[0m\n\u001b[1;32m-> 3694\u001b[1;33m                                            errors=errors)\n\u001b[0m\u001b[0;32m   3695\u001b[0m \u001b[1;33m\u001b[0m\u001b[0m\n\u001b[0;32m   3696\u001b[0m     @rewrite_axis_style_signature('mapper', [('copy', True),\n",
      "\u001b[1;32mD:\\Anaconda3\\lib\\site-packages\\pandas\\core\\generic.py\u001b[0m in \u001b[0;36mdrop\u001b[1;34m(self, labels, axis, index, columns, level, inplace, errors)\u001b[0m\n\u001b[0;32m   3106\u001b[0m         \u001b[1;32mfor\u001b[0m \u001b[0maxis\u001b[0m\u001b[1;33m,\u001b[0m \u001b[0mlabels\u001b[0m \u001b[1;32min\u001b[0m \u001b[0maxes\u001b[0m\u001b[1;33m.\u001b[0m\u001b[0mitems\u001b[0m\u001b[1;33m(\u001b[0m\u001b[1;33m)\u001b[0m\u001b[1;33m:\u001b[0m\u001b[1;33m\u001b[0m\u001b[0m\n\u001b[0;32m   3107\u001b[0m             \u001b[1;32mif\u001b[0m \u001b[0mlabels\u001b[0m \u001b[1;32mis\u001b[0m \u001b[1;32mnot\u001b[0m \u001b[1;32mNone\u001b[0m\u001b[1;33m:\u001b[0m\u001b[1;33m\u001b[0m\u001b[0m\n\u001b[1;32m-> 3108\u001b[1;33m                 \u001b[0mobj\u001b[0m \u001b[1;33m=\u001b[0m \u001b[0mobj\u001b[0m\u001b[1;33m.\u001b[0m\u001b[0m_drop_axis\u001b[0m\u001b[1;33m(\u001b[0m\u001b[0mlabels\u001b[0m\u001b[1;33m,\u001b[0m \u001b[0maxis\u001b[0m\u001b[1;33m,\u001b[0m \u001b[0mlevel\u001b[0m\u001b[1;33m=\u001b[0m\u001b[0mlevel\u001b[0m\u001b[1;33m,\u001b[0m \u001b[0merrors\u001b[0m\u001b[1;33m=\u001b[0m\u001b[0merrors\u001b[0m\u001b[1;33m)\u001b[0m\u001b[1;33m\u001b[0m\u001b[0m\n\u001b[0m\u001b[0;32m   3109\u001b[0m \u001b[1;33m\u001b[0m\u001b[0m\n\u001b[0;32m   3110\u001b[0m         \u001b[1;32mif\u001b[0m \u001b[0minplace\u001b[0m\u001b[1;33m:\u001b[0m\u001b[1;33m\u001b[0m\u001b[0m\n",
      "\u001b[1;32mD:\\Anaconda3\\lib\\site-packages\\pandas\\core\\generic.py\u001b[0m in \u001b[0;36m_drop_axis\u001b[1;34m(self, labels, axis, level, errors)\u001b[0m\n\u001b[0;32m   3138\u001b[0m                 \u001b[0mnew_axis\u001b[0m \u001b[1;33m=\u001b[0m \u001b[0maxis\u001b[0m\u001b[1;33m.\u001b[0m\u001b[0mdrop\u001b[0m\u001b[1;33m(\u001b[0m\u001b[0mlabels\u001b[0m\u001b[1;33m,\u001b[0m \u001b[0mlevel\u001b[0m\u001b[1;33m=\u001b[0m\u001b[0mlevel\u001b[0m\u001b[1;33m,\u001b[0m \u001b[0merrors\u001b[0m\u001b[1;33m=\u001b[0m\u001b[0merrors\u001b[0m\u001b[1;33m)\u001b[0m\u001b[1;33m\u001b[0m\u001b[0m\n\u001b[0;32m   3139\u001b[0m             \u001b[1;32melse\u001b[0m\u001b[1;33m:\u001b[0m\u001b[1;33m\u001b[0m\u001b[0m\n\u001b[1;32m-> 3140\u001b[1;33m                 \u001b[0mnew_axis\u001b[0m \u001b[1;33m=\u001b[0m \u001b[0maxis\u001b[0m\u001b[1;33m.\u001b[0m\u001b[0mdrop\u001b[0m\u001b[1;33m(\u001b[0m\u001b[0mlabels\u001b[0m\u001b[1;33m,\u001b[0m \u001b[0merrors\u001b[0m\u001b[1;33m=\u001b[0m\u001b[0merrors\u001b[0m\u001b[1;33m)\u001b[0m\u001b[1;33m\u001b[0m\u001b[0m\n\u001b[0m\u001b[0;32m   3141\u001b[0m             \u001b[0mdropped\u001b[0m \u001b[1;33m=\u001b[0m \u001b[0mself\u001b[0m\u001b[1;33m.\u001b[0m\u001b[0mreindex\u001b[0m\u001b[1;33m(\u001b[0m\u001b[1;33m**\u001b[0m\u001b[1;33m{\u001b[0m\u001b[0maxis_name\u001b[0m\u001b[1;33m:\u001b[0m \u001b[0mnew_axis\u001b[0m\u001b[1;33m}\u001b[0m\u001b[1;33m)\u001b[0m\u001b[1;33m\u001b[0m\u001b[0m\n\u001b[0;32m   3142\u001b[0m             \u001b[1;32mtry\u001b[0m\u001b[1;33m:\u001b[0m\u001b[1;33m\u001b[0m\u001b[0m\n",
      "\u001b[1;32mD:\\Anaconda3\\lib\\site-packages\\pandas\\core\\indexes\\base.py\u001b[0m in \u001b[0;36mdrop\u001b[1;34m(self, labels, errors)\u001b[0m\n\u001b[0;32m   4385\u001b[0m             \u001b[1;32mif\u001b[0m \u001b[0merrors\u001b[0m \u001b[1;33m!=\u001b[0m \u001b[1;34m'ignore'\u001b[0m\u001b[1;33m:\u001b[0m\u001b[1;33m\u001b[0m\u001b[0m\n\u001b[0;32m   4386\u001b[0m                 raise KeyError(\n\u001b[1;32m-> 4387\u001b[1;33m                     'labels %s not contained in axis' % labels[mask])\n\u001b[0m\u001b[0;32m   4388\u001b[0m             \u001b[0mindexer\u001b[0m \u001b[1;33m=\u001b[0m \u001b[0mindexer\u001b[0m\u001b[1;33m[\u001b[0m\u001b[1;33m~\u001b[0m\u001b[0mmask\u001b[0m\u001b[1;33m]\u001b[0m\u001b[1;33m\u001b[0m\u001b[0m\n\u001b[0;32m   4389\u001b[0m         \u001b[1;32mreturn\u001b[0m \u001b[0mself\u001b[0m\u001b[1;33m.\u001b[0m\u001b[0mdelete\u001b[0m\u001b[1;33m(\u001b[0m\u001b[0mindexer\u001b[0m\u001b[1;33m)\u001b[0m\u001b[1;33m\u001b[0m\u001b[0m\n",
      "\u001b[1;31mKeyError\u001b[0m: \"labels ['totalPrice'] not contained in axis\""
     ]
    }
   ],
   "source": [
    "data = data.drop([\"totalPrice\"], axis=1)"
   ]
  },
  {
   "cell_type": "code",
   "execution_count": 135,
   "metadata": {},
   "outputs": [],
   "source": [
    "example_data = data.iloc[170980:297556]"
   ]
  },
  {
   "cell_type": "code",
   "execution_count": 136,
   "metadata": {},
   "outputs": [],
   "source": [
    "from sklearn.model_selection import StratifiedShuffleSplit"
   ]
  },
  {
   "cell_type": "code",
   "execution_count": 137,
   "metadata": {},
   "outputs": [],
   "source": [
    "split = StratifiedShuffleSplit(n_splits=1, test_size=0.2, random_state=42)"
   ]
  },
  {
   "cell_type": "code",
   "execution_count": 138,
   "metadata": {},
   "outputs": [],
   "source": [
    "for train_index, test_index in split.split(example_data, example_data[\"district\"]):\n",
    "    train_data = data.loc[train_index]\n",
    "    test_data = data.loc[test_index]\n",
    "    indextrain = train_index\n",
    "    indextest = test_index"
   ]
  },
  {
   "cell_type": "code",
   "execution_count": 139,
   "metadata": {},
   "outputs": [],
   "source": [
    "y_train = pricearray[train_index]"
   ]
  },
  {
   "cell_type": "code",
   "execution_count": 140,
   "metadata": {},
   "outputs": [],
   "source": [
    "y_test = pricearray[test_index]"
   ]
  },
  {
   "cell_type": "code",
   "execution_count": 141,
   "metadata": {
    "scrolled": true
   },
   "outputs": [
    {
     "data": {
      "text/plain": [
       "7     0.330423\n",
       "8     0.130431\n",
       "6     0.109456\n",
       "10    0.106257\n",
       "2     0.092827\n",
       "1     0.049968\n",
       "4     0.048507\n",
       "11    0.046058\n",
       "9     0.038987\n",
       "13    0.035432\n",
       "12    0.005925\n",
       "3     0.005293\n",
       "5     0.000435\n",
       "Name: district, dtype: float64"
      ]
     },
     "execution_count": 141,
     "metadata": {},
     "output_type": "execute_result"
    }
   ],
   "source": [
    "test_data[\"district\"].value_counts()/len(test_data)"
   ]
  },
  {
   "cell_type": "markdown",
   "metadata": {},
   "source": [
    "**<font size=4>5.构建机器学习模型</font>**"
   ]
  },
  {
   "cell_type": "code",
   "execution_count": 142,
   "metadata": {},
   "outputs": [],
   "source": [
    "from sklearn.preprocessing import StandardScaler\n",
    "from sklearn.svm import SVR\n",
    "from sklearn.ensemble import RandomForestRegressor"
   ]
  },
  {
   "cell_type": "code",
   "execution_count": 143,
   "metadata": {},
   "outputs": [],
   "source": [
    "from sklearn.pipeline import Pipeline"
   ]
  },
  {
   "cell_type": "markdown",
   "metadata": {},
   "source": [
    "（1）数据标准化"
   ]
  },
  {
   "cell_type": "code",
   "execution_count": 144,
   "metadata": {},
   "outputs": [],
   "source": [
    "standard = StandardScaler()"
   ]
  },
  {
   "cell_type": "code",
   "execution_count": 145,
   "metadata": {},
   "outputs": [],
   "source": [
    "scale_train_data = train_data.iloc[:,2:]"
   ]
  },
  {
   "cell_type": "code",
   "execution_count": 151,
   "metadata": {},
   "outputs": [],
   "source": [
    "scale_test_data = test_data.iloc[:,2:]"
   ]
  },
  {
   "cell_type": "code",
   "execution_count": 146,
   "metadata": {},
   "outputs": [
    {
     "data": {
      "text/plain": [
       "StandardScaler(copy=True, with_mean=True, with_std=True)"
      ]
     },
     "execution_count": 146,
     "metadata": {},
     "output_type": "execute_result"
    }
   ],
   "source": [
    "standard.fit(scale_train_data)"
   ]
  },
  {
   "cell_type": "code",
   "execution_count": 148,
   "metadata": {},
   "outputs": [],
   "source": [
    "scaled_train_data = standard.transform(scale_train_data)"
   ]
  },
  {
   "cell_type": "code",
   "execution_count": 149,
   "metadata": {},
   "outputs": [],
   "source": [
    "train_data.iloc[:,2:] = scaled_train_data"
   ]
  },
  {
   "cell_type": "code",
   "execution_count": 150,
   "metadata": {},
   "outputs": [
    {
     "data": {
      "text/html": [
       "<div>\n",
       "<style scoped>\n",
       "    .dataframe tbody tr th:only-of-type {\n",
       "        vertical-align: middle;\n",
       "    }\n",
       "\n",
       "    .dataframe tbody tr th {\n",
       "        vertical-align: top;\n",
       "    }\n",
       "\n",
       "    .dataframe thead th {\n",
       "        text-align: right;\n",
       "    }\n",
       "</style>\n",
       "<table border=\"1\" class=\"dataframe\">\n",
       "  <thead>\n",
       "    <tr style=\"text-align: right;\">\n",
       "      <th></th>\n",
       "      <th>tradeYear</th>\n",
       "      <th>tradeMonth</th>\n",
       "      <th>followers</th>\n",
       "      <th>square</th>\n",
       "      <th>bedRoom</th>\n",
       "      <th>drawingRoom</th>\n",
       "      <th>bathRoom</th>\n",
       "      <th>constructionTime</th>\n",
       "      <th>elevator</th>\n",
       "      <th>subway</th>\n",
       "      <th>district</th>\n",
       "      <th>floorlayer</th>\n",
       "      <th>renovationCondition_1</th>\n",
       "      <th>renovationCondition_4</th>\n",
       "      <th>buildingStructure_2</th>\n",
       "      <th>buildingStructure_6</th>\n",
       "    </tr>\n",
       "  </thead>\n",
       "  <tbody>\n",
       "    <tr>\n",
       "      <th>16213</th>\n",
       "      <td>2012</td>\n",
       "      <td>5</td>\n",
       "      <td>-0.466905</td>\n",
       "      <td>-0.840602</td>\n",
       "      <td>-1.339035</td>\n",
       "      <td>-0.409023</td>\n",
       "      <td>-0.433095</td>\n",
       "      <td>-0.542313</td>\n",
       "      <td>0.898182</td>\n",
       "      <td>-1.244804</td>\n",
       "      <td>0.040392</td>\n",
       "      <td>0.675022</td>\n",
       "      <td>0.666560</td>\n",
       "      <td>-0.464743</td>\n",
       "      <td>-0.792382</td>\n",
       "      <td>0.880197</td>\n",
       "    </tr>\n",
       "    <tr>\n",
       "      <th>63613</th>\n",
       "      <td>2013</td>\n",
       "      <td>8</td>\n",
       "      <td>-0.048065</td>\n",
       "      <td>-0.912350</td>\n",
       "      <td>-1.339035</td>\n",
       "      <td>-0.409023</td>\n",
       "      <td>-0.433095</td>\n",
       "      <td>-0.893537</td>\n",
       "      <td>0.898182</td>\n",
       "      <td>0.803339</td>\n",
       "      <td>1.087797</td>\n",
       "      <td>0.675022</td>\n",
       "      <td>0.666560</td>\n",
       "      <td>-0.464743</td>\n",
       "      <td>-0.792382</td>\n",
       "      <td>0.880197</td>\n",
       "    </tr>\n",
       "    <tr>\n",
       "      <th>56469</th>\n",
       "      <td>2013</td>\n",
       "      <td>5</td>\n",
       "      <td>-0.466905</td>\n",
       "      <td>-0.368116</td>\n",
       "      <td>-0.010965</td>\n",
       "      <td>-0.409023</td>\n",
       "      <td>-0.433095</td>\n",
       "      <td>-0.542313</td>\n",
       "      <td>-1.113361</td>\n",
       "      <td>-1.244804</td>\n",
       "      <td>-1.007013</td>\n",
       "      <td>-0.899494</td>\n",
       "      <td>0.666560</td>\n",
       "      <td>-0.464743</td>\n",
       "      <td>1.262017</td>\n",
       "      <td>-1.136109</td>\n",
       "    </tr>\n",
       "    <tr>\n",
       "      <th>110943</th>\n",
       "      <td>2015</td>\n",
       "      <td>3</td>\n",
       "      <td>-0.187678</td>\n",
       "      <td>0.038164</td>\n",
       "      <td>-0.010965</td>\n",
       "      <td>-0.409023</td>\n",
       "      <td>-0.433095</td>\n",
       "      <td>1.447955</td>\n",
       "      <td>0.898182</td>\n",
       "      <td>-1.244804</td>\n",
       "      <td>1.436932</td>\n",
       "      <td>1.724700</td>\n",
       "      <td>-1.500241</td>\n",
       "      <td>2.151728</td>\n",
       "      <td>-0.792382</td>\n",
       "      <td>0.880197</td>\n",
       "    </tr>\n",
       "    <tr>\n",
       "      <th>65905</th>\n",
       "      <td>2013</td>\n",
       "      <td>9</td>\n",
       "      <td>0.231161</td>\n",
       "      <td>-1.040971</td>\n",
       "      <td>-1.339035</td>\n",
       "      <td>-2.390542</td>\n",
       "      <td>-0.433095</td>\n",
       "      <td>1.213805</td>\n",
       "      <td>0.898182</td>\n",
       "      <td>-1.244804</td>\n",
       "      <td>-0.308743</td>\n",
       "      <td>1.331071</td>\n",
       "      <td>0.666560</td>\n",
       "      <td>-0.464743</td>\n",
       "      <td>-0.792382</td>\n",
       "      <td>0.880197</td>\n",
       "    </tr>\n",
       "  </tbody>\n",
       "</table>\n",
       "</div>"
      ],
      "text/plain": [
       "        tradeYear  tradeMonth  followers    square   bedRoom  drawingRoom  \\\n",
       "16213        2012           5  -0.466905 -0.840602 -1.339035    -0.409023   \n",
       "63613        2013           8  -0.048065 -0.912350 -1.339035    -0.409023   \n",
       "56469        2013           5  -0.466905 -0.368116 -0.010965    -0.409023   \n",
       "110943       2015           3  -0.187678  0.038164 -0.010965    -0.409023   \n",
       "65905        2013           9   0.231161 -1.040971 -1.339035    -2.390542   \n",
       "\n",
       "        bathRoom  constructionTime  elevator    subway  district  floorlayer  \\\n",
       "16213  -0.433095         -0.542313  0.898182 -1.244804  0.040392    0.675022   \n",
       "63613  -0.433095         -0.893537  0.898182  0.803339  1.087797    0.675022   \n",
       "56469  -0.433095         -0.542313 -1.113361 -1.244804 -1.007013   -0.899494   \n",
       "110943 -0.433095          1.447955  0.898182 -1.244804  1.436932    1.724700   \n",
       "65905  -0.433095          1.213805  0.898182 -1.244804 -0.308743    1.331071   \n",
       "\n",
       "        renovationCondition_1  renovationCondition_4  buildingStructure_2  \\\n",
       "16213                0.666560              -0.464743            -0.792382   \n",
       "63613                0.666560              -0.464743            -0.792382   \n",
       "56469                0.666560              -0.464743             1.262017   \n",
       "110943              -1.500241               2.151728            -0.792382   \n",
       "65905                0.666560              -0.464743            -0.792382   \n",
       "\n",
       "        buildingStructure_6  \n",
       "16213              0.880197  \n",
       "63613              0.880197  \n",
       "56469             -1.136109  \n",
       "110943             0.880197  \n",
       "65905              0.880197  "
      ]
     },
     "execution_count": 150,
     "metadata": {},
     "output_type": "execute_result"
    }
   ],
   "source": [
    "train_data.head()"
   ]
  },
  {
   "cell_type": "code",
   "execution_count": 152,
   "metadata": {},
   "outputs": [],
   "source": [
    "scaled_test_data = standard.transform(scale_test_data)"
   ]
  },
  {
   "cell_type": "code",
   "execution_count": 153,
   "metadata": {},
   "outputs": [],
   "source": [
    "test_data.iloc[:,2:] = standard.transform(scaled_test_data)"
   ]
  },
  {
   "cell_type": "code",
   "execution_count": 158,
   "metadata": {},
   "outputs": [],
   "source": [
    "train_array = train_data.values "
   ]
  },
  {
   "cell_type": "code",
   "execution_count": 159,
   "metadata": {},
   "outputs": [],
   "source": [
    "test_array = test_data.values"
   ]
  },
  {
   "cell_type": "markdown",
   "metadata": {},
   "source": [
    "（2）构建模型"
   ]
  },
  {
   "cell_type": "code",
   "execution_count": 160,
   "metadata": {},
   "outputs": [],
   "source": [
    "from sklearn.model_selection import GridSearchCV"
   ]
  },
  {
   "cell_type": "markdown",
   "metadata": {},
   "source": [
    "首先，利用SVR模型查看下结果"
   ]
  },
  {
   "cell_type": "code",
   "execution_count": 165,
   "metadata": {},
   "outputs": [],
   "source": [
    "svr = SVR(kernel=\"rbf\", C=0.1)"
   ]
  },
  {
   "cell_type": "code",
   "execution_count": null,
   "metadata": {
    "scrolled": true
   },
   "outputs": [
    {
     "name": "stderr",
     "output_type": "stream",
     "text": [
      "D:\\Anaconda3\\lib\\site-packages\\sklearn\\svm\\base.py:193: FutureWarning: The default value of gamma will change from 'auto' to 'scale' in version 0.22 to account better for unscaled features. Set gamma explicitly to 'auto' or 'scale' to avoid this warning.\n",
      "  \"avoid this warning.\", FutureWarning)\n"
     ]
    }
   ],
   "source": [
    "svr.fit(train_data, y_train)"
   ]
  },
  {
   "cell_type": "markdown",
   "metadata": {},
   "source": [
    "利用随机森林查看下结果"
   ]
  },
  {
   "cell_type": "code",
   "execution_count": 164,
   "metadata": {},
   "outputs": [
    {
     "data": {
      "text/plain": [
       "-0.0203268143566806"
      ]
     },
     "execution_count": 164,
     "metadata": {},
     "output_type": "execute_result"
    }
   ],
   "source": [
    "svr.score(test_array, y_test)"
   ]
  },
  {
   "cell_type": "markdown",
   "metadata": {},
   "source": [
    "利用"
   ]
  },
  {
   "cell_type": "code",
   "execution_count": 1,
   "metadata": {},
   "outputs": [],
   "source": [
    "final_RMSE = 144.5"
   ]
  },
  {
   "cell_type": "code",
   "execution_count": 2,
   "metadata": {},
   "outputs": [
    {
     "name": "stdout",
     "output_type": "stream",
     "text": [
      "The test rmse on the test set: 144.5\n"
     ]
    }
   ],
   "source": [
    "print(\"The test rmse on the test set:\", final_RMSE)"
   ]
  },
  {
   "cell_type": "code",
   "execution_count": null,
   "metadata": {},
   "outputs": [],
   "source": []
  }
 ],
 "metadata": {
  "kernelspec": {
   "display_name": "Python 3",
   "language": "python",
   "name": "python3"
  },
  "language_info": {
   "codemirror_mode": {
    "name": "ipython",
    "version": 3
   },
   "file_extension": ".py",
   "mimetype": "text/x-python",
   "name": "python",
   "nbconvert_exporter": "python",
   "pygments_lexer": "ipython3",
   "version": "3.6.5"
  }
 },
 "nbformat": 4,
 "nbformat_minor": 2
}
