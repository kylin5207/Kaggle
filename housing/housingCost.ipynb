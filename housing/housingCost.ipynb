{
 "cells": [
  {
   "cell_type": "code",
   "execution_count": 1,
   "metadata": {},
   "outputs": [],
   "source": [
    "import pandas as pd\n",
    "import numpy as np\n",
    "import warnings"
   ]
  },
  {
   "cell_type": "code",
   "execution_count": 2,
   "metadata": {},
   "outputs": [],
   "source": [
    "warnings.filterwarnings(\"ignore\")"
   ]
  },
  {
   "cell_type": "markdown",
   "metadata": {},
   "source": [
    "**<font size=4>Ⅰ加载数据集</font>**"
   ]
  },
  {
   "cell_type": "code",
   "execution_count": 3,
   "metadata": {},
   "outputs": [],
   "source": [
    "data = pd.read_csv(\"housing.csv\")"
   ]
  },
  {
   "cell_type": "code",
   "execution_count": 4,
   "metadata": {},
   "outputs": [
    {
     "data": {
      "text/html": [
       "<div>\n",
       "<style scoped>\n",
       "    .dataframe tbody tr th:only-of-type {\n",
       "        vertical-align: middle;\n",
       "    }\n",
       "\n",
       "    .dataframe tbody tr th {\n",
       "        vertical-align: top;\n",
       "    }\n",
       "\n",
       "    .dataframe thead th {\n",
       "        text-align: right;\n",
       "    }\n",
       "</style>\n",
       "<table border=\"1\" class=\"dataframe\">\n",
       "  <thead>\n",
       "    <tr style=\"text-align: right;\">\n",
       "      <th></th>\n",
       "      <th>longitude</th>\n",
       "      <th>latitude</th>\n",
       "      <th>housing_median_age</th>\n",
       "      <th>total_rooms</th>\n",
       "      <th>total_bedrooms</th>\n",
       "      <th>population</th>\n",
       "      <th>households</th>\n",
       "      <th>median_income</th>\n",
       "      <th>median_house_value</th>\n",
       "      <th>ocean_proximity</th>\n",
       "    </tr>\n",
       "  </thead>\n",
       "  <tbody>\n",
       "    <tr>\n",
       "      <th>0</th>\n",
       "      <td>-122.23</td>\n",
       "      <td>37.88</td>\n",
       "      <td>41.0</td>\n",
       "      <td>880.0</td>\n",
       "      <td>129.0</td>\n",
       "      <td>322.0</td>\n",
       "      <td>126.0</td>\n",
       "      <td>8.3252</td>\n",
       "      <td>452600.0</td>\n",
       "      <td>NEAR BAY</td>\n",
       "    </tr>\n",
       "    <tr>\n",
       "      <th>1</th>\n",
       "      <td>-122.22</td>\n",
       "      <td>37.86</td>\n",
       "      <td>21.0</td>\n",
       "      <td>7099.0</td>\n",
       "      <td>1106.0</td>\n",
       "      <td>2401.0</td>\n",
       "      <td>1138.0</td>\n",
       "      <td>8.3014</td>\n",
       "      <td>358500.0</td>\n",
       "      <td>NEAR BAY</td>\n",
       "    </tr>\n",
       "    <tr>\n",
       "      <th>2</th>\n",
       "      <td>-122.24</td>\n",
       "      <td>37.85</td>\n",
       "      <td>52.0</td>\n",
       "      <td>1467.0</td>\n",
       "      <td>190.0</td>\n",
       "      <td>496.0</td>\n",
       "      <td>177.0</td>\n",
       "      <td>7.2574</td>\n",
       "      <td>352100.0</td>\n",
       "      <td>NEAR BAY</td>\n",
       "    </tr>\n",
       "    <tr>\n",
       "      <th>3</th>\n",
       "      <td>-122.25</td>\n",
       "      <td>37.85</td>\n",
       "      <td>52.0</td>\n",
       "      <td>1274.0</td>\n",
       "      <td>235.0</td>\n",
       "      <td>558.0</td>\n",
       "      <td>219.0</td>\n",
       "      <td>5.6431</td>\n",
       "      <td>341300.0</td>\n",
       "      <td>NEAR BAY</td>\n",
       "    </tr>\n",
       "    <tr>\n",
       "      <th>4</th>\n",
       "      <td>-122.25</td>\n",
       "      <td>37.85</td>\n",
       "      <td>52.0</td>\n",
       "      <td>1627.0</td>\n",
       "      <td>280.0</td>\n",
       "      <td>565.0</td>\n",
       "      <td>259.0</td>\n",
       "      <td>3.8462</td>\n",
       "      <td>342200.0</td>\n",
       "      <td>NEAR BAY</td>\n",
       "    </tr>\n",
       "  </tbody>\n",
       "</table>\n",
       "</div>"
      ],
      "text/plain": [
       "   longitude  latitude  housing_median_age  total_rooms  total_bedrooms  \\\n",
       "0    -122.23     37.88                41.0        880.0           129.0   \n",
       "1    -122.22     37.86                21.0       7099.0          1106.0   \n",
       "2    -122.24     37.85                52.0       1467.0           190.0   \n",
       "3    -122.25     37.85                52.0       1274.0           235.0   \n",
       "4    -122.25     37.85                52.0       1627.0           280.0   \n",
       "\n",
       "   population  households  median_income  median_house_value ocean_proximity  \n",
       "0       322.0       126.0         8.3252            452600.0        NEAR BAY  \n",
       "1      2401.0      1138.0         8.3014            358500.0        NEAR BAY  \n",
       "2       496.0       177.0         7.2574            352100.0        NEAR BAY  \n",
       "3       558.0       219.0         5.6431            341300.0        NEAR BAY  \n",
       "4       565.0       259.0         3.8462            342200.0        NEAR BAY  "
      ]
     },
     "execution_count": 4,
     "metadata": {},
     "output_type": "execute_result"
    }
   ],
   "source": [
    "data.head()"
   ]
  },
  {
   "cell_type": "markdown",
   "metadata": {},
   "source": [
    "1.查看shape"
   ]
  },
  {
   "cell_type": "code",
   "execution_count": 5,
   "metadata": {},
   "outputs": [
    {
     "data": {
      "text/plain": [
       "(20640, 10)"
      ]
     },
     "execution_count": 5,
     "metadata": {},
     "output_type": "execute_result"
    }
   ],
   "source": [
    "data.shape"
   ]
  },
  {
   "cell_type": "markdown",
   "metadata": {},
   "source": [
    "2.查看各个字段的相关信息"
   ]
  },
  {
   "cell_type": "code",
   "execution_count": 6,
   "metadata": {},
   "outputs": [
    {
     "name": "stdout",
     "output_type": "stream",
     "text": [
      "<class 'pandas.core.frame.DataFrame'>\n",
      "RangeIndex: 20640 entries, 0 to 20639\n",
      "Data columns (total 10 columns):\n",
      "longitude             20640 non-null float64\n",
      "latitude              20640 non-null float64\n",
      "housing_median_age    20640 non-null float64\n",
      "total_rooms           20640 non-null float64\n",
      "total_bedrooms        20433 non-null float64\n",
      "population            20640 non-null float64\n",
      "households            20640 non-null float64\n",
      "median_income         20640 non-null float64\n",
      "median_house_value    20640 non-null float64\n",
      "ocean_proximity       20640 non-null object\n",
      "dtypes: float64(9), object(1)\n",
      "memory usage: 1.6+ MB\n"
     ]
    }
   ],
   "source": [
    "data.info()"
   ]
  },
  {
   "cell_type": "markdown",
   "metadata": {},
   "source": [
    "查看ocean_proximity字段的数据类别及相应的数量"
   ]
  },
  {
   "cell_type": "code",
   "execution_count": 7,
   "metadata": {},
   "outputs": [
    {
     "data": {
      "text/plain": [
       "<1H OCEAN     9136\n",
       "INLAND        6551\n",
       "NEAR OCEAN    2658\n",
       "NEAR BAY      2290\n",
       "ISLAND           5\n",
       "Name: ocean_proximity, dtype: int64"
      ]
     },
     "execution_count": 7,
     "metadata": {},
     "output_type": "execute_result"
    }
   ],
   "source": [
    "data[\"ocean_proximity\"].value_counts()"
   ]
  },
  {
   "cell_type": "markdown",
   "metadata": {},
   "source": [
    "3.查看数据的一些统计信息"
   ]
  },
  {
   "cell_type": "code",
   "execution_count": 8,
   "metadata": {},
   "outputs": [
    {
     "data": {
      "text/html": [
       "<div>\n",
       "<style scoped>\n",
       "    .dataframe tbody tr th:only-of-type {\n",
       "        vertical-align: middle;\n",
       "    }\n",
       "\n",
       "    .dataframe tbody tr th {\n",
       "        vertical-align: top;\n",
       "    }\n",
       "\n",
       "    .dataframe thead th {\n",
       "        text-align: right;\n",
       "    }\n",
       "</style>\n",
       "<table border=\"1\" class=\"dataframe\">\n",
       "  <thead>\n",
       "    <tr style=\"text-align: right;\">\n",
       "      <th></th>\n",
       "      <th>longitude</th>\n",
       "      <th>latitude</th>\n",
       "      <th>housing_median_age</th>\n",
       "      <th>total_rooms</th>\n",
       "      <th>total_bedrooms</th>\n",
       "      <th>population</th>\n",
       "      <th>households</th>\n",
       "      <th>median_income</th>\n",
       "      <th>median_house_value</th>\n",
       "    </tr>\n",
       "  </thead>\n",
       "  <tbody>\n",
       "    <tr>\n",
       "      <th>count</th>\n",
       "      <td>20640.000000</td>\n",
       "      <td>20640.000000</td>\n",
       "      <td>20640.000000</td>\n",
       "      <td>20640.000000</td>\n",
       "      <td>20433.000000</td>\n",
       "      <td>20640.000000</td>\n",
       "      <td>20640.000000</td>\n",
       "      <td>20640.000000</td>\n",
       "      <td>20640.000000</td>\n",
       "    </tr>\n",
       "    <tr>\n",
       "      <th>mean</th>\n",
       "      <td>-119.569704</td>\n",
       "      <td>35.631861</td>\n",
       "      <td>28.639486</td>\n",
       "      <td>2635.763081</td>\n",
       "      <td>537.870553</td>\n",
       "      <td>1425.476744</td>\n",
       "      <td>499.539680</td>\n",
       "      <td>3.870671</td>\n",
       "      <td>206855.816909</td>\n",
       "    </tr>\n",
       "    <tr>\n",
       "      <th>std</th>\n",
       "      <td>2.003532</td>\n",
       "      <td>2.135952</td>\n",
       "      <td>12.585558</td>\n",
       "      <td>2181.615252</td>\n",
       "      <td>421.385070</td>\n",
       "      <td>1132.462122</td>\n",
       "      <td>382.329753</td>\n",
       "      <td>1.899822</td>\n",
       "      <td>115395.615874</td>\n",
       "    </tr>\n",
       "    <tr>\n",
       "      <th>min</th>\n",
       "      <td>-124.350000</td>\n",
       "      <td>32.540000</td>\n",
       "      <td>1.000000</td>\n",
       "      <td>2.000000</td>\n",
       "      <td>1.000000</td>\n",
       "      <td>3.000000</td>\n",
       "      <td>1.000000</td>\n",
       "      <td>0.499900</td>\n",
       "      <td>14999.000000</td>\n",
       "    </tr>\n",
       "    <tr>\n",
       "      <th>25%</th>\n",
       "      <td>-121.800000</td>\n",
       "      <td>33.930000</td>\n",
       "      <td>18.000000</td>\n",
       "      <td>1447.750000</td>\n",
       "      <td>296.000000</td>\n",
       "      <td>787.000000</td>\n",
       "      <td>280.000000</td>\n",
       "      <td>2.563400</td>\n",
       "      <td>119600.000000</td>\n",
       "    </tr>\n",
       "    <tr>\n",
       "      <th>50%</th>\n",
       "      <td>-118.490000</td>\n",
       "      <td>34.260000</td>\n",
       "      <td>29.000000</td>\n",
       "      <td>2127.000000</td>\n",
       "      <td>435.000000</td>\n",
       "      <td>1166.000000</td>\n",
       "      <td>409.000000</td>\n",
       "      <td>3.534800</td>\n",
       "      <td>179700.000000</td>\n",
       "    </tr>\n",
       "    <tr>\n",
       "      <th>75%</th>\n",
       "      <td>-118.010000</td>\n",
       "      <td>37.710000</td>\n",
       "      <td>37.000000</td>\n",
       "      <td>3148.000000</td>\n",
       "      <td>647.000000</td>\n",
       "      <td>1725.000000</td>\n",
       "      <td>605.000000</td>\n",
       "      <td>4.743250</td>\n",
       "      <td>264725.000000</td>\n",
       "    </tr>\n",
       "    <tr>\n",
       "      <th>max</th>\n",
       "      <td>-114.310000</td>\n",
       "      <td>41.950000</td>\n",
       "      <td>52.000000</td>\n",
       "      <td>39320.000000</td>\n",
       "      <td>6445.000000</td>\n",
       "      <td>35682.000000</td>\n",
       "      <td>6082.000000</td>\n",
       "      <td>15.000100</td>\n",
       "      <td>500001.000000</td>\n",
       "    </tr>\n",
       "  </tbody>\n",
       "</table>\n",
       "</div>"
      ],
      "text/plain": [
       "          longitude      latitude  housing_median_age   total_rooms  \\\n",
       "count  20640.000000  20640.000000        20640.000000  20640.000000   \n",
       "mean    -119.569704     35.631861           28.639486   2635.763081   \n",
       "std        2.003532      2.135952           12.585558   2181.615252   \n",
       "min     -124.350000     32.540000            1.000000      2.000000   \n",
       "25%     -121.800000     33.930000           18.000000   1447.750000   \n",
       "50%     -118.490000     34.260000           29.000000   2127.000000   \n",
       "75%     -118.010000     37.710000           37.000000   3148.000000   \n",
       "max     -114.310000     41.950000           52.000000  39320.000000   \n",
       "\n",
       "       total_bedrooms    population    households  median_income  \\\n",
       "count    20433.000000  20640.000000  20640.000000   20640.000000   \n",
       "mean       537.870553   1425.476744    499.539680       3.870671   \n",
       "std        421.385070   1132.462122    382.329753       1.899822   \n",
       "min          1.000000      3.000000      1.000000       0.499900   \n",
       "25%        296.000000    787.000000    280.000000       2.563400   \n",
       "50%        435.000000   1166.000000    409.000000       3.534800   \n",
       "75%        647.000000   1725.000000    605.000000       4.743250   \n",
       "max       6445.000000  35682.000000   6082.000000      15.000100   \n",
       "\n",
       "       median_house_value  \n",
       "count        20640.000000  \n",
       "mean        206855.816909  \n",
       "std         115395.615874  \n",
       "min          14999.000000  \n",
       "25%         119600.000000  \n",
       "50%         179700.000000  \n",
       "75%         264725.000000  \n",
       "max         500001.000000  "
      ]
     },
     "execution_count": 8,
     "metadata": {},
     "output_type": "execute_result"
    }
   ],
   "source": [
    "data.describe()"
   ]
  },
  {
   "cell_type": "markdown",
   "metadata": {},
   "source": [
    "4.利用plt.hist()方法，为data的每个数值字段绘制直方图"
   ]
  },
  {
   "cell_type": "code",
   "execution_count": 9,
   "metadata": {},
   "outputs": [],
   "source": [
    "import matplotlib.pyplot as plt"
   ]
  },
  {
   "cell_type": "code",
   "execution_count": 10,
   "metadata": {},
   "outputs": [
    {
     "data": {
      "image/png": "[encoded data removed]",
      "text/plain": [
       "<Figure size 1440x1080 with 9 Axes>"
      ]
     },
     "metadata": {},
     "output_type": "display_data"
    }
   ],
   "source": [
    "data.hist(bins=50, figsize=(20,15))\n",
    "plt.show()"
   ]
  },
  {
   "cell_type": "code",
   "execution_count": 11,
   "metadata": {},
   "outputs": [
    {
     "data": {
      "text/plain": [
       "count    20640.000000\n",
       "mean         3.870671\n",
       "std          1.899822\n",
       "min          0.499900\n",
       "25%          2.563400\n",
       "50%          3.534800\n",
       "75%          4.743250\n",
       "max         15.000100\n",
       "Name: median_income, dtype: float64"
      ]
     },
     "execution_count": 11,
     "metadata": {},
     "output_type": "execute_result"
    }
   ],
   "source": [
    "data[\"median_income\"].describe()"
   ]
  },
  {
   "cell_type": "markdown",
   "metadata": {},
   "source": [
    "5. 对数据进行可视化"
   ]
  },
  {
   "cell_type": "code",
   "execution_count": 12,
   "metadata": {
    "scrolled": true
   },
   "outputs": [
    {
     "data": {
      "text/plain": [
       "Text(0.5,1,'Geographical Data')"
      ]
     },
     "execution_count": 12,
     "metadata": {},
     "output_type": "execute_result"
    },
    {
     "data": {
      "image/png": "[encoded data removed]",
      "text/plain": [
       "<Figure size 432x288 with 1 Axes>"
      ]
     },
     "metadata": {},
     "output_type": "display_data"
    }
   ],
   "source": [
    "#地理数据可视化\n",
    "data.plot(kind=\"scatter\", x=\"longitude\", y=\"latitude\", alpha=0.1)\n",
    "plt.title(\"Geographical Data\")"
   ]
  },
  {
   "cell_type": "code",
   "execution_count": 13,
   "metadata": {},
   "outputs": [
    {
     "data": {
      "text/plain": [
       "<matplotlib.legend.Legend at 0x121693c8>"
      ]
     },
     "execution_count": 13,
     "metadata": {},
     "output_type": "execute_result"
    },
    {
     "data": {
      "image/png": "[encoded data removed]",
      "text/plain": [
       "<Figure size 720x504 with 2 Axes>"
      ]
     },
     "metadata": {},
     "output_type": "display_data"
    }
   ],
   "source": [
    "#查看房价信息\n",
    "data.plot(kind=\"scatter\", x=\"longitude\", y=\"latitude\", alpha=0.4, s=data[\"population\"]/100, label=\"population\",\n",
    "          figsize=(10,7), c=\"median_house_value\", cmap=plt.get_cmap(\"jet\"), colorbar=True)\n",
    "plt.title(\"Housing prices information\")\n",
    "plt.legend()"
   ]
  },
  {
   "cell_type": "markdown",
   "metadata": {},
   "source": [
    "6. 查看字段间的相关性"
   ]
  },
  {
   "cell_type": "code",
   "execution_count": 14,
   "metadata": {},
   "outputs": [
    {
     "data": {
      "text/html": [
       "<div>\n",
       "<style scoped>\n",
       "    .dataframe tbody tr th:only-of-type {\n",
       "        vertical-align: middle;\n",
       "    }\n",
       "\n",
       "    .dataframe tbody tr th {\n",
       "        vertical-align: top;\n",
       "    }\n",
       "\n",
       "    .dataframe thead th {\n",
       "        text-align: right;\n",
       "    }\n",
       "</style>\n",
       "<table border=\"1\" class=\"dataframe\">\n",
       "  <thead>\n",
       "    <tr style=\"text-align: right;\">\n",
       "      <th></th>\n",
       "      <th>longitude</th>\n",
       "      <th>latitude</th>\n",
       "      <th>housing_median_age</th>\n",
       "      <th>total_rooms</th>\n",
       "      <th>total_bedrooms</th>\n",
       "      <th>population</th>\n",
       "      <th>households</th>\n",
       "      <th>median_income</th>\n",
       "      <th>median_house_value</th>\n",
       "    </tr>\n",
       "  </thead>\n",
       "  <tbody>\n",
       "    <tr>\n",
       "      <th>longitude</th>\n",
       "      <td>1.000000</td>\n",
       "      <td>-0.924664</td>\n",
       "      <td>-0.108197</td>\n",
       "      <td>0.044568</td>\n",
       "      <td>0.069608</td>\n",
       "      <td>0.099773</td>\n",
       "      <td>0.055310</td>\n",
       "      <td>-0.015176</td>\n",
       "      <td>-0.045967</td>\n",
       "    </tr>\n",
       "    <tr>\n",
       "      <th>latitude</th>\n",
       "      <td>-0.924664</td>\n",
       "      <td>1.000000</td>\n",
       "      <td>0.011173</td>\n",
       "      <td>-0.036100</td>\n",
       "      <td>-0.066983</td>\n",
       "      <td>-0.108785</td>\n",
       "      <td>-0.071035</td>\n",
       "      <td>-0.079809</td>\n",
       "      <td>-0.144160</td>\n",
       "    </tr>\n",
       "    <tr>\n",
       "      <th>housing_median_age</th>\n",
       "      <td>-0.108197</td>\n",
       "      <td>0.011173</td>\n",
       "      <td>1.000000</td>\n",
       "      <td>-0.361262</td>\n",
       "      <td>-0.320451</td>\n",
       "      <td>-0.296244</td>\n",
       "      <td>-0.302916</td>\n",
       "      <td>-0.119034</td>\n",
       "      <td>0.105623</td>\n",
       "    </tr>\n",
       "    <tr>\n",
       "      <th>total_rooms</th>\n",
       "      <td>0.044568</td>\n",
       "      <td>-0.036100</td>\n",
       "      <td>-0.361262</td>\n",
       "      <td>1.000000</td>\n",
       "      <td>0.930380</td>\n",
       "      <td>0.857126</td>\n",
       "      <td>0.918484</td>\n",
       "      <td>0.198050</td>\n",
       "      <td>0.134153</td>\n",
       "    </tr>\n",
       "    <tr>\n",
       "      <th>total_bedrooms</th>\n",
       "      <td>0.069608</td>\n",
       "      <td>-0.066983</td>\n",
       "      <td>-0.320451</td>\n",
       "      <td>0.930380</td>\n",
       "      <td>1.000000</td>\n",
       "      <td>0.877747</td>\n",
       "      <td>0.979728</td>\n",
       "      <td>-0.007723</td>\n",
       "      <td>0.049686</td>\n",
       "    </tr>\n",
       "    <tr>\n",
       "      <th>population</th>\n",
       "      <td>0.099773</td>\n",
       "      <td>-0.108785</td>\n",
       "      <td>-0.296244</td>\n",
       "      <td>0.857126</td>\n",
       "      <td>0.877747</td>\n",
       "      <td>1.000000</td>\n",
       "      <td>0.907222</td>\n",
       "      <td>0.004834</td>\n",
       "      <td>-0.024650</td>\n",
       "    </tr>\n",
       "    <tr>\n",
       "      <th>households</th>\n",
       "      <td>0.055310</td>\n",
       "      <td>-0.071035</td>\n",
       "      <td>-0.302916</td>\n",
       "      <td>0.918484</td>\n",
       "      <td>0.979728</td>\n",
       "      <td>0.907222</td>\n",
       "      <td>1.000000</td>\n",
       "      <td>0.013033</td>\n",
       "      <td>0.065843</td>\n",
       "    </tr>\n",
       "    <tr>\n",
       "      <th>median_income</th>\n",
       "      <td>-0.015176</td>\n",
       "      <td>-0.079809</td>\n",
       "      <td>-0.119034</td>\n",
       "      <td>0.198050</td>\n",
       "      <td>-0.007723</td>\n",
       "      <td>0.004834</td>\n",
       "      <td>0.013033</td>\n",
       "      <td>1.000000</td>\n",
       "      <td>0.688075</td>\n",
       "    </tr>\n",
       "    <tr>\n",
       "      <th>median_house_value</th>\n",
       "      <td>-0.045967</td>\n",
       "      <td>-0.144160</td>\n",
       "      <td>0.105623</td>\n",
       "      <td>0.134153</td>\n",
       "      <td>0.049686</td>\n",
       "      <td>-0.024650</td>\n",
       "      <td>0.065843</td>\n",
       "      <td>0.688075</td>\n",
       "      <td>1.000000</td>\n",
       "    </tr>\n",
       "  </tbody>\n",
       "</table>\n",
       "</div>"
      ],
      "text/plain": [
       "                    longitude  latitude  housing_median_age  total_rooms  \\\n",
       "longitude            1.000000 -0.924664           -0.108197     0.044568   \n",
       "latitude            -0.924664  1.000000            0.011173    -0.036100   \n",
       "housing_median_age  -0.108197  0.011173            1.000000    -0.361262   \n",
       "total_rooms          0.044568 -0.036100           -0.361262     1.000000   \n",
       "total_bedrooms       0.069608 -0.066983           -0.320451     0.930380   \n",
       "population           0.099773 -0.108785           -0.296244     0.857126   \n",
       "households           0.055310 -0.071035           -0.302916     0.918484   \n",
       "median_income       -0.015176 -0.079809           -0.119034     0.198050   \n",
       "median_house_value  -0.045967 -0.144160            0.105623     0.134153   \n",
       "\n",
       "                    total_bedrooms  population  households  median_income  \\\n",
       "longitude                 0.069608    0.099773    0.055310      -0.015176   \n",
       "latitude                 -0.066983   -0.108785   -0.071035      -0.079809   \n",
       "housing_median_age       -0.320451   -0.296244   -0.302916      -0.119034   \n",
       "total_rooms               0.930380    0.857126    0.918484       0.198050   \n",
       "total_bedrooms            1.000000    0.877747    0.979728      -0.007723   \n",
       "population                0.877747    1.000000    0.907222       0.004834   \n",
       "households                0.979728    0.907222    1.000000       0.013033   \n",
       "median_income            -0.007723    0.004834    0.013033       1.000000   \n",
       "median_house_value        0.049686   -0.024650    0.065843       0.688075   \n",
       "\n",
       "                    median_house_value  \n",
       "longitude                    -0.045967  \n",
       "latitude                     -0.144160  \n",
       "housing_median_age            0.105623  \n",
       "total_rooms                   0.134153  \n",
       "total_bedrooms                0.049686  \n",
       "population                   -0.024650  \n",
       "households                    0.065843  \n",
       "median_income                 0.688075  \n",
       "median_house_value            1.000000  "
      ]
     },
     "execution_count": 14,
     "metadata": {},
     "output_type": "execute_result"
    }
   ],
   "source": [
    "corr_matrix = data.corr()\n",
    "corr_matrix"
   ]
  },
  {
   "cell_type": "code",
   "execution_count": 15,
   "metadata": {},
   "outputs": [
    {
     "data": {
      "text/plain": [
       "median_house_value    1.000000\n",
       "median_income         0.688075\n",
       "total_rooms           0.134153\n",
       "housing_median_age    0.105623\n",
       "households            0.065843\n",
       "total_bedrooms        0.049686\n",
       "population           -0.024650\n",
       "longitude            -0.045967\n",
       "latitude             -0.144160\n",
       "Name: median_house_value, dtype: float64"
      ]
     },
     "execution_count": 15,
     "metadata": {},
     "output_type": "execute_result"
    }
   ],
   "source": [
    "corr_matrix[\"median_house_value\"].sort_values(ascending=False)"
   ]
  },
  {
   "cell_type": "code",
   "execution_count": 16,
   "metadata": {},
   "outputs": [
    {
     "data": {
      "text/plain": [
       "array([[<matplotlib.axes._subplots.AxesSubplot object at 0x00000000125BB0F0>,\n",
       "        <matplotlib.axes._subplots.AxesSubplot object at 0x00000000142688D0>,\n",
       "        <matplotlib.axes._subplots.AxesSubplot object at 0x0000000011DA2F60>,\n",
       "        <matplotlib.axes._subplots.AxesSubplot object at 0x0000000011DD2630>],\n",
       "       [<matplotlib.axes._subplots.AxesSubplot object at 0x0000000011DF6CC0>,\n",
       "        <matplotlib.axes._subplots.AxesSubplot object at 0x0000000011DF6CF8>,\n",
       "        <matplotlib.axes._subplots.AxesSubplot object at 0x0000000011E54A20>,\n",
       "        <matplotlib.axes._subplots.AxesSubplot object at 0x0000000011E840F0>],\n",
       "       [<matplotlib.axes._subplots.AxesSubplot object at 0x0000000011EAD780>,\n",
       "        <matplotlib.axes._subplots.AxesSubplot object at 0x0000000011ED6E10>,\n",
       "        <matplotlib.axes._subplots.AxesSubplot object at 0x0000000013F554E0>,\n",
       "        <matplotlib.axes._subplots.AxesSubplot object at 0x0000000013F7DB70>],\n",
       "       [<matplotlib.axes._subplots.AxesSubplot object at 0x0000000013FB2240>,\n",
       "        <matplotlib.axes._subplots.AxesSubplot object at 0x0000000013FD98D0>,\n",
       "        <matplotlib.axes._subplots.AxesSubplot object at 0x0000000014001F60>,\n",
       "        <matplotlib.axes._subplots.AxesSubplot object at 0x0000000014033630>]],\n",
       "      dtype=object)"
      ]
     },
     "execution_count": 16,
     "metadata": {},
     "output_type": "execute_result"
    },
    {
     "data": {
      "image/png": "[encoded data removed]",
      "text/plain": [
       "<Figure size 720x576 with 16 Axes>"
      ]
     },
     "metadata": {},
     "output_type": "display_data"
    }
   ],
   "source": [
    "from pandas.plotting import scatter_matrix\n",
    "attributes = [\"median_house_value\", \"median_income\", \"total_rooms\", \"housing_median_age\"]\n",
    "scatter_matrix(data[attributes], figsize=(10,8))"
   ]
  },
  {
   "cell_type": "code",
   "execution_count": 17,
   "metadata": {},
   "outputs": [
    {
     "data": {
      "text/plain": [
       "Text(0.5,1,'the relationship between income and houseValue')"
      ]
     },
     "execution_count": 17,
     "metadata": {},
     "output_type": "execute_result"
    },
    {
     "data": {
      "image/png": "[encoded data removed]",
      "text/plain": [
       "<Figure size 720x504 with 1 Axes>"
      ]
     },
     "metadata": {},
     "output_type": "display_data"
    }
   ],
   "source": [
    "data.plot(kind=\"scatter\", x=\"median_income\", y=\"median_house_value\", alpha=0.1, figsize=(10,7))\n",
    "plt.title(\"the relationship between income and houseValue\")"
   ]
  },
  {
   "cell_type": "code",
   "execution_count": 18,
   "metadata": {},
   "outputs": [],
   "source": [
    "data[\"rooms_per_household\"] = data[\"total_rooms\"]/data[\"households\"]\n",
    "data[\"bedrooms_per_room\"] = data[\"total_bedrooms\"]/data[\"total_rooms\"]\n",
    "data[\"population_per_household\"] = data[\"population\"]/ data[\"households\"]"
   ]
  },
  {
   "cell_type": "code",
   "execution_count": 19,
   "metadata": {},
   "outputs": [],
   "source": [
    "corr_matrix = data.corr()"
   ]
  },
  {
   "cell_type": "code",
   "execution_count": 20,
   "metadata": {},
   "outputs": [
    {
     "data": {
      "text/plain": [
       "median_house_value          1.000000\n",
       "median_income               0.688075\n",
       "rooms_per_household         0.151948\n",
       "total_rooms                 0.134153\n",
       "housing_median_age          0.105623\n",
       "households                  0.065843\n",
       "total_bedrooms              0.049686\n",
       "population_per_household   -0.023737\n",
       "population                 -0.024650\n",
       "longitude                  -0.045967\n",
       "latitude                   -0.144160\n",
       "bedrooms_per_room          -0.255880\n",
       "Name: median_house_value, dtype: float64"
      ]
     },
     "execution_count": 20,
     "metadata": {},
     "output_type": "execute_result"
    }
   ],
   "source": [
    "corr_matrix[\"median_house_value\"].sort_values(ascending=False)"
   ]
  },
  {
   "cell_type": "markdown",
   "metadata": {},
   "source": [
    "**<font size=4>Ⅱ 数据预处理</font>**"
   ]
  },
  {
   "cell_type": "markdown",
   "metadata": {},
   "source": [
    "1.将label和特征分开"
   ]
  },
  {
   "cell_type": "code",
   "execution_count": 21,
   "metadata": {},
   "outputs": [],
   "source": [
    "data_labels = data[\"median_house_value\"]\n",
    "data_features = data.drop(\"median_house_value\", axis=1)"
   ]
  },
  {
   "cell_type": "code",
   "execution_count": 22,
   "metadata": {},
   "outputs": [
    {
     "data": {
      "text/plain": [
       "((20640,), (20640, 12))"
      ]
     },
     "execution_count": 22,
     "metadata": {},
     "output_type": "execute_result"
    }
   ],
   "source": [
    "data_labels.shape, data_features.shape"
   ]
  },
  {
   "cell_type": "markdown",
   "metadata": {},
   "source": [
    "2.缺失值填充"
   ]
  },
  {
   "cell_type": "code",
   "execution_count": 23,
   "metadata": {},
   "outputs": [],
   "source": [
    "median = data_features[\"total_bedrooms\"].median()\n",
    "data_features[\"total_bedrooms\"].fillna(median, inplace=True)"
   ]
  },
  {
   "cell_type": "code",
   "execution_count": 24,
   "metadata": {
    "scrolled": true
   },
   "outputs": [
    {
     "data": {
      "text/plain": [
       "longitude                   20640\n",
       "latitude                    20640\n",
       "housing_median_age          20640\n",
       "total_rooms                 20640\n",
       "total_bedrooms              20640\n",
       "population                  20640\n",
       "households                  20640\n",
       "median_income               20640\n",
       "ocean_proximity             20640\n",
       "rooms_per_household         20640\n",
       "bedrooms_per_room           20433\n",
       "population_per_household    20640\n",
       "dtype: int64"
      ]
     },
     "execution_count": 24,
     "metadata": {},
     "output_type": "execute_result"
    }
   ],
   "source": [
    "data_features.count()"
   ]
  },
  {
   "cell_type": "code",
   "execution_count": 25,
   "metadata": {},
   "outputs": [],
   "source": [
    "median_bedrooms_per_room = data_features[\"bedrooms_per_room\"].median()\n",
    "data_features[\"bedrooms_per_room\"].fillna(median_bedrooms_per_room, inplace=True)"
   ]
  },
  {
   "cell_type": "code",
   "execution_count": 26,
   "metadata": {},
   "outputs": [
    {
     "data": {
      "text/plain": [
       "longitude                   20640\n",
       "latitude                    20640\n",
       "housing_median_age          20640\n",
       "total_rooms                 20640\n",
       "total_bedrooms              20640\n",
       "population                  20640\n",
       "households                  20640\n",
       "median_income               20640\n",
       "ocean_proximity             20640\n",
       "rooms_per_household         20640\n",
       "bedrooms_per_room           20640\n",
       "population_per_household    20640\n",
       "dtype: int64"
      ]
     },
     "execution_count": 26,
     "metadata": {},
     "output_type": "execute_result"
    }
   ],
   "source": [
    "data_features.count()"
   ]
  },
  {
   "cell_type": "markdown",
   "metadata": {},
   "source": [
    "<font color=\"red\">可以发现此时已经对缺失值进行了填充，特征数据集中没有缺失值。</font>"
   ]
  },
  {
   "cell_type": "markdown",
   "metadata": {},
   "source": [
    "3.对类别属性进行处理"
   ]
  },
  {
   "cell_type": "markdown",
   "metadata": {},
   "source": [
    "①使用dummy进行哑元编码"
   ]
  },
  {
   "cell_type": "code",
   "execution_count": 27,
   "metadata": {},
   "outputs": [],
   "source": [
    "data_features = pd.get_dummies(data_features)"
   ]
  },
  {
   "cell_type": "code",
   "execution_count": 28,
   "metadata": {
    "scrolled": true
   },
   "outputs": [
    {
     "data": {
      "text/html": [
       "<div>\n",
       "<style scoped>\n",
       "    .dataframe tbody tr th:only-of-type {\n",
       "        vertical-align: middle;\n",
       "    }\n",
       "\n",
       "    .dataframe tbody tr th {\n",
       "        vertical-align: top;\n",
       "    }\n",
       "\n",
       "    .dataframe thead th {\n",
       "        text-align: right;\n",
       "    }\n",
       "</style>\n",
       "<table border=\"1\" class=\"dataframe\">\n",
       "  <thead>\n",
       "    <tr style=\"text-align: right;\">\n",
       "      <th></th>\n",
       "      <th>longitude</th>\n",
       "      <th>latitude</th>\n",
       "      <th>housing_median_age</th>\n",
       "      <th>total_rooms</th>\n",
       "      <th>total_bedrooms</th>\n",
       "      <th>population</th>\n",
       "      <th>households</th>\n",
       "      <th>median_income</th>\n",
       "      <th>rooms_per_household</th>\n",
       "      <th>bedrooms_per_room</th>\n",
       "      <th>population_per_household</th>\n",
       "      <th>ocean_proximity_&lt;1H OCEAN</th>\n",
       "      <th>ocean_proximity_INLAND</th>\n",
       "      <th>ocean_proximity_ISLAND</th>\n",
       "      <th>ocean_proximity_NEAR BAY</th>\n",
       "      <th>ocean_proximity_NEAR OCEAN</th>\n",
       "    </tr>\n",
       "  </thead>\n",
       "  <tbody>\n",
       "    <tr>\n",
       "      <th>0</th>\n",
       "      <td>-122.23</td>\n",
       "      <td>37.88</td>\n",
       "      <td>41.0</td>\n",
       "      <td>880.0</td>\n",
       "      <td>129.0</td>\n",
       "      <td>322.0</td>\n",
       "      <td>126.0</td>\n",
       "      <td>8.3252</td>\n",
       "      <td>6.984127</td>\n",
       "      <td>0.146591</td>\n",
       "      <td>2.555556</td>\n",
       "      <td>0</td>\n",
       "      <td>0</td>\n",
       "      <td>0</td>\n",
       "      <td>1</td>\n",
       "      <td>0</td>\n",
       "    </tr>\n",
       "    <tr>\n",
       "      <th>1</th>\n",
       "      <td>-122.22</td>\n",
       "      <td>37.86</td>\n",
       "      <td>21.0</td>\n",
       "      <td>7099.0</td>\n",
       "      <td>1106.0</td>\n",
       "      <td>2401.0</td>\n",
       "      <td>1138.0</td>\n",
       "      <td>8.3014</td>\n",
       "      <td>6.238137</td>\n",
       "      <td>0.155797</td>\n",
       "      <td>2.109842</td>\n",
       "      <td>0</td>\n",
       "      <td>0</td>\n",
       "      <td>0</td>\n",
       "      <td>1</td>\n",
       "      <td>0</td>\n",
       "    </tr>\n",
       "    <tr>\n",
       "      <th>2</th>\n",
       "      <td>-122.24</td>\n",
       "      <td>37.85</td>\n",
       "      <td>52.0</td>\n",
       "      <td>1467.0</td>\n",
       "      <td>190.0</td>\n",
       "      <td>496.0</td>\n",
       "      <td>177.0</td>\n",
       "      <td>7.2574</td>\n",
       "      <td>8.288136</td>\n",
       "      <td>0.129516</td>\n",
       "      <td>2.802260</td>\n",
       "      <td>0</td>\n",
       "      <td>0</td>\n",
       "      <td>0</td>\n",
       "      <td>1</td>\n",
       "      <td>0</td>\n",
       "    </tr>\n",
       "    <tr>\n",
       "      <th>3</th>\n",
       "      <td>-122.25</td>\n",
       "      <td>37.85</td>\n",
       "      <td>52.0</td>\n",
       "      <td>1274.0</td>\n",
       "      <td>235.0</td>\n",
       "      <td>558.0</td>\n",
       "      <td>219.0</td>\n",
       "      <td>5.6431</td>\n",
       "      <td>5.817352</td>\n",
       "      <td>0.184458</td>\n",
       "      <td>2.547945</td>\n",
       "      <td>0</td>\n",
       "      <td>0</td>\n",
       "      <td>0</td>\n",
       "      <td>1</td>\n",
       "      <td>0</td>\n",
       "    </tr>\n",
       "    <tr>\n",
       "      <th>4</th>\n",
       "      <td>-122.25</td>\n",
       "      <td>37.85</td>\n",
       "      <td>52.0</td>\n",
       "      <td>1627.0</td>\n",
       "      <td>280.0</td>\n",
       "      <td>565.0</td>\n",
       "      <td>259.0</td>\n",
       "      <td>3.8462</td>\n",
       "      <td>6.281853</td>\n",
       "      <td>0.172096</td>\n",
       "      <td>2.181467</td>\n",
       "      <td>0</td>\n",
       "      <td>0</td>\n",
       "      <td>0</td>\n",
       "      <td>1</td>\n",
       "      <td>0</td>\n",
       "    </tr>\n",
       "  </tbody>\n",
       "</table>\n",
       "</div>"
      ],
      "text/plain": [
       "   longitude  latitude  housing_median_age  total_rooms  total_bedrooms  \\\n",
       "0    -122.23     37.88                41.0        880.0           129.0   \n",
       "1    -122.22     37.86                21.0       7099.0          1106.0   \n",
       "2    -122.24     37.85                52.0       1467.0           190.0   \n",
       "3    -122.25     37.85                52.0       1274.0           235.0   \n",
       "4    -122.25     37.85                52.0       1627.0           280.0   \n",
       "\n",
       "   population  households  median_income  rooms_per_household  \\\n",
       "0       322.0       126.0         8.3252             6.984127   \n",
       "1      2401.0      1138.0         8.3014             6.238137   \n",
       "2       496.0       177.0         7.2574             8.288136   \n",
       "3       558.0       219.0         5.6431             5.817352   \n",
       "4       565.0       259.0         3.8462             6.281853   \n",
       "\n",
       "   bedrooms_per_room  population_per_household  ocean_proximity_<1H OCEAN  \\\n",
       "0           0.146591                  2.555556                          0   \n",
       "1           0.155797                  2.109842                          0   \n",
       "2           0.129516                  2.802260                          0   \n",
       "3           0.184458                  2.547945                          0   \n",
       "4           0.172096                  2.181467                          0   \n",
       "\n",
       "   ocean_proximity_INLAND  ocean_proximity_ISLAND  ocean_proximity_NEAR BAY  \\\n",
       "0                       0                       0                         1   \n",
       "1                       0                       0                         1   \n",
       "2                       0                       0                         1   \n",
       "3                       0                       0                         1   \n",
       "4                       0                       0                         1   \n",
       "\n",
       "   ocean_proximity_NEAR OCEAN  \n",
       "0                           0  \n",
       "1                           0  \n",
       "2                           0  \n",
       "3                           0  \n",
       "4                           0  "
      ]
     },
     "execution_count": 28,
     "metadata": {},
     "output_type": "execute_result"
    }
   ],
   "source": [
    "data_features.head()"
   ]
  },
  {
   "cell_type": "markdown",
   "metadata": {},
   "source": [
    "②使用OrdinalEncoder对类别进行顺序编码"
   ]
  },
  {
   "cell_type": "code",
   "execution_count": 29,
   "metadata": {},
   "outputs": [],
   "source": [
    "#from sklearn.preprocessing import OrdinalEncoder\n",
    "#ordinalencoder = OrdinalEncoder()"
   ]
  },
  {
   "cell_type": "code",
   "execution_count": 30,
   "metadata": {},
   "outputs": [],
   "source": [
    "#oceanproximity = data_features[[\"ocean_proximity\"]]"
   ]
  },
  {
   "cell_type": "code",
   "execution_count": 31,
   "metadata": {},
   "outputs": [],
   "source": [
    "#encoderarray = ordinalencoder.fit_transform(oceanproximity)\n",
    "#encoderarray"
   ]
  },
  {
   "cell_type": "code",
   "execution_count": 32,
   "metadata": {},
   "outputs": [],
   "source": [
    "#ordinalencoder.categories_"
   ]
  },
  {
   "cell_type": "markdown",
   "metadata": {},
   "source": [
    "4.特征缩放"
   ]
  },
  {
   "cell_type": "code",
   "execution_count": 33,
   "metadata": {},
   "outputs": [],
   "source": [
    "from sklearn.preprocessing import StandardScaler\n",
    "scaler = StandardScaler()\n",
    "scaler.fit(data_features)\n",
    "features_scaled = scaler.transform(data_features)"
   ]
  },
  {
   "cell_type": "code",
   "execution_count": 34,
   "metadata": {},
   "outputs": [
    {
     "data": {
      "text/plain": [
       "array([[-1.32783522,  1.05254828,  0.98214266, ..., -0.01556621,\n",
       "         2.83074203, -0.38446649],\n",
       "       [-1.32284391,  1.04318455, -0.60701891, ..., -0.01556621,\n",
       "         2.83074203, -0.38446649],\n",
       "       [-1.33282653,  1.03850269,  1.85618152, ..., -0.01556621,\n",
       "         2.83074203, -0.38446649],\n",
       "       ...,\n",
       "       [-0.8237132 ,  1.77823747, -0.92485123, ..., -0.01556621,\n",
       "        -0.35326426, -0.38446649],\n",
       "       [-0.87362627,  1.77823747, -0.84539315, ..., -0.01556621,\n",
       "        -0.35326426, -0.38446649],\n",
       "       [-0.83369581,  1.75014627, -1.00430931, ..., -0.01556621,\n",
       "        -0.35326426, -0.38446649]])"
      ]
     },
     "execution_count": 34,
     "metadata": {},
     "output_type": "execute_result"
    }
   ],
   "source": [
    "features_scaled"
   ]
  },
  {
   "cell_type": "markdown",
   "metadata": {},
   "source": [
    "4.特征选择"
   ]
  },
  {
   "cell_type": "code",
   "execution_count": 35,
   "metadata": {},
   "outputs": [
    {
     "data": {
      "text/html": [
       "<div>\n",
       "<style scoped>\n",
       "    .dataframe tbody tr th:only-of-type {\n",
       "        vertical-align: middle;\n",
       "    }\n",
       "\n",
       "    .dataframe tbody tr th {\n",
       "        vertical-align: top;\n",
       "    }\n",
       "\n",
       "    .dataframe thead th {\n",
       "        text-align: right;\n",
       "    }\n",
       "</style>\n",
       "<table border=\"1\" class=\"dataframe\">\n",
       "  <thead>\n",
       "    <tr style=\"text-align: right;\">\n",
       "      <th></th>\n",
       "      <th>longitude</th>\n",
       "      <th>latitude</th>\n",
       "      <th>housing_median_age</th>\n",
       "      <th>total_rooms</th>\n",
       "      <th>total_bedrooms</th>\n",
       "      <th>population</th>\n",
       "      <th>households</th>\n",
       "      <th>median_income</th>\n",
       "      <th>rooms_per_household</th>\n",
       "      <th>bedrooms_per_room</th>\n",
       "      <th>population_per_household</th>\n",
       "      <th>ocean_proximity_&lt;1H OCEAN</th>\n",
       "      <th>ocean_proximity_INLAND</th>\n",
       "      <th>ocean_proximity_ISLAND</th>\n",
       "      <th>ocean_proximity_NEAR BAY</th>\n",
       "      <th>ocean_proximity_NEAR OCEAN</th>\n",
       "    </tr>\n",
       "  </thead>\n",
       "  <tbody>\n",
       "    <tr>\n",
       "      <th>0</th>\n",
       "      <td>-122.23</td>\n",
       "      <td>37.88</td>\n",
       "      <td>41.0</td>\n",
       "      <td>880.0</td>\n",
       "      <td>129.0</td>\n",
       "      <td>322.0</td>\n",
       "      <td>126.0</td>\n",
       "      <td>8.3252</td>\n",
       "      <td>6.984127</td>\n",
       "      <td>0.146591</td>\n",
       "      <td>2.555556</td>\n",
       "      <td>0</td>\n",
       "      <td>0</td>\n",
       "      <td>0</td>\n",
       "      <td>1</td>\n",
       "      <td>0</td>\n",
       "    </tr>\n",
       "    <tr>\n",
       "      <th>1</th>\n",
       "      <td>-122.22</td>\n",
       "      <td>37.86</td>\n",
       "      <td>21.0</td>\n",
       "      <td>7099.0</td>\n",
       "      <td>1106.0</td>\n",
       "      <td>2401.0</td>\n",
       "      <td>1138.0</td>\n",
       "      <td>8.3014</td>\n",
       "      <td>6.238137</td>\n",
       "      <td>0.155797</td>\n",
       "      <td>2.109842</td>\n",
       "      <td>0</td>\n",
       "      <td>0</td>\n",
       "      <td>0</td>\n",
       "      <td>1</td>\n",
       "      <td>0</td>\n",
       "    </tr>\n",
       "    <tr>\n",
       "      <th>2</th>\n",
       "      <td>-122.24</td>\n",
       "      <td>37.85</td>\n",
       "      <td>52.0</td>\n",
       "      <td>1467.0</td>\n",
       "      <td>190.0</td>\n",
       "      <td>496.0</td>\n",
       "      <td>177.0</td>\n",
       "      <td>7.2574</td>\n",
       "      <td>8.288136</td>\n",
       "      <td>0.129516</td>\n",
       "      <td>2.802260</td>\n",
       "      <td>0</td>\n",
       "      <td>0</td>\n",
       "      <td>0</td>\n",
       "      <td>1</td>\n",
       "      <td>0</td>\n",
       "    </tr>\n",
       "    <tr>\n",
       "      <th>3</th>\n",
       "      <td>-122.25</td>\n",
       "      <td>37.85</td>\n",
       "      <td>52.0</td>\n",
       "      <td>1274.0</td>\n",
       "      <td>235.0</td>\n",
       "      <td>558.0</td>\n",
       "      <td>219.0</td>\n",
       "      <td>5.6431</td>\n",
       "      <td>5.817352</td>\n",
       "      <td>0.184458</td>\n",
       "      <td>2.547945</td>\n",
       "      <td>0</td>\n",
       "      <td>0</td>\n",
       "      <td>0</td>\n",
       "      <td>1</td>\n",
       "      <td>0</td>\n",
       "    </tr>\n",
       "    <tr>\n",
       "      <th>4</th>\n",
       "      <td>-122.25</td>\n",
       "      <td>37.85</td>\n",
       "      <td>52.0</td>\n",
       "      <td>1627.0</td>\n",
       "      <td>280.0</td>\n",
       "      <td>565.0</td>\n",
       "      <td>259.0</td>\n",
       "      <td>3.8462</td>\n",
       "      <td>6.281853</td>\n",
       "      <td>0.172096</td>\n",
       "      <td>2.181467</td>\n",
       "      <td>0</td>\n",
       "      <td>0</td>\n",
       "      <td>0</td>\n",
       "      <td>1</td>\n",
       "      <td>0</td>\n",
       "    </tr>\n",
       "  </tbody>\n",
       "</table>\n",
       "</div>"
      ],
      "text/plain": [
       "   longitude  latitude  housing_median_age  total_rooms  total_bedrooms  \\\n",
       "0    -122.23     37.88                41.0        880.0           129.0   \n",
       "1    -122.22     37.86                21.0       7099.0          1106.0   \n",
       "2    -122.24     37.85                52.0       1467.0           190.0   \n",
       "3    -122.25     37.85                52.0       1274.0           235.0   \n",
       "4    -122.25     37.85                52.0       1627.0           280.0   \n",
       "\n",
       "   population  households  median_income  rooms_per_household  \\\n",
       "0       322.0       126.0         8.3252             6.984127   \n",
       "1      2401.0      1138.0         8.3014             6.238137   \n",
       "2       496.0       177.0         7.2574             8.288136   \n",
       "3       558.0       219.0         5.6431             5.817352   \n",
       "4       565.0       259.0         3.8462             6.281853   \n",
       "\n",
       "   bedrooms_per_room  population_per_household  ocean_proximity_<1H OCEAN  \\\n",
       "0           0.146591                  2.555556                          0   \n",
       "1           0.155797                  2.109842                          0   \n",
       "2           0.129516                  2.802260                          0   \n",
       "3           0.184458                  2.547945                          0   \n",
       "4           0.172096                  2.181467                          0   \n",
       "\n",
       "   ocean_proximity_INLAND  ocean_proximity_ISLAND  ocean_proximity_NEAR BAY  \\\n",
       "0                       0                       0                         1   \n",
       "1                       0                       0                         1   \n",
       "2                       0                       0                         1   \n",
       "3                       0                       0                         1   \n",
       "4                       0                       0                         1   \n",
       "\n",
       "   ocean_proximity_NEAR OCEAN  \n",
       "0                           0  \n",
       "1                           0  \n",
       "2                           0  \n",
       "3                           0  \n",
       "4                           0  "
      ]
     },
     "execution_count": 35,
     "metadata": {},
     "output_type": "execute_result"
    }
   ],
   "source": [
    "data_features.head()"
   ]
  },
  {
   "cell_type": "code",
   "execution_count": 36,
   "metadata": {},
   "outputs": [
    {
     "data": {
      "text/plain": [
       "(20640, 16)"
      ]
     },
     "execution_count": 36,
     "metadata": {},
     "output_type": "execute_result"
    }
   ],
   "source": [
    "data_features.shape"
   ]
  },
  {
   "cell_type": "code",
   "execution_count": 37,
   "metadata": {},
   "outputs": [],
   "source": [
    "features_array = data_features.values"
   ]
  },
  {
   "cell_type": "code",
   "execution_count": 38,
   "metadata": {},
   "outputs": [],
   "source": [
    "target_array = data_labels.values"
   ]
  },
  {
   "cell_type": "markdown",
   "metadata": {},
   "source": [
    "①利用filter进行特征选择"
   ]
  },
  {
   "cell_type": "code",
   "execution_count": 39,
   "metadata": {},
   "outputs": [],
   "source": [
    "from sklearn.feature_selection import SelectKBest\n",
    "from sklearn.feature_selection import f_regression"
   ]
  },
  {
   "cell_type": "code",
   "execution_count": 40,
   "metadata": {},
   "outputs": [
    {
     "data": {
      "text/plain": [
       "longitude                     20640\n",
       "latitude                      20640\n",
       "housing_median_age            20640\n",
       "total_rooms                   20640\n",
       "total_bedrooms                20640\n",
       "population                    20640\n",
       "households                    20640\n",
       "median_income                 20640\n",
       "rooms_per_household           20640\n",
       "bedrooms_per_room             20640\n",
       "population_per_household      20640\n",
       "ocean_proximity_<1H OCEAN     20640\n",
       "ocean_proximity_INLAND        20640\n",
       "ocean_proximity_ISLAND        20640\n",
       "ocean_proximity_NEAR BAY      20640\n",
       "ocean_proximity_NEAR OCEAN    20640\n",
       "dtype: int64"
      ]
     },
     "execution_count": 40,
     "metadata": {},
     "output_type": "execute_result"
    }
   ],
   "source": [
    "data_features.count()"
   ]
  },
  {
   "cell_type": "code",
   "execution_count": 42,
   "metadata": {
    "scrolled": true
   },
   "outputs": [],
   "source": [
    "#假设选择最重要的五个特征\n",
    "kbest = SelectKBest(f_regression,k=7).fit(features_array, target_array)\n",
    "features_kbest = kbest.transform(features_array)\n",
    "featureInd = kbest.get_support()"
   ]
  },
  {
   "cell_type": "code",
   "execution_count": 43,
   "metadata": {},
   "outputs": [
    {
     "data": {
      "text/plain": [
       "Index(['latitude', 'median_income', 'rooms_per_household', 'bedrooms_per_room',\n",
       "       'ocean_proximity_<1H OCEAN', 'ocean_proximity_INLAND',\n",
       "       'ocean_proximity_NEAR BAY'],\n",
       "      dtype='object')"
      ]
     },
     "execution_count": 43,
     "metadata": {},
     "output_type": "execute_result"
    }
   ],
   "source": [
    "data_features.columns[featureInd == True]"
   ]
  },
  {
   "cell_type": "markdown",
   "metadata": {},
   "source": [
    "②使用迭代特征选择rfe"
   ]
  },
  {
   "cell_type": "markdown",
   "metadata": {},
   "source": [
    "<font color=\"red\" size=2>比较耗时，暂时就不用了</font>"
   ]
  },
  {
   "cell_type": "code",
   "execution_count": null,
   "metadata": {},
   "outputs": [],
   "source": [
    "#from sklearn.linear_model import LogisticRegression"
   ]
  },
  {
   "cell_type": "code",
   "execution_count": null,
   "metadata": {},
   "outputs": [],
   "source": [
    "#from sklearn.feature_selection import RFE\n",
    "#rfe = RFE(LogisticRegression(), n_features_to_select=5)\n",
    "#rfe.fit(features_array, target_array)\n",
    "#featureInd = rfe.get_support()"
   ]
  },
  {
   "cell_type": "markdown",
   "metadata": {},
   "source": [
    "③利用主成因做特征选择"
   ]
  },
  {
   "cell_type": "code",
   "execution_count": 44,
   "metadata": {},
   "outputs": [],
   "source": [
    "from sklearn.decomposition import PCA\n",
    "pca = PCA(n_components=6)\n",
    "pca.fit(features_scaled)\n",
    "features_pca = pca.transform(features_scaled)"
   ]
  },
  {
   "cell_type": "code",
   "execution_count": 45,
   "metadata": {},
   "outputs": [
    {
     "data": {
      "text/plain": [
       "(20640, 16)"
      ]
     },
     "execution_count": 45,
     "metadata": {},
     "output_type": "execute_result"
    }
   ],
   "source": [
    "features_scaled.shape"
   ]
  },
  {
   "cell_type": "code",
   "execution_count": 46,
   "metadata": {
    "scrolled": true
   },
   "outputs": [
    {
     "data": {
      "text/plain": [
       "(20640, 6)"
      ]
     },
     "execution_count": 46,
     "metadata": {},
     "output_type": "execute_result"
    }
   ],
   "source": [
    "features_pca.shape"
   ]
  },
  {
   "cell_type": "markdown",
   "metadata": {},
   "source": [
    "5.划分测试集和训练集"
   ]
  },
  {
   "cell_type": "markdown",
   "metadata": {},
   "source": [
    "对收入中位数进行处理"
   ]
  },
  {
   "cell_type": "code",
   "execution_count": 47,
   "metadata": {},
   "outputs": [],
   "source": [
    "data_features[\"income_cat\"] = pd.cut(data_features[\"median_income\"],bins=[0., 1.5, 3.0, 4.5, 6., np.inf],labels=[1, 2, 3, 4, 5])"
   ]
  },
  {
   "cell_type": "code",
   "execution_count": 48,
   "metadata": {},
   "outputs": [
    {
     "data": {
      "text/plain": [
       "<matplotlib.axes._subplots.AxesSubplot at 0x17268550>"
      ]
     },
     "execution_count": 48,
     "metadata": {},
     "output_type": "execute_result"
    },
    {
     "data": {
      "image/png": "[encoded data removed]",
      "text/plain": [
       "<Figure size 432x288 with 1 Axes>"
      ]
     },
     "metadata": {},
     "output_type": "display_data"
    }
   ],
   "source": [
    "data_features[\"income_cat\"].hist()"
   ]
  },
  {
   "cell_type": "markdown",
   "metadata": {},
   "source": [
    "对数据进行分层抽样"
   ]
  },
  {
   "cell_type": "code",
   "execution_count": 49,
   "metadata": {},
   "outputs": [],
   "source": [
    "from sklearn.model_selection import StratifiedShuffleSplit\n",
    "shuffle = StratifiedShuffleSplit(n_splits=1, test_size=0.2, random_state=42)"
   ]
  },
  {
   "cell_type": "code",
   "execution_count": 50,
   "metadata": {},
   "outputs": [],
   "source": [
    "for train_index, test_index in shuffle.split(data_features, data_features[\"income_cat\"]):\n",
    "    train_set = data_features.iloc[train_index].drop(\"income_cat\", axis=1) \n",
    "    test_set = data_features.iloc[test_index].drop(\"income_cat\", axis=1) \n",
    "    train_target = data_labels.iloc[train_index]\n",
    "    test_target = data_labels.iloc[test_index]"
   ]
  },
  {
   "cell_type": "code",
   "execution_count": 51,
   "metadata": {},
   "outputs": [
    {
     "data": {
      "text/plain": [
       "((16512, 16), (4128, 16))"
      ]
     },
     "execution_count": 51,
     "metadata": {},
     "output_type": "execute_result"
    }
   ],
   "source": [
    "train_set.shape,test_set.shape"
   ]
  },
  {
   "cell_type": "code",
   "execution_count": 52,
   "metadata": {},
   "outputs": [
    {
     "data": {
      "text/html": [
       "<div>\n",
       "<style scoped>\n",
       "    .dataframe tbody tr th:only-of-type {\n",
       "        vertical-align: middle;\n",
       "    }\n",
       "\n",
       "    .dataframe tbody tr th {\n",
       "        vertical-align: top;\n",
       "    }\n",
       "\n",
       "    .dataframe thead th {\n",
       "        text-align: right;\n",
       "    }\n",
       "</style>\n",
       "<table border=\"1\" class=\"dataframe\">\n",
       "  <thead>\n",
       "    <tr style=\"text-align: right;\">\n",
       "      <th></th>\n",
       "      <th>longitude</th>\n",
       "      <th>latitude</th>\n",
       "      <th>housing_median_age</th>\n",
       "      <th>total_rooms</th>\n",
       "      <th>total_bedrooms</th>\n",
       "      <th>population</th>\n",
       "      <th>households</th>\n",
       "      <th>median_income</th>\n",
       "      <th>rooms_per_household</th>\n",
       "      <th>bedrooms_per_room</th>\n",
       "      <th>population_per_household</th>\n",
       "      <th>ocean_proximity_&lt;1H OCEAN</th>\n",
       "      <th>ocean_proximity_INLAND</th>\n",
       "      <th>ocean_proximity_ISLAND</th>\n",
       "      <th>ocean_proximity_NEAR BAY</th>\n",
       "      <th>ocean_proximity_NEAR OCEAN</th>\n",
       "    </tr>\n",
       "  </thead>\n",
       "  <tbody>\n",
       "    <tr>\n",
       "      <th>17606</th>\n",
       "      <td>-121.89</td>\n",
       "      <td>37.29</td>\n",
       "      <td>38.0</td>\n",
       "      <td>1568.0</td>\n",
       "      <td>351.0</td>\n",
       "      <td>710.0</td>\n",
       "      <td>339.0</td>\n",
       "      <td>2.7042</td>\n",
       "      <td>4.625369</td>\n",
       "      <td>0.223852</td>\n",
       "      <td>2.094395</td>\n",
       "      <td>1</td>\n",
       "      <td>0</td>\n",
       "      <td>0</td>\n",
       "      <td>0</td>\n",
       "      <td>0</td>\n",
       "    </tr>\n",
       "    <tr>\n",
       "      <th>18632</th>\n",
       "      <td>-121.93</td>\n",
       "      <td>37.05</td>\n",
       "      <td>14.0</td>\n",
       "      <td>679.0</td>\n",
       "      <td>108.0</td>\n",
       "      <td>306.0</td>\n",
       "      <td>113.0</td>\n",
       "      <td>6.4214</td>\n",
       "      <td>6.008850</td>\n",
       "      <td>0.159057</td>\n",
       "      <td>2.707965</td>\n",
       "      <td>1</td>\n",
       "      <td>0</td>\n",
       "      <td>0</td>\n",
       "      <td>0</td>\n",
       "      <td>0</td>\n",
       "    </tr>\n",
       "    <tr>\n",
       "      <th>14650</th>\n",
       "      <td>-117.20</td>\n",
       "      <td>32.77</td>\n",
       "      <td>31.0</td>\n",
       "      <td>1952.0</td>\n",
       "      <td>471.0</td>\n",
       "      <td>936.0</td>\n",
       "      <td>462.0</td>\n",
       "      <td>2.8621</td>\n",
       "      <td>4.225108</td>\n",
       "      <td>0.241291</td>\n",
       "      <td>2.025974</td>\n",
       "      <td>0</td>\n",
       "      <td>0</td>\n",
       "      <td>0</td>\n",
       "      <td>0</td>\n",
       "      <td>1</td>\n",
       "    </tr>\n",
       "    <tr>\n",
       "      <th>3230</th>\n",
       "      <td>-119.61</td>\n",
       "      <td>36.31</td>\n",
       "      <td>25.0</td>\n",
       "      <td>1847.0</td>\n",
       "      <td>371.0</td>\n",
       "      <td>1460.0</td>\n",
       "      <td>353.0</td>\n",
       "      <td>1.8839</td>\n",
       "      <td>5.232295</td>\n",
       "      <td>0.200866</td>\n",
       "      <td>4.135977</td>\n",
       "      <td>0</td>\n",
       "      <td>1</td>\n",
       "      <td>0</td>\n",
       "      <td>0</td>\n",
       "      <td>0</td>\n",
       "    </tr>\n",
       "    <tr>\n",
       "      <th>3555</th>\n",
       "      <td>-118.59</td>\n",
       "      <td>34.23</td>\n",
       "      <td>17.0</td>\n",
       "      <td>6592.0</td>\n",
       "      <td>1525.0</td>\n",
       "      <td>4459.0</td>\n",
       "      <td>1463.0</td>\n",
       "      <td>3.0347</td>\n",
       "      <td>4.505810</td>\n",
       "      <td>0.231341</td>\n",
       "      <td>3.047847</td>\n",
       "      <td>1</td>\n",
       "      <td>0</td>\n",
       "      <td>0</td>\n",
       "      <td>0</td>\n",
       "      <td>0</td>\n",
       "    </tr>\n",
       "  </tbody>\n",
       "</table>\n",
       "</div>"
      ],
      "text/plain": [
       "       longitude  latitude  housing_median_age  total_rooms  total_bedrooms  \\\n",
       "17606    -121.89     37.29                38.0       1568.0           351.0   \n",
       "18632    -121.93     37.05                14.0        679.0           108.0   \n",
       "14650    -117.20     32.77                31.0       1952.0           471.0   \n",
       "3230     -119.61     36.31                25.0       1847.0           371.0   \n",
       "3555     -118.59     34.23                17.0       6592.0          1525.0   \n",
       "\n",
       "       population  households  median_income  rooms_per_household  \\\n",
       "17606       710.0       339.0         2.7042             4.625369   \n",
       "18632       306.0       113.0         6.4214             6.008850   \n",
       "14650       936.0       462.0         2.8621             4.225108   \n",
       "3230       1460.0       353.0         1.8839             5.232295   \n",
       "3555       4459.0      1463.0         3.0347             4.505810   \n",
       "\n",
       "       bedrooms_per_room  population_per_household  ocean_proximity_<1H OCEAN  \\\n",
       "17606           0.223852                  2.094395                          1   \n",
       "18632           0.159057                  2.707965                          1   \n",
       "14650           0.241291                  2.025974                          0   \n",
       "3230            0.200866                  4.135977                          0   \n",
       "3555            0.231341                  3.047847                          1   \n",
       "\n",
       "       ocean_proximity_INLAND  ocean_proximity_ISLAND  \\\n",
       "17606                       0                       0   \n",
       "18632                       0                       0   \n",
       "14650                       0                       0   \n",
       "3230                        1                       0   \n",
       "3555                        0                       0   \n",
       "\n",
       "       ocean_proximity_NEAR BAY  ocean_proximity_NEAR OCEAN  \n",
       "17606                         0                           0  \n",
       "18632                         0                           0  \n",
       "14650                         0                           1  \n",
       "3230                          0                           0  \n",
       "3555                          0                           0  "
      ]
     },
     "execution_count": 52,
     "metadata": {},
     "output_type": "execute_result"
    }
   ],
   "source": [
    "train_set.head()"
   ]
  },
  {
   "cell_type": "markdown",
   "metadata": {},
   "source": [
    "删除我们添加的字段income_cat"
   ]
  },
  {
   "cell_type": "code",
   "execution_count": 53,
   "metadata": {},
   "outputs": [
    {
     "data": {
      "text/html": [
       "<div>\n",
       "<style scoped>\n",
       "    .dataframe tbody tr th:only-of-type {\n",
       "        vertical-align: middle;\n",
       "    }\n",
       "\n",
       "    .dataframe tbody tr th {\n",
       "        vertical-align: top;\n",
       "    }\n",
       "\n",
       "    .dataframe thead th {\n",
       "        text-align: right;\n",
       "    }\n",
       "</style>\n",
       "<table border=\"1\" class=\"dataframe\">\n",
       "  <thead>\n",
       "    <tr style=\"text-align: right;\">\n",
       "      <th></th>\n",
       "      <th>longitude</th>\n",
       "      <th>latitude</th>\n",
       "      <th>housing_median_age</th>\n",
       "      <th>total_rooms</th>\n",
       "      <th>total_bedrooms</th>\n",
       "      <th>population</th>\n",
       "      <th>households</th>\n",
       "      <th>median_income</th>\n",
       "      <th>rooms_per_household</th>\n",
       "      <th>bedrooms_per_room</th>\n",
       "      <th>population_per_household</th>\n",
       "      <th>ocean_proximity_&lt;1H OCEAN</th>\n",
       "      <th>ocean_proximity_INLAND</th>\n",
       "      <th>ocean_proximity_ISLAND</th>\n",
       "      <th>ocean_proximity_NEAR BAY</th>\n",
       "      <th>ocean_proximity_NEAR OCEAN</th>\n",
       "    </tr>\n",
       "  </thead>\n",
       "  <tbody>\n",
       "    <tr>\n",
       "      <th>0</th>\n",
       "      <td>-122.23</td>\n",
       "      <td>37.88</td>\n",
       "      <td>41.0</td>\n",
       "      <td>880.0</td>\n",
       "      <td>129.0</td>\n",
       "      <td>322.0</td>\n",
       "      <td>126.0</td>\n",
       "      <td>8.3252</td>\n",
       "      <td>6.984127</td>\n",
       "      <td>0.146591</td>\n",
       "      <td>2.555556</td>\n",
       "      <td>0</td>\n",
       "      <td>0</td>\n",
       "      <td>0</td>\n",
       "      <td>1</td>\n",
       "      <td>0</td>\n",
       "    </tr>\n",
       "    <tr>\n",
       "      <th>1</th>\n",
       "      <td>-122.22</td>\n",
       "      <td>37.86</td>\n",
       "      <td>21.0</td>\n",
       "      <td>7099.0</td>\n",
       "      <td>1106.0</td>\n",
       "      <td>2401.0</td>\n",
       "      <td>1138.0</td>\n",
       "      <td>8.3014</td>\n",
       "      <td>6.238137</td>\n",
       "      <td>0.155797</td>\n",
       "      <td>2.109842</td>\n",
       "      <td>0</td>\n",
       "      <td>0</td>\n",
       "      <td>0</td>\n",
       "      <td>1</td>\n",
       "      <td>0</td>\n",
       "    </tr>\n",
       "    <tr>\n",
       "      <th>2</th>\n",
       "      <td>-122.24</td>\n",
       "      <td>37.85</td>\n",
       "      <td>52.0</td>\n",
       "      <td>1467.0</td>\n",
       "      <td>190.0</td>\n",
       "      <td>496.0</td>\n",
       "      <td>177.0</td>\n",
       "      <td>7.2574</td>\n",
       "      <td>8.288136</td>\n",
       "      <td>0.129516</td>\n",
       "      <td>2.802260</td>\n",
       "      <td>0</td>\n",
       "      <td>0</td>\n",
       "      <td>0</td>\n",
       "      <td>1</td>\n",
       "      <td>0</td>\n",
       "    </tr>\n",
       "    <tr>\n",
       "      <th>3</th>\n",
       "      <td>-122.25</td>\n",
       "      <td>37.85</td>\n",
       "      <td>52.0</td>\n",
       "      <td>1274.0</td>\n",
       "      <td>235.0</td>\n",
       "      <td>558.0</td>\n",
       "      <td>219.0</td>\n",
       "      <td>5.6431</td>\n",
       "      <td>5.817352</td>\n",
       "      <td>0.184458</td>\n",
       "      <td>2.547945</td>\n",
       "      <td>0</td>\n",
       "      <td>0</td>\n",
       "      <td>0</td>\n",
       "      <td>1</td>\n",
       "      <td>0</td>\n",
       "    </tr>\n",
       "    <tr>\n",
       "      <th>4</th>\n",
       "      <td>-122.25</td>\n",
       "      <td>37.85</td>\n",
       "      <td>52.0</td>\n",
       "      <td>1627.0</td>\n",
       "      <td>280.0</td>\n",
       "      <td>565.0</td>\n",
       "      <td>259.0</td>\n",
       "      <td>3.8462</td>\n",
       "      <td>6.281853</td>\n",
       "      <td>0.172096</td>\n",
       "      <td>2.181467</td>\n",
       "      <td>0</td>\n",
       "      <td>0</td>\n",
       "      <td>0</td>\n",
       "      <td>1</td>\n",
       "      <td>0</td>\n",
       "    </tr>\n",
       "    <tr>\n",
       "      <th>5</th>\n",
       "      <td>-122.25</td>\n",
       "      <td>37.85</td>\n",
       "      <td>52.0</td>\n",
       "      <td>919.0</td>\n",
       "      <td>213.0</td>\n",
       "      <td>413.0</td>\n",
       "      <td>193.0</td>\n",
       "      <td>4.0368</td>\n",
       "      <td>4.761658</td>\n",
       "      <td>0.231774</td>\n",
       "      <td>2.139896</td>\n",
       "      <td>0</td>\n",
       "      <td>0</td>\n",
       "      <td>0</td>\n",
       "      <td>1</td>\n",
       "      <td>0</td>\n",
       "    </tr>\n",
       "    <tr>\n",
       "      <th>6</th>\n",
       "      <td>-122.25</td>\n",
       "      <td>37.84</td>\n",
       "      <td>52.0</td>\n",
       "      <td>2535.0</td>\n",
       "      <td>489.0</td>\n",
       "      <td>1094.0</td>\n",
       "      <td>514.0</td>\n",
       "      <td>3.6591</td>\n",
       "      <td>4.931907</td>\n",
       "      <td>0.192899</td>\n",
       "      <td>2.128405</td>\n",
       "      <td>0</td>\n",
       "      <td>0</td>\n",
       "      <td>0</td>\n",
       "      <td>1</td>\n",
       "      <td>0</td>\n",
       "    </tr>\n",
       "    <tr>\n",
       "      <th>7</th>\n",
       "      <td>-122.25</td>\n",
       "      <td>37.84</td>\n",
       "      <td>52.0</td>\n",
       "      <td>3104.0</td>\n",
       "      <td>687.0</td>\n",
       "      <td>1157.0</td>\n",
       "      <td>647.0</td>\n",
       "      <td>3.1200</td>\n",
       "      <td>4.797527</td>\n",
       "      <td>0.221327</td>\n",
       "      <td>1.788253</td>\n",
       "      <td>0</td>\n",
       "      <td>0</td>\n",
       "      <td>0</td>\n",
       "      <td>1</td>\n",
       "      <td>0</td>\n",
       "    </tr>\n",
       "    <tr>\n",
       "      <th>8</th>\n",
       "      <td>-122.26</td>\n",
       "      <td>37.84</td>\n",
       "      <td>42.0</td>\n",
       "      <td>2555.0</td>\n",
       "      <td>665.0</td>\n",
       "      <td>1206.0</td>\n",
       "      <td>595.0</td>\n",
       "      <td>2.0804</td>\n",
       "      <td>4.294118</td>\n",
       "      <td>0.260274</td>\n",
       "      <td>2.026891</td>\n",
       "      <td>0</td>\n",
       "      <td>0</td>\n",
       "      <td>0</td>\n",
       "      <td>1</td>\n",
       "      <td>0</td>\n",
       "    </tr>\n",
       "    <tr>\n",
       "      <th>9</th>\n",
       "      <td>-122.25</td>\n",
       "      <td>37.84</td>\n",
       "      <td>52.0</td>\n",
       "      <td>3549.0</td>\n",
       "      <td>707.0</td>\n",
       "      <td>1551.0</td>\n",
       "      <td>714.0</td>\n",
       "      <td>3.6912</td>\n",
       "      <td>4.970588</td>\n",
       "      <td>0.199211</td>\n",
       "      <td>2.172269</td>\n",
       "      <td>0</td>\n",
       "      <td>0</td>\n",
       "      <td>0</td>\n",
       "      <td>1</td>\n",
       "      <td>0</td>\n",
       "    </tr>\n",
       "    <tr>\n",
       "      <th>10</th>\n",
       "      <td>-122.26</td>\n",
       "      <td>37.85</td>\n",
       "      <td>52.0</td>\n",
       "      <td>2202.0</td>\n",
       "      <td>434.0</td>\n",
       "      <td>910.0</td>\n",
       "      <td>402.0</td>\n",
       "      <td>3.2031</td>\n",
       "      <td>5.477612</td>\n",
       "      <td>0.197094</td>\n",
       "      <td>2.263682</td>\n",
       "      <td>0</td>\n",
       "      <td>0</td>\n",
       "      <td>0</td>\n",
       "      <td>1</td>\n",
       "      <td>0</td>\n",
       "    </tr>\n",
       "    <tr>\n",
       "      <th>11</th>\n",
       "      <td>-122.26</td>\n",
       "      <td>37.85</td>\n",
       "      <td>52.0</td>\n",
       "      <td>3503.0</td>\n",
       "      <td>752.0</td>\n",
       "      <td>1504.0</td>\n",
       "      <td>734.0</td>\n",
       "      <td>3.2705</td>\n",
       "      <td>4.772480</td>\n",
       "      <td>0.214673</td>\n",
       "      <td>2.049046</td>\n",
       "      <td>0</td>\n",
       "      <td>0</td>\n",
       "      <td>0</td>\n",
       "      <td>1</td>\n",
       "      <td>0</td>\n",
       "    </tr>\n",
       "    <tr>\n",
       "      <th>12</th>\n",
       "      <td>-122.26</td>\n",
       "      <td>37.85</td>\n",
       "      <td>52.0</td>\n",
       "      <td>2491.0</td>\n",
       "      <td>474.0</td>\n",
       "      <td>1098.0</td>\n",
       "      <td>468.0</td>\n",
       "      <td>3.0750</td>\n",
       "      <td>5.322650</td>\n",
       "      <td>0.190285</td>\n",
       "      <td>2.346154</td>\n",
       "      <td>0</td>\n",
       "      <td>0</td>\n",
       "      <td>0</td>\n",
       "      <td>1</td>\n",
       "      <td>0</td>\n",
       "    </tr>\n",
       "    <tr>\n",
       "      <th>13</th>\n",
       "      <td>-122.26</td>\n",
       "      <td>37.84</td>\n",
       "      <td>52.0</td>\n",
       "      <td>696.0</td>\n",
       "      <td>191.0</td>\n",
       "      <td>345.0</td>\n",
       "      <td>174.0</td>\n",
       "      <td>2.6736</td>\n",
       "      <td>4.000000</td>\n",
       "      <td>0.274425</td>\n",
       "      <td>1.982759</td>\n",
       "      <td>0</td>\n",
       "      <td>0</td>\n",
       "      <td>0</td>\n",
       "      <td>1</td>\n",
       "      <td>0</td>\n",
       "    </tr>\n",
       "    <tr>\n",
       "      <th>14</th>\n",
       "      <td>-122.26</td>\n",
       "      <td>37.85</td>\n",
       "      <td>52.0</td>\n",
       "      <td>2643.0</td>\n",
       "      <td>626.0</td>\n",
       "      <td>1212.0</td>\n",
       "      <td>620.0</td>\n",
       "      <td>1.9167</td>\n",
       "      <td>4.262903</td>\n",
       "      <td>0.236852</td>\n",
       "      <td>1.954839</td>\n",
       "      <td>0</td>\n",
       "      <td>0</td>\n",
       "      <td>0</td>\n",
       "      <td>1</td>\n",
       "      <td>0</td>\n",
       "    </tr>\n",
       "    <tr>\n",
       "      <th>15</th>\n",
       "      <td>-122.26</td>\n",
       "      <td>37.85</td>\n",
       "      <td>50.0</td>\n",
       "      <td>1120.0</td>\n",
       "      <td>283.0</td>\n",
       "      <td>697.0</td>\n",
       "      <td>264.0</td>\n",
       "      <td>2.1250</td>\n",
       "      <td>4.242424</td>\n",
       "      <td>0.252679</td>\n",
       "      <td>2.640152</td>\n",
       "      <td>0</td>\n",
       "      <td>0</td>\n",
       "      <td>0</td>\n",
       "      <td>1</td>\n",
       "      <td>0</td>\n",
       "    </tr>\n",
       "    <tr>\n",
       "      <th>16</th>\n",
       "      <td>-122.27</td>\n",
       "      <td>37.85</td>\n",
       "      <td>52.0</td>\n",
       "      <td>1966.0</td>\n",
       "      <td>347.0</td>\n",
       "      <td>793.0</td>\n",
       "      <td>331.0</td>\n",
       "      <td>2.7750</td>\n",
       "      <td>5.939577</td>\n",
       "      <td>0.176501</td>\n",
       "      <td>2.395770</td>\n",
       "      <td>0</td>\n",
       "      <td>0</td>\n",
       "      <td>0</td>\n",
       "      <td>1</td>\n",
       "      <td>0</td>\n",
       "    </tr>\n",
       "    <tr>\n",
       "      <th>17</th>\n",
       "      <td>-122.27</td>\n",
       "      <td>37.85</td>\n",
       "      <td>52.0</td>\n",
       "      <td>1228.0</td>\n",
       "      <td>293.0</td>\n",
       "      <td>648.0</td>\n",
       "      <td>303.0</td>\n",
       "      <td>2.1202</td>\n",
       "      <td>4.052805</td>\n",
       "      <td>0.238599</td>\n",
       "      <td>2.138614</td>\n",
       "      <td>0</td>\n",
       "      <td>0</td>\n",
       "      <td>0</td>\n",
       "      <td>1</td>\n",
       "      <td>0</td>\n",
       "    </tr>\n",
       "    <tr>\n",
       "      <th>18</th>\n",
       "      <td>-122.26</td>\n",
       "      <td>37.84</td>\n",
       "      <td>50.0</td>\n",
       "      <td>2239.0</td>\n",
       "      <td>455.0</td>\n",
       "      <td>990.0</td>\n",
       "      <td>419.0</td>\n",
       "      <td>1.9911</td>\n",
       "      <td>5.343675</td>\n",
       "      <td>0.203216</td>\n",
       "      <td>2.362768</td>\n",
       "      <td>0</td>\n",
       "      <td>0</td>\n",
       "      <td>0</td>\n",
       "      <td>1</td>\n",
       "      <td>0</td>\n",
       "    </tr>\n",
       "    <tr>\n",
       "      <th>19</th>\n",
       "      <td>-122.27</td>\n",
       "      <td>37.84</td>\n",
       "      <td>52.0</td>\n",
       "      <td>1503.0</td>\n",
       "      <td>298.0</td>\n",
       "      <td>690.0</td>\n",
       "      <td>275.0</td>\n",
       "      <td>2.6033</td>\n",
       "      <td>5.465455</td>\n",
       "      <td>0.198270</td>\n",
       "      <td>2.509091</td>\n",
       "      <td>0</td>\n",
       "      <td>0</td>\n",
       "      <td>0</td>\n",
       "      <td>1</td>\n",
       "      <td>0</td>\n",
       "    </tr>\n",
       "    <tr>\n",
       "      <th>20</th>\n",
       "      <td>-122.27</td>\n",
       "      <td>37.85</td>\n",
       "      <td>40.0</td>\n",
       "      <td>751.0</td>\n",
       "      <td>184.0</td>\n",
       "      <td>409.0</td>\n",
       "      <td>166.0</td>\n",
       "      <td>1.3578</td>\n",
       "      <td>4.524096</td>\n",
       "      <td>0.245007</td>\n",
       "      <td>2.463855</td>\n",
       "      <td>0</td>\n",
       "      <td>0</td>\n",
       "      <td>0</td>\n",
       "      <td>1</td>\n",
       "      <td>0</td>\n",
       "    </tr>\n",
       "    <tr>\n",
       "      <th>21</th>\n",
       "      <td>-122.27</td>\n",
       "      <td>37.85</td>\n",
       "      <td>42.0</td>\n",
       "      <td>1639.0</td>\n",
       "      <td>367.0</td>\n",
       "      <td>929.0</td>\n",
       "      <td>366.0</td>\n",
       "      <td>1.7135</td>\n",
       "      <td>4.478142</td>\n",
       "      <td>0.223917</td>\n",
       "      <td>2.538251</td>\n",
       "      <td>0</td>\n",
       "      <td>0</td>\n",
       "      <td>0</td>\n",
       "      <td>1</td>\n",
       "      <td>0</td>\n",
       "    </tr>\n",
       "    <tr>\n",
       "      <th>22</th>\n",
       "      <td>-122.27</td>\n",
       "      <td>37.84</td>\n",
       "      <td>52.0</td>\n",
       "      <td>2436.0</td>\n",
       "      <td>541.0</td>\n",
       "      <td>1015.0</td>\n",
       "      <td>478.0</td>\n",
       "      <td>1.7250</td>\n",
       "      <td>5.096234</td>\n",
       "      <td>0.222085</td>\n",
       "      <td>2.123431</td>\n",
       "      <td>0</td>\n",
       "      <td>0</td>\n",
       "      <td>0</td>\n",
       "      <td>1</td>\n",
       "      <td>0</td>\n",
       "    </tr>\n",
       "    <tr>\n",
       "      <th>23</th>\n",
       "      <td>-122.27</td>\n",
       "      <td>37.84</td>\n",
       "      <td>52.0</td>\n",
       "      <td>1688.0</td>\n",
       "      <td>337.0</td>\n",
       "      <td>853.0</td>\n",
       "      <td>325.0</td>\n",
       "      <td>2.1806</td>\n",
       "      <td>5.193846</td>\n",
       "      <td>0.199645</td>\n",
       "      <td>2.624615</td>\n",
       "      <td>0</td>\n",
       "      <td>0</td>\n",
       "      <td>0</td>\n",
       "      <td>1</td>\n",
       "      <td>0</td>\n",
       "    </tr>\n",
       "    <tr>\n",
       "      <th>24</th>\n",
       "      <td>-122.27</td>\n",
       "      <td>37.84</td>\n",
       "      <td>52.0</td>\n",
       "      <td>2224.0</td>\n",
       "      <td>437.0</td>\n",
       "      <td>1006.0</td>\n",
       "      <td>422.0</td>\n",
       "      <td>2.6000</td>\n",
       "      <td>5.270142</td>\n",
       "      <td>0.196493</td>\n",
       "      <td>2.383886</td>\n",
       "      <td>0</td>\n",
       "      <td>0</td>\n",
       "      <td>0</td>\n",
       "      <td>1</td>\n",
       "      <td>0</td>\n",
       "    </tr>\n",
       "    <tr>\n",
       "      <th>25</th>\n",
       "      <td>-122.28</td>\n",
       "      <td>37.85</td>\n",
       "      <td>41.0</td>\n",
       "      <td>535.0</td>\n",
       "      <td>123.0</td>\n",
       "      <td>317.0</td>\n",
       "      <td>119.0</td>\n",
       "      <td>2.4038</td>\n",
       "      <td>4.495798</td>\n",
       "      <td>0.229907</td>\n",
       "      <td>2.663866</td>\n",
       "      <td>0</td>\n",
       "      <td>0</td>\n",
       "      <td>0</td>\n",
       "      <td>1</td>\n",
       "      <td>0</td>\n",
       "    </tr>\n",
       "    <tr>\n",
       "      <th>26</th>\n",
       "      <td>-122.28</td>\n",
       "      <td>37.85</td>\n",
       "      <td>49.0</td>\n",
       "      <td>1130.0</td>\n",
       "      <td>244.0</td>\n",
       "      <td>607.0</td>\n",
       "      <td>239.0</td>\n",
       "      <td>2.4597</td>\n",
       "      <td>4.728033</td>\n",
       "      <td>0.215929</td>\n",
       "      <td>2.539749</td>\n",
       "      <td>0</td>\n",
       "      <td>0</td>\n",
       "      <td>0</td>\n",
       "      <td>1</td>\n",
       "      <td>0</td>\n",
       "    </tr>\n",
       "    <tr>\n",
       "      <th>27</th>\n",
       "      <td>-122.28</td>\n",
       "      <td>37.85</td>\n",
       "      <td>52.0</td>\n",
       "      <td>1898.0</td>\n",
       "      <td>421.0</td>\n",
       "      <td>1102.0</td>\n",
       "      <td>397.0</td>\n",
       "      <td>1.8080</td>\n",
       "      <td>4.780856</td>\n",
       "      <td>0.221812</td>\n",
       "      <td>2.775819</td>\n",
       "      <td>0</td>\n",
       "      <td>0</td>\n",
       "      <td>0</td>\n",
       "      <td>1</td>\n",
       "      <td>0</td>\n",
       "    </tr>\n",
       "    <tr>\n",
       "      <th>28</th>\n",
       "      <td>-122.28</td>\n",
       "      <td>37.84</td>\n",
       "      <td>50.0</td>\n",
       "      <td>2082.0</td>\n",
       "      <td>492.0</td>\n",
       "      <td>1131.0</td>\n",
       "      <td>473.0</td>\n",
       "      <td>1.6424</td>\n",
       "      <td>4.401691</td>\n",
       "      <td>0.236311</td>\n",
       "      <td>2.391121</td>\n",
       "      <td>0</td>\n",
       "      <td>0</td>\n",
       "      <td>0</td>\n",
       "      <td>1</td>\n",
       "      <td>0</td>\n",
       "    </tr>\n",
       "    <tr>\n",
       "      <th>29</th>\n",
       "      <td>-122.28</td>\n",
       "      <td>37.84</td>\n",
       "      <td>52.0</td>\n",
       "      <td>729.0</td>\n",
       "      <td>160.0</td>\n",
       "      <td>395.0</td>\n",
       "      <td>155.0</td>\n",
       "      <td>1.6875</td>\n",
       "      <td>4.703226</td>\n",
       "      <td>0.219479</td>\n",
       "      <td>2.548387</td>\n",
       "      <td>0</td>\n",
       "      <td>0</td>\n",
       "      <td>0</td>\n",
       "      <td>1</td>\n",
       "      <td>0</td>\n",
       "    </tr>\n",
       "    <tr>\n",
       "      <th>...</th>\n",
       "      <td>...</td>\n",
       "      <td>...</td>\n",
       "      <td>...</td>\n",
       "      <td>...</td>\n",
       "      <td>...</td>\n",
       "      <td>...</td>\n",
       "      <td>...</td>\n",
       "      <td>...</td>\n",
       "      <td>...</td>\n",
       "      <td>...</td>\n",
       "      <td>...</td>\n",
       "      <td>...</td>\n",
       "      <td>...</td>\n",
       "      <td>...</td>\n",
       "      <td>...</td>\n",
       "      <td>...</td>\n",
       "    </tr>\n",
       "    <tr>\n",
       "      <th>20610</th>\n",
       "      <td>-121.56</td>\n",
       "      <td>39.10</td>\n",
       "      <td>28.0</td>\n",
       "      <td>2130.0</td>\n",
       "      <td>484.0</td>\n",
       "      <td>1195.0</td>\n",
       "      <td>439.0</td>\n",
       "      <td>1.3631</td>\n",
       "      <td>4.851936</td>\n",
       "      <td>0.227230</td>\n",
       "      <td>2.722096</td>\n",
       "      <td>0</td>\n",
       "      <td>1</td>\n",
       "      <td>0</td>\n",
       "      <td>0</td>\n",
       "      <td>0</td>\n",
       "    </tr>\n",
       "    <tr>\n",
       "      <th>20611</th>\n",
       "      <td>-121.55</td>\n",
       "      <td>39.10</td>\n",
       "      <td>27.0</td>\n",
       "      <td>1783.0</td>\n",
       "      <td>441.0</td>\n",
       "      <td>1163.0</td>\n",
       "      <td>409.0</td>\n",
       "      <td>1.2857</td>\n",
       "      <td>4.359413</td>\n",
       "      <td>0.247336</td>\n",
       "      <td>2.843521</td>\n",
       "      <td>0</td>\n",
       "      <td>1</td>\n",
       "      <td>0</td>\n",
       "      <td>0</td>\n",
       "      <td>0</td>\n",
       "    </tr>\n",
       "    <tr>\n",
       "      <th>20612</th>\n",
       "      <td>-121.56</td>\n",
       "      <td>39.08</td>\n",
       "      <td>26.0</td>\n",
       "      <td>1377.0</td>\n",
       "      <td>289.0</td>\n",
       "      <td>761.0</td>\n",
       "      <td>267.0</td>\n",
       "      <td>1.4934</td>\n",
       "      <td>5.157303</td>\n",
       "      <td>0.209877</td>\n",
       "      <td>2.850187</td>\n",
       "      <td>0</td>\n",
       "      <td>1</td>\n",
       "      <td>0</td>\n",
       "      <td>0</td>\n",
       "      <td>0</td>\n",
       "    </tr>\n",
       "    <tr>\n",
       "      <th>20613</th>\n",
       "      <td>-121.55</td>\n",
       "      <td>39.09</td>\n",
       "      <td>31.0</td>\n",
       "      <td>1728.0</td>\n",
       "      <td>365.0</td>\n",
       "      <td>1167.0</td>\n",
       "      <td>384.0</td>\n",
       "      <td>1.4958</td>\n",
       "      <td>4.500000</td>\n",
       "      <td>0.211227</td>\n",
       "      <td>3.039062</td>\n",
       "      <td>0</td>\n",
       "      <td>1</td>\n",
       "      <td>0</td>\n",
       "      <td>0</td>\n",
       "      <td>0</td>\n",
       "    </tr>\n",
       "    <tr>\n",
       "      <th>20614</th>\n",
       "      <td>-121.54</td>\n",
       "      <td>39.08</td>\n",
       "      <td>26.0</td>\n",
       "      <td>2276.0</td>\n",
       "      <td>460.0</td>\n",
       "      <td>1455.0</td>\n",
       "      <td>474.0</td>\n",
       "      <td>2.4695</td>\n",
       "      <td>4.801688</td>\n",
       "      <td>0.202109</td>\n",
       "      <td>3.069620</td>\n",
       "      <td>0</td>\n",
       "      <td>1</td>\n",
       "      <td>0</td>\n",
       "      <td>0</td>\n",
       "      <td>0</td>\n",
       "    </tr>\n",
       "    <tr>\n",
       "      <th>20615</th>\n",
       "      <td>-121.54</td>\n",
       "      <td>39.08</td>\n",
       "      <td>23.0</td>\n",
       "      <td>1076.0</td>\n",
       "      <td>216.0</td>\n",
       "      <td>724.0</td>\n",
       "      <td>197.0</td>\n",
       "      <td>2.3598</td>\n",
       "      <td>5.461929</td>\n",
       "      <td>0.200743</td>\n",
       "      <td>3.675127</td>\n",
       "      <td>0</td>\n",
       "      <td>1</td>\n",
       "      <td>0</td>\n",
       "      <td>0</td>\n",
       "      <td>0</td>\n",
       "    </tr>\n",
       "    <tr>\n",
       "      <th>20616</th>\n",
       "      <td>-121.53</td>\n",
       "      <td>39.08</td>\n",
       "      <td>15.0</td>\n",
       "      <td>1810.0</td>\n",
       "      <td>441.0</td>\n",
       "      <td>1157.0</td>\n",
       "      <td>375.0</td>\n",
       "      <td>2.0469</td>\n",
       "      <td>4.826667</td>\n",
       "      <td>0.243646</td>\n",
       "      <td>3.085333</td>\n",
       "      <td>0</td>\n",
       "      <td>1</td>\n",
       "      <td>0</td>\n",
       "      <td>0</td>\n",
       "      <td>0</td>\n",
       "    </tr>\n",
       "    <tr>\n",
       "      <th>20617</th>\n",
       "      <td>-121.53</td>\n",
       "      <td>39.06</td>\n",
       "      <td>20.0</td>\n",
       "      <td>561.0</td>\n",
       "      <td>109.0</td>\n",
       "      <td>308.0</td>\n",
       "      <td>114.0</td>\n",
       "      <td>3.3021</td>\n",
       "      <td>4.921053</td>\n",
       "      <td>0.194296</td>\n",
       "      <td>2.701754</td>\n",
       "      <td>0</td>\n",
       "      <td>1</td>\n",
       "      <td>0</td>\n",
       "      <td>0</td>\n",
       "      <td>0</td>\n",
       "    </tr>\n",
       "    <tr>\n",
       "      <th>20618</th>\n",
       "      <td>-121.55</td>\n",
       "      <td>39.06</td>\n",
       "      <td>25.0</td>\n",
       "      <td>1332.0</td>\n",
       "      <td>247.0</td>\n",
       "      <td>726.0</td>\n",
       "      <td>226.0</td>\n",
       "      <td>2.2500</td>\n",
       "      <td>5.893805</td>\n",
       "      <td>0.185435</td>\n",
       "      <td>3.212389</td>\n",
       "      <td>0</td>\n",
       "      <td>1</td>\n",
       "      <td>0</td>\n",
       "      <td>0</td>\n",
       "      <td>0</td>\n",
       "    </tr>\n",
       "    <tr>\n",
       "      <th>20619</th>\n",
       "      <td>-121.56</td>\n",
       "      <td>39.01</td>\n",
       "      <td>22.0</td>\n",
       "      <td>1891.0</td>\n",
       "      <td>340.0</td>\n",
       "      <td>1023.0</td>\n",
       "      <td>296.0</td>\n",
       "      <td>2.7303</td>\n",
       "      <td>6.388514</td>\n",
       "      <td>0.179799</td>\n",
       "      <td>3.456081</td>\n",
       "      <td>0</td>\n",
       "      <td>1</td>\n",
       "      <td>0</td>\n",
       "      <td>0</td>\n",
       "      <td>0</td>\n",
       "    </tr>\n",
       "    <tr>\n",
       "      <th>20620</th>\n",
       "      <td>-121.48</td>\n",
       "      <td>39.05</td>\n",
       "      <td>40.0</td>\n",
       "      <td>198.0</td>\n",
       "      <td>41.0</td>\n",
       "      <td>151.0</td>\n",
       "      <td>48.0</td>\n",
       "      <td>4.5625</td>\n",
       "      <td>4.125000</td>\n",
       "      <td>0.207071</td>\n",
       "      <td>3.145833</td>\n",
       "      <td>0</td>\n",
       "      <td>1</td>\n",
       "      <td>0</td>\n",
       "      <td>0</td>\n",
       "      <td>0</td>\n",
       "    </tr>\n",
       "    <tr>\n",
       "      <th>20621</th>\n",
       "      <td>-121.47</td>\n",
       "      <td>39.01</td>\n",
       "      <td>37.0</td>\n",
       "      <td>1244.0</td>\n",
       "      <td>247.0</td>\n",
       "      <td>484.0</td>\n",
       "      <td>157.0</td>\n",
       "      <td>2.3661</td>\n",
       "      <td>7.923567</td>\n",
       "      <td>0.198553</td>\n",
       "      <td>3.082803</td>\n",
       "      <td>0</td>\n",
       "      <td>1</td>\n",
       "      <td>0</td>\n",
       "      <td>0</td>\n",
       "      <td>0</td>\n",
       "    </tr>\n",
       "    <tr>\n",
       "      <th>20622</th>\n",
       "      <td>-121.44</td>\n",
       "      <td>39.00</td>\n",
       "      <td>20.0</td>\n",
       "      <td>755.0</td>\n",
       "      <td>147.0</td>\n",
       "      <td>457.0</td>\n",
       "      <td>157.0</td>\n",
       "      <td>2.4167</td>\n",
       "      <td>4.808917</td>\n",
       "      <td>0.194702</td>\n",
       "      <td>2.910828</td>\n",
       "      <td>0</td>\n",
       "      <td>1</td>\n",
       "      <td>0</td>\n",
       "      <td>0</td>\n",
       "      <td>0</td>\n",
       "    </tr>\n",
       "    <tr>\n",
       "      <th>20623</th>\n",
       "      <td>-121.37</td>\n",
       "      <td>39.03</td>\n",
       "      <td>32.0</td>\n",
       "      <td>1158.0</td>\n",
       "      <td>244.0</td>\n",
       "      <td>598.0</td>\n",
       "      <td>227.0</td>\n",
       "      <td>2.8235</td>\n",
       "      <td>5.101322</td>\n",
       "      <td>0.210708</td>\n",
       "      <td>2.634361</td>\n",
       "      <td>0</td>\n",
       "      <td>1</td>\n",
       "      <td>0</td>\n",
       "      <td>0</td>\n",
       "      <td>0</td>\n",
       "    </tr>\n",
       "    <tr>\n",
       "      <th>20624</th>\n",
       "      <td>-121.41</td>\n",
       "      <td>39.04</td>\n",
       "      <td>16.0</td>\n",
       "      <td>1698.0</td>\n",
       "      <td>300.0</td>\n",
       "      <td>731.0</td>\n",
       "      <td>291.0</td>\n",
       "      <td>3.0739</td>\n",
       "      <td>5.835052</td>\n",
       "      <td>0.176678</td>\n",
       "      <td>2.512027</td>\n",
       "      <td>0</td>\n",
       "      <td>1</td>\n",
       "      <td>0</td>\n",
       "      <td>0</td>\n",
       "      <td>0</td>\n",
       "    </tr>\n",
       "    <tr>\n",
       "      <th>20625</th>\n",
       "      <td>-121.52</td>\n",
       "      <td>39.12</td>\n",
       "      <td>37.0</td>\n",
       "      <td>102.0</td>\n",
       "      <td>17.0</td>\n",
       "      <td>29.0</td>\n",
       "      <td>14.0</td>\n",
       "      <td>4.1250</td>\n",
       "      <td>7.285714</td>\n",
       "      <td>0.166667</td>\n",
       "      <td>2.071429</td>\n",
       "      <td>0</td>\n",
       "      <td>1</td>\n",
       "      <td>0</td>\n",
       "      <td>0</td>\n",
       "      <td>0</td>\n",
       "    </tr>\n",
       "    <tr>\n",
       "      <th>20626</th>\n",
       "      <td>-121.43</td>\n",
       "      <td>39.18</td>\n",
       "      <td>36.0</td>\n",
       "      <td>1124.0</td>\n",
       "      <td>184.0</td>\n",
       "      <td>504.0</td>\n",
       "      <td>171.0</td>\n",
       "      <td>2.1667</td>\n",
       "      <td>6.573099</td>\n",
       "      <td>0.163701</td>\n",
       "      <td>2.947368</td>\n",
       "      <td>0</td>\n",
       "      <td>1</td>\n",
       "      <td>0</td>\n",
       "      <td>0</td>\n",
       "      <td>0</td>\n",
       "    </tr>\n",
       "    <tr>\n",
       "      <th>20627</th>\n",
       "      <td>-121.32</td>\n",
       "      <td>39.13</td>\n",
       "      <td>5.0</td>\n",
       "      <td>358.0</td>\n",
       "      <td>65.0</td>\n",
       "      <td>169.0</td>\n",
       "      <td>59.0</td>\n",
       "      <td>3.0000</td>\n",
       "      <td>6.067797</td>\n",
       "      <td>0.181564</td>\n",
       "      <td>2.864407</td>\n",
       "      <td>0</td>\n",
       "      <td>1</td>\n",
       "      <td>0</td>\n",
       "      <td>0</td>\n",
       "      <td>0</td>\n",
       "    </tr>\n",
       "    <tr>\n",
       "      <th>20628</th>\n",
       "      <td>-121.48</td>\n",
       "      <td>39.10</td>\n",
       "      <td>19.0</td>\n",
       "      <td>2043.0</td>\n",
       "      <td>421.0</td>\n",
       "      <td>1018.0</td>\n",
       "      <td>390.0</td>\n",
       "      <td>2.5952</td>\n",
       "      <td>5.238462</td>\n",
       "      <td>0.206070</td>\n",
       "      <td>2.610256</td>\n",
       "      <td>0</td>\n",
       "      <td>1</td>\n",
       "      <td>0</td>\n",
       "      <td>0</td>\n",
       "      <td>0</td>\n",
       "    </tr>\n",
       "    <tr>\n",
       "      <th>20629</th>\n",
       "      <td>-121.39</td>\n",
       "      <td>39.12</td>\n",
       "      <td>28.0</td>\n",
       "      <td>10035.0</td>\n",
       "      <td>1856.0</td>\n",
       "      <td>6912.0</td>\n",
       "      <td>1818.0</td>\n",
       "      <td>2.0943</td>\n",
       "      <td>5.519802</td>\n",
       "      <td>0.184953</td>\n",
       "      <td>3.801980</td>\n",
       "      <td>0</td>\n",
       "      <td>1</td>\n",
       "      <td>0</td>\n",
       "      <td>0</td>\n",
       "      <td>0</td>\n",
       "    </tr>\n",
       "    <tr>\n",
       "      <th>20630</th>\n",
       "      <td>-121.32</td>\n",
       "      <td>39.29</td>\n",
       "      <td>11.0</td>\n",
       "      <td>2640.0</td>\n",
       "      <td>505.0</td>\n",
       "      <td>1257.0</td>\n",
       "      <td>445.0</td>\n",
       "      <td>3.5673</td>\n",
       "      <td>5.932584</td>\n",
       "      <td>0.191288</td>\n",
       "      <td>2.824719</td>\n",
       "      <td>0</td>\n",
       "      <td>1</td>\n",
       "      <td>0</td>\n",
       "      <td>0</td>\n",
       "      <td>0</td>\n",
       "    </tr>\n",
       "    <tr>\n",
       "      <th>20631</th>\n",
       "      <td>-121.40</td>\n",
       "      <td>39.33</td>\n",
       "      <td>15.0</td>\n",
       "      <td>2655.0</td>\n",
       "      <td>493.0</td>\n",
       "      <td>1200.0</td>\n",
       "      <td>432.0</td>\n",
       "      <td>3.5179</td>\n",
       "      <td>6.145833</td>\n",
       "      <td>0.185687</td>\n",
       "      <td>2.777778</td>\n",
       "      <td>0</td>\n",
       "      <td>1</td>\n",
       "      <td>0</td>\n",
       "      <td>0</td>\n",
       "      <td>0</td>\n",
       "    </tr>\n",
       "    <tr>\n",
       "      <th>20632</th>\n",
       "      <td>-121.45</td>\n",
       "      <td>39.26</td>\n",
       "      <td>15.0</td>\n",
       "      <td>2319.0</td>\n",
       "      <td>416.0</td>\n",
       "      <td>1047.0</td>\n",
       "      <td>385.0</td>\n",
       "      <td>3.1250</td>\n",
       "      <td>6.023377</td>\n",
       "      <td>0.179388</td>\n",
       "      <td>2.719481</td>\n",
       "      <td>0</td>\n",
       "      <td>1</td>\n",
       "      <td>0</td>\n",
       "      <td>0</td>\n",
       "      <td>0</td>\n",
       "    </tr>\n",
       "    <tr>\n",
       "      <th>20633</th>\n",
       "      <td>-121.53</td>\n",
       "      <td>39.19</td>\n",
       "      <td>27.0</td>\n",
       "      <td>2080.0</td>\n",
       "      <td>412.0</td>\n",
       "      <td>1082.0</td>\n",
       "      <td>382.0</td>\n",
       "      <td>2.5495</td>\n",
       "      <td>5.445026</td>\n",
       "      <td>0.198077</td>\n",
       "      <td>2.832461</td>\n",
       "      <td>0</td>\n",
       "      <td>1</td>\n",
       "      <td>0</td>\n",
       "      <td>0</td>\n",
       "      <td>0</td>\n",
       "    </tr>\n",
       "    <tr>\n",
       "      <th>20634</th>\n",
       "      <td>-121.56</td>\n",
       "      <td>39.27</td>\n",
       "      <td>28.0</td>\n",
       "      <td>2332.0</td>\n",
       "      <td>395.0</td>\n",
       "      <td>1041.0</td>\n",
       "      <td>344.0</td>\n",
       "      <td>3.7125</td>\n",
       "      <td>6.779070</td>\n",
       "      <td>0.169383</td>\n",
       "      <td>3.026163</td>\n",
       "      <td>0</td>\n",
       "      <td>1</td>\n",
       "      <td>0</td>\n",
       "      <td>0</td>\n",
       "      <td>0</td>\n",
       "    </tr>\n",
       "    <tr>\n",
       "      <th>20635</th>\n",
       "      <td>-121.09</td>\n",
       "      <td>39.48</td>\n",
       "      <td>25.0</td>\n",
       "      <td>1665.0</td>\n",
       "      <td>374.0</td>\n",
       "      <td>845.0</td>\n",
       "      <td>330.0</td>\n",
       "      <td>1.5603</td>\n",
       "      <td>5.045455</td>\n",
       "      <td>0.224625</td>\n",
       "      <td>2.560606</td>\n",
       "      <td>0</td>\n",
       "      <td>1</td>\n",
       "      <td>0</td>\n",
       "      <td>0</td>\n",
       "      <td>0</td>\n",
       "    </tr>\n",
       "    <tr>\n",
       "      <th>20636</th>\n",
       "      <td>-121.21</td>\n",
       "      <td>39.49</td>\n",
       "      <td>18.0</td>\n",
       "      <td>697.0</td>\n",
       "      <td>150.0</td>\n",
       "      <td>356.0</td>\n",
       "      <td>114.0</td>\n",
       "      <td>2.5568</td>\n",
       "      <td>6.114035</td>\n",
       "      <td>0.215208</td>\n",
       "      <td>3.122807</td>\n",
       "      <td>0</td>\n",
       "      <td>1</td>\n",
       "      <td>0</td>\n",
       "      <td>0</td>\n",
       "      <td>0</td>\n",
       "    </tr>\n",
       "    <tr>\n",
       "      <th>20637</th>\n",
       "      <td>-121.22</td>\n",
       "      <td>39.43</td>\n",
       "      <td>17.0</td>\n",
       "      <td>2254.0</td>\n",
       "      <td>485.0</td>\n",
       "      <td>1007.0</td>\n",
       "      <td>433.0</td>\n",
       "      <td>1.7000</td>\n",
       "      <td>5.205543</td>\n",
       "      <td>0.215173</td>\n",
       "      <td>2.325635</td>\n",
       "      <td>0</td>\n",
       "      <td>1</td>\n",
       "      <td>0</td>\n",
       "      <td>0</td>\n",
       "      <td>0</td>\n",
       "    </tr>\n",
       "    <tr>\n",
       "      <th>20638</th>\n",
       "      <td>-121.32</td>\n",
       "      <td>39.43</td>\n",
       "      <td>18.0</td>\n",
       "      <td>1860.0</td>\n",
       "      <td>409.0</td>\n",
       "      <td>741.0</td>\n",
       "      <td>349.0</td>\n",
       "      <td>1.8672</td>\n",
       "      <td>5.329513</td>\n",
       "      <td>0.219892</td>\n",
       "      <td>2.123209</td>\n",
       "      <td>0</td>\n",
       "      <td>1</td>\n",
       "      <td>0</td>\n",
       "      <td>0</td>\n",
       "      <td>0</td>\n",
       "    </tr>\n",
       "    <tr>\n",
       "      <th>20639</th>\n",
       "      <td>-121.24</td>\n",
       "      <td>39.37</td>\n",
       "      <td>16.0</td>\n",
       "      <td>2785.0</td>\n",
       "      <td>616.0</td>\n",
       "      <td>1387.0</td>\n",
       "      <td>530.0</td>\n",
       "      <td>2.3886</td>\n",
       "      <td>5.254717</td>\n",
       "      <td>0.221185</td>\n",
       "      <td>2.616981</td>\n",
       "      <td>0</td>\n",
       "      <td>1</td>\n",
       "      <td>0</td>\n",
       "      <td>0</td>\n",
       "      <td>0</td>\n",
       "    </tr>\n",
       "  </tbody>\n",
       "</table>\n",
       "<p>20640 rows × 16 columns</p>\n",
       "</div>"
      ],
      "text/plain": [
       "       longitude  latitude  housing_median_age  total_rooms  total_bedrooms  \\\n",
       "0        -122.23     37.88                41.0        880.0           129.0   \n",
       "1        -122.22     37.86                21.0       7099.0          1106.0   \n",
       "2        -122.24     37.85                52.0       1467.0           190.0   \n",
       "3        -122.25     37.85                52.0       1274.0           235.0   \n",
       "4        -122.25     37.85                52.0       1627.0           280.0   \n",
       "5        -122.25     37.85                52.0        919.0           213.0   \n",
       "6        -122.25     37.84                52.0       2535.0           489.0   \n",
       "7        -122.25     37.84                52.0       3104.0           687.0   \n",
       "8        -122.26     37.84                42.0       2555.0           665.0   \n",
       "9        -122.25     37.84                52.0       3549.0           707.0   \n",
       "10       -122.26     37.85                52.0       2202.0           434.0   \n",
       "11       -122.26     37.85                52.0       3503.0           752.0   \n",
       "12       -122.26     37.85                52.0       2491.0           474.0   \n",
       "13       -122.26     37.84                52.0        696.0           191.0   \n",
       "14       -122.26     37.85                52.0       2643.0           626.0   \n",
       "15       -122.26     37.85                50.0       1120.0           283.0   \n",
       "16       -122.27     37.85                52.0       1966.0           347.0   \n",
       "17       -122.27     37.85                52.0       1228.0           293.0   \n",
       "18       -122.26     37.84                50.0       2239.0           455.0   \n",
       "19       -122.27     37.84                52.0       1503.0           298.0   \n",
       "20       -122.27     37.85                40.0        751.0           184.0   \n",
       "21       -122.27     37.85                42.0       1639.0           367.0   \n",
       "22       -122.27     37.84                52.0       2436.0           541.0   \n",
       "23       -122.27     37.84                52.0       1688.0           337.0   \n",
       "24       -122.27     37.84                52.0       2224.0           437.0   \n",
       "25       -122.28     37.85                41.0        535.0           123.0   \n",
       "26       -122.28     37.85                49.0       1130.0           244.0   \n",
       "27       -122.28     37.85                52.0       1898.0           421.0   \n",
       "28       -122.28     37.84                50.0       2082.0           492.0   \n",
       "29       -122.28     37.84                52.0        729.0           160.0   \n",
       "...          ...       ...                 ...          ...             ...   \n",
       "20610    -121.56     39.10                28.0       2130.0           484.0   \n",
       "20611    -121.55     39.10                27.0       1783.0           441.0   \n",
       "20612    -121.56     39.08                26.0       1377.0           289.0   \n",
       "20613    -121.55     39.09                31.0       1728.0           365.0   \n",
       "20614    -121.54     39.08                26.0       2276.0           460.0   \n",
       "20615    -121.54     39.08                23.0       1076.0           216.0   \n",
       "20616    -121.53     39.08                15.0       1810.0           441.0   \n",
       "20617    -121.53     39.06                20.0        561.0           109.0   \n",
       "20618    -121.55     39.06                25.0       1332.0           247.0   \n",
       "20619    -121.56     39.01                22.0       1891.0           340.0   \n",
       "20620    -121.48     39.05                40.0        198.0            41.0   \n",
       "20621    -121.47     39.01                37.0       1244.0           247.0   \n",
       "20622    -121.44     39.00                20.0        755.0           147.0   \n",
       "20623    -121.37     39.03                32.0       1158.0           244.0   \n",
       "20624    -121.41     39.04                16.0       1698.0           300.0   \n",
       "20625    -121.52     39.12                37.0        102.0            17.0   \n",
       "20626    -121.43     39.18                36.0       1124.0           184.0   \n",
       "20627    -121.32     39.13                 5.0        358.0            65.0   \n",
       "20628    -121.48     39.10                19.0       2043.0           421.0   \n",
       "20629    -121.39     39.12                28.0      10035.0          1856.0   \n",
       "20630    -121.32     39.29                11.0       2640.0           505.0   \n",
       "20631    -121.40     39.33                15.0       2655.0           493.0   \n",
       "20632    -121.45     39.26                15.0       2319.0           416.0   \n",
       "20633    -121.53     39.19                27.0       2080.0           412.0   \n",
       "20634    -121.56     39.27                28.0       2332.0           395.0   \n",
       "20635    -121.09     39.48                25.0       1665.0           374.0   \n",
       "20636    -121.21     39.49                18.0        697.0           150.0   \n",
       "20637    -121.22     39.43                17.0       2254.0           485.0   \n",
       "20638    -121.32     39.43                18.0       1860.0           409.0   \n",
       "20639    -121.24     39.37                16.0       2785.0           616.0   \n",
       "\n",
       "       population  households  median_income  rooms_per_household  \\\n",
       "0           322.0       126.0         8.3252             6.984127   \n",
       "1          2401.0      1138.0         8.3014             6.238137   \n",
       "2           496.0       177.0         7.2574             8.288136   \n",
       "3           558.0       219.0         5.6431             5.817352   \n",
       "4           565.0       259.0         3.8462             6.281853   \n",
       "5           413.0       193.0         4.0368             4.761658   \n",
       "6          1094.0       514.0         3.6591             4.931907   \n",
       "7          1157.0       647.0         3.1200             4.797527   \n",
       "8          1206.0       595.0         2.0804             4.294118   \n",
       "9          1551.0       714.0         3.6912             4.970588   \n",
       "10          910.0       402.0         3.2031             5.477612   \n",
       "11         1504.0       734.0         3.2705             4.772480   \n",
       "12         1098.0       468.0         3.0750             5.322650   \n",
       "13          345.0       174.0         2.6736             4.000000   \n",
       "14         1212.0       620.0         1.9167             4.262903   \n",
       "15          697.0       264.0         2.1250             4.242424   \n",
       "16          793.0       331.0         2.7750             5.939577   \n",
       "17          648.0       303.0         2.1202             4.052805   \n",
       "18          990.0       419.0         1.9911             5.343675   \n",
       "19          690.0       275.0         2.6033             5.465455   \n",
       "20          409.0       166.0         1.3578             4.524096   \n",
       "21          929.0       366.0         1.7135             4.478142   \n",
       "22         1015.0       478.0         1.7250             5.096234   \n",
       "23          853.0       325.0         2.1806             5.193846   \n",
       "24         1006.0       422.0         2.6000             5.270142   \n",
       "25          317.0       119.0         2.4038             4.495798   \n",
       "26          607.0       239.0         2.4597             4.728033   \n",
       "27         1102.0       397.0         1.8080             4.780856   \n",
       "28         1131.0       473.0         1.6424             4.401691   \n",
       "29          395.0       155.0         1.6875             4.703226   \n",
       "...           ...         ...            ...                  ...   \n",
       "20610      1195.0       439.0         1.3631             4.851936   \n",
       "20611      1163.0       409.0         1.2857             4.359413   \n",
       "20612       761.0       267.0         1.4934             5.157303   \n",
       "20613      1167.0       384.0         1.4958             4.500000   \n",
       "20614      1455.0       474.0         2.4695             4.801688   \n",
       "20615       724.0       197.0         2.3598             5.461929   \n",
       "20616      1157.0       375.0         2.0469             4.826667   \n",
       "20617       308.0       114.0         3.3021             4.921053   \n",
       "20618       726.0       226.0         2.2500             5.893805   \n",
       "20619      1023.0       296.0         2.7303             6.388514   \n",
       "20620       151.0        48.0         4.5625             4.125000   \n",
       "20621       484.0       157.0         2.3661             7.923567   \n",
       "20622       457.0       157.0         2.4167             4.808917   \n",
       "20623       598.0       227.0         2.8235             5.101322   \n",
       "20624       731.0       291.0         3.0739             5.835052   \n",
       "20625        29.0        14.0         4.1250             7.285714   \n",
       "20626       504.0       171.0         2.1667             6.573099   \n",
       "20627       169.0        59.0         3.0000             6.067797   \n",
       "20628      1018.0       390.0         2.5952             5.238462   \n",
       "20629      6912.0      1818.0         2.0943             5.519802   \n",
       "20630      1257.0       445.0         3.5673             5.932584   \n",
       "20631      1200.0       432.0         3.5179             6.145833   \n",
       "20632      1047.0       385.0         3.1250             6.023377   \n",
       "20633      1082.0       382.0         2.5495             5.445026   \n",
       "20634      1041.0       344.0         3.7125             6.779070   \n",
       "20635       845.0       330.0         1.5603             5.045455   \n",
       "20636       356.0       114.0         2.5568             6.114035   \n",
       "20637      1007.0       433.0         1.7000             5.205543   \n",
       "20638       741.0       349.0         1.8672             5.329513   \n",
       "20639      1387.0       530.0         2.3886             5.254717   \n",
       "\n",
       "       bedrooms_per_room  population_per_household  ocean_proximity_<1H OCEAN  \\\n",
       "0               0.146591                  2.555556                          0   \n",
       "1               0.155797                  2.109842                          0   \n",
       "2               0.129516                  2.802260                          0   \n",
       "3               0.184458                  2.547945                          0   \n",
       "4               0.172096                  2.181467                          0   \n",
       "5               0.231774                  2.139896                          0   \n",
       "6               0.192899                  2.128405                          0   \n",
       "7               0.221327                  1.788253                          0   \n",
       "8               0.260274                  2.026891                          0   \n",
       "9               0.199211                  2.172269                          0   \n",
       "10              0.197094                  2.263682                          0   \n",
       "11              0.214673                  2.049046                          0   \n",
       "12              0.190285                  2.346154                          0   \n",
       "13              0.274425                  1.982759                          0   \n",
       "14              0.236852                  1.954839                          0   \n",
       "15              0.252679                  2.640152                          0   \n",
       "16              0.176501                  2.395770                          0   \n",
       "17              0.238599                  2.138614                          0   \n",
       "18              0.203216                  2.362768                          0   \n",
       "19              0.198270                  2.509091                          0   \n",
       "20              0.245007                  2.463855                          0   \n",
       "21              0.223917                  2.538251                          0   \n",
       "22              0.222085                  2.123431                          0   \n",
       "23              0.199645                  2.624615                          0   \n",
       "24              0.196493                  2.383886                          0   \n",
       "25              0.229907                  2.663866                          0   \n",
       "26              0.215929                  2.539749                          0   \n",
       "27              0.221812                  2.775819                          0   \n",
       "28              0.236311                  2.391121                          0   \n",
       "29              0.219479                  2.548387                          0   \n",
       "...                  ...                       ...                        ...   \n",
       "20610           0.227230                  2.722096                          0   \n",
       "20611           0.247336                  2.843521                          0   \n",
       "20612           0.209877                  2.850187                          0   \n",
       "20613           0.211227                  3.039062                          0   \n",
       "20614           0.202109                  3.069620                          0   \n",
       "20615           0.200743                  3.675127                          0   \n",
       "20616           0.243646                  3.085333                          0   \n",
       "20617           0.194296                  2.701754                          0   \n",
       "20618           0.185435                  3.212389                          0   \n",
       "20619           0.179799                  3.456081                          0   \n",
       "20620           0.207071                  3.145833                          0   \n",
       "20621           0.198553                  3.082803                          0   \n",
       "20622           0.194702                  2.910828                          0   \n",
       "20623           0.210708                  2.634361                          0   \n",
       "20624           0.176678                  2.512027                          0   \n",
       "20625           0.166667                  2.071429                          0   \n",
       "20626           0.163701                  2.947368                          0   \n",
       "20627           0.181564                  2.864407                          0   \n",
       "20628           0.206070                  2.610256                          0   \n",
       "20629           0.184953                  3.801980                          0   \n",
       "20630           0.191288                  2.824719                          0   \n",
       "20631           0.185687                  2.777778                          0   \n",
       "20632           0.179388                  2.719481                          0   \n",
       "20633           0.198077                  2.832461                          0   \n",
       "20634           0.169383                  3.026163                          0   \n",
       "20635           0.224625                  2.560606                          0   \n",
       "20636           0.215208                  3.122807                          0   \n",
       "20637           0.215173                  2.325635                          0   \n",
       "20638           0.219892                  2.123209                          0   \n",
       "20639           0.221185                  2.616981                          0   \n",
       "\n",
       "       ocean_proximity_INLAND  ocean_proximity_ISLAND  \\\n",
       "0                           0                       0   \n",
       "1                           0                       0   \n",
       "2                           0                       0   \n",
       "3                           0                       0   \n",
       "4                           0                       0   \n",
       "5                           0                       0   \n",
       "6                           0                       0   \n",
       "7                           0                       0   \n",
       "8                           0                       0   \n",
       "9                           0                       0   \n",
       "10                          0                       0   \n",
       "11                          0                       0   \n",
       "12                          0                       0   \n",
       "13                          0                       0   \n",
       "14                          0                       0   \n",
       "15                          0                       0   \n",
       "16                          0                       0   \n",
       "17                          0                       0   \n",
       "18                          0                       0   \n",
       "19                          0                       0   \n",
       "20                          0                       0   \n",
       "21                          0                       0   \n",
       "22                          0                       0   \n",
       "23                          0                       0   \n",
       "24                          0                       0   \n",
       "25                          0                       0   \n",
       "26                          0                       0   \n",
       "27                          0                       0   \n",
       "28                          0                       0   \n",
       "29                          0                       0   \n",
       "...                       ...                     ...   \n",
       "20610                       1                       0   \n",
       "20611                       1                       0   \n",
       "20612                       1                       0   \n",
       "20613                       1                       0   \n",
       "20614                       1                       0   \n",
       "20615                       1                       0   \n",
       "20616                       1                       0   \n",
       "20617                       1                       0   \n",
       "20618                       1                       0   \n",
       "20619                       1                       0   \n",
       "20620                       1                       0   \n",
       "20621                       1                       0   \n",
       "20622                       1                       0   \n",
       "20623                       1                       0   \n",
       "20624                       1                       0   \n",
       "20625                       1                       0   \n",
       "20626                       1                       0   \n",
       "20627                       1                       0   \n",
       "20628                       1                       0   \n",
       "20629                       1                       0   \n",
       "20630                       1                       0   \n",
       "20631                       1                       0   \n",
       "20632                       1                       0   \n",
       "20633                       1                       0   \n",
       "20634                       1                       0   \n",
       "20635                       1                       0   \n",
       "20636                       1                       0   \n",
       "20637                       1                       0   \n",
       "20638                       1                       0   \n",
       "20639                       1                       0   \n",
       "\n",
       "       ocean_proximity_NEAR BAY  ocean_proximity_NEAR OCEAN  \n",
       "0                             1                           0  \n",
       "1                             1                           0  \n",
       "2                             1                           0  \n",
       "3                             1                           0  \n",
       "4                             1                           0  \n",
       "5                             1                           0  \n",
       "6                             1                           0  \n",
       "7                             1                           0  \n",
       "8                             1                           0  \n",
       "9                             1                           0  \n",
       "10                            1                           0  \n",
       "11                            1                           0  \n",
       "12                            1                           0  \n",
       "13                            1                           0  \n",
       "14                            1                           0  \n",
       "15                            1                           0  \n",
       "16                            1                           0  \n",
       "17                            1                           0  \n",
       "18                            1                           0  \n",
       "19                            1                           0  \n",
       "20                            1                           0  \n",
       "21                            1                           0  \n",
       "22                            1                           0  \n",
       "23                            1                           0  \n",
       "24                            1                           0  \n",
       "25                            1                           0  \n",
       "26                            1                           0  \n",
       "27                            1                           0  \n",
       "28                            1                           0  \n",
       "29                            1                           0  \n",
       "...                         ...                         ...  \n",
       "20610                         0                           0  \n",
       "20611                         0                           0  \n",
       "20612                         0                           0  \n",
       "20613                         0                           0  \n",
       "20614                         0                           0  \n",
       "20615                         0                           0  \n",
       "20616                         0                           0  \n",
       "20617                         0                           0  \n",
       "20618                         0                           0  \n",
       "20619                         0                           0  \n",
       "20620                         0                           0  \n",
       "20621                         0                           0  \n",
       "20622                         0                           0  \n",
       "20623                         0                           0  \n",
       "20624                         0                           0  \n",
       "20625                         0                           0  \n",
       "20626                         0                           0  \n",
       "20627                         0                           0  \n",
       "20628                         0                           0  \n",
       "20629                         0                           0  \n",
       "20630                         0                           0  \n",
       "20631                         0                           0  \n",
       "20632                         0                           0  \n",
       "20633                         0                           0  \n",
       "20634                         0                           0  \n",
       "20635                         0                           0  \n",
       "20636                         0                           0  \n",
       "20637                         0                           0  \n",
       "20638                         0                           0  \n",
       "20639                         0                           0  \n",
       "\n",
       "[20640 rows x 16 columns]"
      ]
     },
     "execution_count": 53,
     "metadata": {},
     "output_type": "execute_result"
    }
   ],
   "source": [
    "data_features.drop(\"income_cat\", axis=1)"
   ]
  },
  {
   "cell_type": "markdown",
   "metadata": {},
   "source": [
    "**<font size=4>Ⅲ 模型选择</font>**"
   ]
  },
  {
   "cell_type": "markdown",
   "metadata": {},
   "source": [
    "1.利用linearRegression对数据进行拟合"
   ]
  },
  {
   "cell_type": "code",
   "execution_count": 54,
   "metadata": {},
   "outputs": [],
   "source": [
    "from sklearn.linear_model import LinearRegression\n",
    "from sklearn.model_selection import GridSearchCV, cross_validate\n",
    "from sklearn.pipeline import Pipeline"
   ]
  },
  {
   "cell_type": "markdown",
   "metadata": {},
   "source": [
    "将Pandas的DataFrame格式转换为ndarray格式"
   ]
  },
  {
   "cell_type": "code",
   "execution_count": 69,
   "metadata": {},
   "outputs": [],
   "source": [
    "train_features_array = train_set.values\n",
    "train_target_array = train_target.values"
   ]
  },
  {
   "cell_type": "code",
   "execution_count": 70,
   "metadata": {},
   "outputs": [],
   "source": [
    "test_features_array = test_set.values\n",
    "test_target_array = test_target.values"
   ]
  },
  {
   "cell_type": "code",
   "execution_count": null,
   "metadata": {},
   "outputs": [],
   "source": [
    "pipe = Pipeline([(\"scaler\", StandardScaler()),(\"linearregression\", LinearRegression())])"
   ]
  },
  {
   "cell_type": "code",
   "execution_count": null,
   "metadata": {},
   "outputs": [],
   "source": [
    "pipe.fit(train_features_array, train_target_array)"
   ]
  },
  {
   "cell_type": "code",
   "execution_count": 55,
   "metadata": {},
   "outputs": [],
   "source": [
    "from sklearn.metrics import mean_squared_error"
   ]
  },
  {
   "cell_type": "code",
   "execution_count": null,
   "metadata": {},
   "outputs": [],
   "source": [
    "pipe.score(train_features_array, train_target)"
   ]
  },
  {
   "cell_type": "code",
   "execution_count": null,
   "metadata": {
    "scrolled": false
   },
   "outputs": [],
   "source": [
    "pipe.score(test_features_array, test_target)"
   ]
  },
  {
   "cell_type": "code",
   "execution_count": null,
   "metadata": {},
   "outputs": [],
   "source": [
    "y_pred = pipe.predict(test_features_array)"
   ]
  },
  {
   "cell_type": "code",
   "execution_count": null,
   "metadata": {},
   "outputs": [],
   "source": [
    "np.sqrt(mean_squared_error(y_pred, test_target))"
   ]
  },
  {
   "cell_type": "markdown",
   "metadata": {},
   "source": [
    "2.利用DecisionTreeRegressor对数据进行拟合"
   ]
  },
  {
   "cell_type": "code",
   "execution_count": 56,
   "metadata": {},
   "outputs": [],
   "source": [
    "from sklearn.tree import DecisionTreeRegressor"
   ]
  },
  {
   "cell_type": "code",
   "execution_count": null,
   "metadata": {},
   "outputs": [],
   "source": [
    "pipe = Pipeline([(\"scaler\",StandardScaler()),(\"decisiontreeregressor\",DecisionTreeRegressor())])"
   ]
  },
  {
   "cell_type": "code",
   "execution_count": null,
   "metadata": {},
   "outputs": [],
   "source": [
    "pipe.fit(train_features_array, train_target_array)"
   ]
  },
  {
   "cell_type": "code",
   "execution_count": null,
   "metadata": {},
   "outputs": [],
   "source": [
    "y_pred = pipe.predict(test_features_array)"
   ]
  },
  {
   "cell_type": "code",
   "execution_count": null,
   "metadata": {},
   "outputs": [],
   "source": [
    "pipe.score(train_features_array, train_target)"
   ]
  },
  {
   "cell_type": "code",
   "execution_count": null,
   "metadata": {},
   "outputs": [],
   "source": [
    "pipe.score(test_features_array, test_target)"
   ]
  },
  {
   "cell_type": "code",
   "execution_count": null,
   "metadata": {},
   "outputs": [],
   "source": [
    "np.sqrt(mean_squared_error(y_pred, test_target))"
   ]
  },
  {
   "cell_type": "markdown",
   "metadata": {},
   "source": [
    "对决策树模型进行交叉验证"
   ]
  },
  {
   "cell_type": "code",
   "execution_count": null,
   "metadata": {},
   "outputs": [],
   "source": [
    "data_features.shape"
   ]
  },
  {
   "cell_type": "code",
   "execution_count": null,
   "metadata": {},
   "outputs": [],
   "source": [
    "data_labels.shape"
   ]
  },
  {
   "cell_type": "code",
   "execution_count": 57,
   "metadata": {},
   "outputs": [],
   "source": [
    "from sklearn.model_selection import cross_val_score"
   ]
  },
  {
   "cell_type": "code",
   "execution_count": null,
   "metadata": {},
   "outputs": [],
   "source": [
    "treeRegressor = DecisionTreeRegressor()"
   ]
  },
  {
   "cell_type": "code",
   "execution_count": null,
   "metadata": {},
   "outputs": [],
   "source": [
    "scores = cross_val_score(treeRegressor, data_features, data_labels, scoring=\"neg_mean_squared_error\", cv=10)"
   ]
  },
  {
   "cell_type": "code",
   "execution_count": null,
   "metadata": {},
   "outputs": [],
   "source": [
    "tree_rmse_scores = np.sqrt(-scores)"
   ]
  },
  {
   "cell_type": "code",
   "execution_count": null,
   "metadata": {},
   "outputs": [],
   "source": [
    "tree_rmse_scores"
   ]
  },
  {
   "cell_type": "markdown",
   "metadata": {},
   "source": [
    "3.利用随机森林进行预测"
   ]
  },
  {
   "cell_type": "code",
   "execution_count": 58,
   "metadata": {},
   "outputs": [],
   "source": [
    "from sklearn.ensemble import RandomForestRegressor"
   ]
  },
  {
   "cell_type": "code",
   "execution_count": 59,
   "metadata": {},
   "outputs": [],
   "source": [
    "forest = RandomForestRegressor()"
   ]
  },
  {
   "cell_type": "code",
   "execution_count": 60,
   "metadata": {},
   "outputs": [],
   "source": [
    "scores = cross_val_score(forest, data_features, data_labels, scoring=\"neg_mean_squared_error\", cv=10)"
   ]
  },
  {
   "cell_type": "code",
   "execution_count": 61,
   "metadata": {},
   "outputs": [],
   "source": [
    "forest_rmse_scores = np.sqrt(-scores)"
   ]
  },
  {
   "cell_type": "code",
   "execution_count": 62,
   "metadata": {},
   "outputs": [
    {
     "data": {
      "text/plain": [
       "array([102563.49612799,  50263.46205872,  68360.07272831,  58995.91214645,\n",
       "        64891.7209832 ,  61466.88607131,  48234.62046645,  85135.39824658,\n",
       "        76794.51856934,  51317.42655946])"
      ]
     },
     "execution_count": 62,
     "metadata": {},
     "output_type": "execute_result"
    }
   ],
   "source": [
    "forest_rmse_scores"
   ]
  },
  {
   "cell_type": "code",
   "execution_count": 65,
   "metadata": {},
   "outputs": [],
   "source": [
    "scores = cross_val_score(forest, data_features, data_labels, cv=10)"
   ]
  },
  {
   "cell_type": "code",
   "execution_count": 66,
   "metadata": {},
   "outputs": [
    {
     "data": {
      "text/plain": [
       "array([-0.11625317,  0.77685962,  0.69442454,  0.5137069 ,  0.75540531,\n",
       "        0.67145621,  0.5403523 ,  0.49379865,  0.51431562,  0.66672232])"
      ]
     },
     "execution_count": 66,
     "metadata": {},
     "output_type": "execute_result"
    }
   ],
   "source": [
    "scores"
   ]
  },
  {
   "cell_type": "code",
   "execution_count": 67,
   "metadata": {},
   "outputs": [],
   "source": [
    "pipe = Pipeline([(\"scaler\",StandardScaler()),(\"randomforestRegressor\", RandomForestRegressor())])"
   ]
  },
  {
   "cell_type": "code",
   "execution_count": 71,
   "metadata": {},
   "outputs": [
    {
     "data": {
      "text/plain": [
       "Pipeline(memory=None,\n",
       "         steps=[('scaler',\n",
       "                 StandardScaler(copy=True, with_mean=True, with_std=True)),\n",
       "                ('randomforestRegressor',\n",
       "                 RandomForestRegressor(bootstrap=True, criterion='mse',\n",
       "                                       max_depth=None, max_features='auto',\n",
       "                                       max_leaf_nodes=None,\n",
       "                                       min_impurity_decrease=0.0,\n",
       "                                       min_impurity_split=None,\n",
       "                                       min_samples_leaf=1, min_samples_split=2,\n",
       "                                       min_weight_fraction_leaf=0.0,\n",
       "                                       n_estimators=10, n_jobs=None,\n",
       "                                       oob_score=False, random_state=None,\n",
       "                                       verbose=0, warm_start=False))],\n",
       "         verbose=False)"
      ]
     },
     "execution_count": 71,
     "metadata": {},
     "output_type": "execute_result"
    }
   ],
   "source": [
    "pipe.fit(train_features_array, train_target_array)"
   ]
  },
  {
   "cell_type": "code",
   "execution_count": 72,
   "metadata": {},
   "outputs": [],
   "source": [
    "y_pred = pipe.predict(test_features_array)"
   ]
  },
  {
   "cell_type": "code",
   "execution_count": 73,
   "metadata": {},
   "outputs": [
    {
     "data": {
      "text/plain": [
       "0.9641380284415851"
      ]
     },
     "execution_count": 73,
     "metadata": {},
     "output_type": "execute_result"
    }
   ],
   "source": [
    "pipe.score(train_features_array, train_target)"
   ]
  },
  {
   "cell_type": "code",
   "execution_count": 74,
   "metadata": {},
   "outputs": [
    {
     "data": {
      "text/plain": [
       "0.7967493636741493"
      ]
     },
     "execution_count": 74,
     "metadata": {},
     "output_type": "execute_result"
    }
   ],
   "source": [
    "pipe.score(test_features_array, test_target)"
   ]
  },
  {
   "cell_type": "code",
   "execution_count": 75,
   "metadata": {},
   "outputs": [
    {
     "data": {
      "text/plain": [
       "51465.42150044917"
      ]
     },
     "execution_count": 75,
     "metadata": {},
     "output_type": "execute_result"
    }
   ],
   "source": [
    "np.sqrt(mean_squared_error(y_pred, test_target))"
   ]
  },
  {
   "cell_type": "markdown",
   "metadata": {},
   "source": [
    "**<font size=4>Ⅳ 超参优化</font>**"
   ]
  },
  {
   "cell_type": "code",
   "execution_count": 76,
   "metadata": {},
   "outputs": [],
   "source": [
    "from sklearn.model_selection import GridSearchCV"
   ]
  },
  {
   "cell_type": "code",
   "execution_count": 77,
   "metadata": {},
   "outputs": [],
   "source": [
    "param_grid = {\"randomforestRegressor__n_estimators\":[3,10,30], \n",
    "              \"randomforestRegressor__max_features\":[2,4,6,8]}"
   ]
  },
  {
   "cell_type": "code",
   "execution_count": 78,
   "metadata": {},
   "outputs": [],
   "source": [
    "grid = GridSearchCV(pipe, param_grid, cv=5, scoring='neg_mean_squared_error',return_train_score=True)"
   ]
  },
  {
   "cell_type": "code",
   "execution_count": 79,
   "metadata": {
    "scrolled": true
   },
   "outputs": [
    {
     "data": {
      "text/plain": [
       "GridSearchCV(cv=5, error_score='raise-deprecating',\n",
       "             estimator=Pipeline(memory=None,\n",
       "                                steps=[('scaler',\n",
       "                                        StandardScaler(copy=True,\n",
       "                                                       with_mean=True,\n",
       "                                                       with_std=True)),\n",
       "                                       ('randomforestRegressor',\n",
       "                                        RandomForestRegressor(bootstrap=True,\n",
       "                                                              criterion='mse',\n",
       "                                                              max_depth=None,\n",
       "                                                              max_features='auto',\n",
       "                                                              max_leaf_nodes=None,\n",
       "                                                              min_impurity_decrease=0.0,\n",
       "                                                              min_impurity_split=None,\n",
       "                                                              min_samples_l...\n",
       "                                                              min_weight_fraction_leaf=0.0,\n",
       "                                                              n_estimators=10,\n",
       "                                                              n_jobs=None,\n",
       "                                                              oob_score=False,\n",
       "                                                              random_state=None,\n",
       "                                                              verbose=0,\n",
       "                                                              warm_start=False))],\n",
       "                                verbose=False),\n",
       "             iid='warn', n_jobs=None,\n",
       "             param_grid={'randomforestRegressor__max_features': [2, 4, 6, 8],\n",
       "                         'randomforestRegressor__n_estimators': [3, 10, 30]},\n",
       "             pre_dispatch='2*n_jobs', refit=True, return_train_score=True,\n",
       "             scoring='neg_mean_squared_error', verbose=0)"
      ]
     },
     "execution_count": 79,
     "metadata": {},
     "output_type": "execute_result"
    }
   ],
   "source": [
    "grid.fit(train_features_array, train_target_array)"
   ]
  },
  {
   "cell_type": "markdown",
   "metadata": {},
   "source": [
    "查看最佳参数"
   ]
  },
  {
   "cell_type": "code",
   "execution_count": 80,
   "metadata": {
    "scrolled": true
   },
   "outputs": [
    {
     "data": {
      "text/plain": [
       "{'randomforestRegressor__max_features': 6,\n",
       " 'randomforestRegressor__n_estimators': 30}"
      ]
     },
     "execution_count": 80,
     "metadata": {},
     "output_type": "execute_result"
    }
   ],
   "source": [
    "grid.best_params_"
   ]
  },
  {
   "cell_type": "code",
   "execution_count": 81,
   "metadata": {},
   "outputs": [
    {
     "data": {
      "text/plain": [
       "Pipeline(memory=None,\n",
       "         steps=[('scaler',\n",
       "                 StandardScaler(copy=True, with_mean=True, with_std=True)),\n",
       "                ('randomforestRegressor',\n",
       "                 RandomForestRegressor(bootstrap=True, criterion='mse',\n",
       "                                       max_depth=None, max_features=6,\n",
       "                                       max_leaf_nodes=None,\n",
       "                                       min_impurity_decrease=0.0,\n",
       "                                       min_impurity_split=None,\n",
       "                                       min_samples_leaf=1, min_samples_split=2,\n",
       "                                       min_weight_fraction_leaf=0.0,\n",
       "                                       n_estimators=30, n_jobs=None,\n",
       "                                       oob_score=False, random_state=None,\n",
       "                                       verbose=0, warm_start=False))],\n",
       "         verbose=False)"
      ]
     },
     "execution_count": 81,
     "metadata": {},
     "output_type": "execute_result"
    }
   ],
   "source": [
    "grid.best_estimator_"
   ]
  },
  {
   "cell_type": "code",
   "execution_count": 82,
   "metadata": {},
   "outputs": [],
   "source": [
    "cvres = grid.cv_results_"
   ]
  },
  {
   "cell_type": "code",
   "execution_count": 83,
   "metadata": {},
   "outputs": [
    {
     "data": {
      "text/plain": [
       "Text(0.5,1.05,'GridSearchCV result')"
      ]
     },
     "execution_count": 83,
     "metadata": {},
     "output_type": "execute_result"
    },
    {
     "data": {
      "image/png": "[encoded data removed]",
      "text/plain": [
       "<Figure size 384x288 with 2 Axes>"
      ]
     },
     "metadata": {},
     "output_type": "display_data"
    }
   ],
   "source": [
    "plt.matshow(cvres[\"mean_test_score\"].reshape(3,-1),cmap=\"viridis\")\n",
    "plt.xlabel(\"max_features\")\n",
    "plt.ylabel(\"n_estimators\")\n",
    "plt.xticks(range(len(param_grid[\"randomforestRegressor__max_features\"])), \n",
    "           param_grid[\"randomforestRegressor__max_features\"])\n",
    "plt.yticks(range(len(param_grid[\"randomforestRegressor__n_estimators\"])), \n",
    "           param_grid[\"randomforestRegressor__n_estimators\"])\n",
    "plt.colorbar()\n",
    "plt.title(\"GridSearchCV result\")"
   ]
  },
  {
   "cell_type": "code",
   "execution_count": 84,
   "metadata": {},
   "outputs": [
    {
     "name": "stdout",
     "output_type": "stream",
     "text": [
      "64180.36221581375 {'randomforestRegressor__max_features': 2, 'randomforestRegressor__n_estimators': 3}\n",
      "55705.46720853997 {'randomforestRegressor__max_features': 2, 'randomforestRegressor__n_estimators': 10}\n",
      "52910.40486646904 {'randomforestRegressor__max_features': 2, 'randomforestRegressor__n_estimators': 30}\n",
      "60531.42716027736 {'randomforestRegressor__max_features': 4, 'randomforestRegressor__n_estimators': 3}\n",
      "53249.332035972635 {'randomforestRegressor__max_features': 4, 'randomforestRegressor__n_estimators': 10}\n",
      "50636.44528692125 {'randomforestRegressor__max_features': 4, 'randomforestRegressor__n_estimators': 30}\n",
      "58246.86921197353 {'randomforestRegressor__max_features': 6, 'randomforestRegressor__n_estimators': 3}\n",
      "52621.27264748095 {'randomforestRegressor__max_features': 6, 'randomforestRegressor__n_estimators': 10}\n",
      "49831.6360311227 {'randomforestRegressor__max_features': 6, 'randomforestRegressor__n_estimators': 30}\n",
      "58589.715998409876 {'randomforestRegressor__max_features': 8, 'randomforestRegressor__n_estimators': 3}\n",
      "51713.54339754149 {'randomforestRegressor__max_features': 8, 'randomforestRegressor__n_estimators': 10}\n",
      "50186.46325528868 {'randomforestRegressor__max_features': 8, 'randomforestRegressor__n_estimators': 30}\n"
     ]
    }
   ],
   "source": [
    "for mean_score, params in zip(cvres[\"mean_test_score\"], cvres[\"params\"]):\n",
    "    print(np.sqrt(-mean_score), params)"
   ]
  },
  {
   "cell_type": "code",
   "execution_count": 85,
   "metadata": {},
   "outputs": [],
   "source": [
    "pipe = Pipeline([(\"scaler\",StandardScaler()),(\"randomforestRegressor\", RandomForestRegressor(n_estimators=30, max_features=8))])"
   ]
  },
  {
   "cell_type": "code",
   "execution_count": 86,
   "metadata": {
    "scrolled": true
   },
   "outputs": [
    {
     "data": {
      "text/plain": [
       "Pipeline(memory=None,\n",
       "         steps=[('scaler',\n",
       "                 StandardScaler(copy=True, with_mean=True, with_std=True)),\n",
       "                ('randomforestRegressor',\n",
       "                 RandomForestRegressor(bootstrap=True, criterion='mse',\n",
       "                                       max_depth=None, max_features=8,\n",
       "                                       max_leaf_nodes=None,\n",
       "                                       min_impurity_decrease=0.0,\n",
       "                                       min_impurity_split=None,\n",
       "                                       min_samples_leaf=1, min_samples_split=2,\n",
       "                                       min_weight_fraction_leaf=0.0,\n",
       "                                       n_estimators=30, n_jobs=None,\n",
       "                                       oob_score=False, random_state=None,\n",
       "                                       verbose=0, warm_start=False))],\n",
       "         verbose=False)"
      ]
     },
     "execution_count": 86,
     "metadata": {},
     "output_type": "execute_result"
    }
   ],
   "source": [
    "pipe.fit(train_features_array, train_target_array)"
   ]
  },
  {
   "cell_type": "code",
   "execution_count": 87,
   "metadata": {},
   "outputs": [],
   "source": [
    "y_pred = pipe.predict(test_features_array)"
   ]
  },
  {
   "cell_type": "code",
   "execution_count": 88,
   "metadata": {},
   "outputs": [
    {
     "data": {
      "text/plain": [
       "0.8236207791995587"
      ]
     },
     "execution_count": 88,
     "metadata": {},
     "output_type": "execute_result"
    }
   ],
   "source": [
    "pipe.score(test_features_array, test_target)"
   ]
  },
  {
   "cell_type": "code",
   "execution_count": 89,
   "metadata": {},
   "outputs": [
    {
     "data": {
      "text/plain": [
       "47942.78811566565"
      ]
     },
     "execution_count": 89,
     "metadata": {},
     "output_type": "execute_result"
    }
   ],
   "source": [
    "np.sqrt(mean_squared_error(y_pred, test_target))"
   ]
  },
  {
   "cell_type": "markdown",
   "metadata": {},
   "source": [
    "**<font size=4>Ⅴ模型评估</font>**"
   ]
  },
  {
   "cell_type": "markdown",
   "metadata": {},
   "source": [
    "1. 查看特征对预测的重要性"
   ]
  },
  {
   "cell_type": "code",
   "execution_count": 90,
   "metadata": {},
   "outputs": [
    {
     "data": {
      "text/plain": [
       "array([7.50592357e-02, 6.49567112e-02, 4.46159061e-02, 1.82743349e-02,\n",
       "       1.56642796e-02, 1.69777402e-02, 1.60333087e-02, 3.52407502e-01,\n",
       "       5.37470076e-02, 6.93034947e-02, 1.05679011e-01, 1.19382745e-02,\n",
       "       1.47073057e-01, 6.18857316e-05, 2.77864350e-03, 5.42960813e-03])"
      ]
     },
     "execution_count": 90,
     "metadata": {},
     "output_type": "execute_result"
    }
   ],
   "source": [
    "grid.best_estimator_.named_steps[\"randomforestRegressor\"].feature_importances_"
   ]
  },
  {
   "cell_type": "code",
   "execution_count": 91,
   "metadata": {},
   "outputs": [],
   "source": [
    "final_model = grid.best_estimator_"
   ]
  },
  {
   "cell_type": "code",
   "execution_count": 112,
   "metadata": {},
   "outputs": [],
   "source": [
    "pred = final_model.predict(test_features_array)"
   ]
  },
  {
   "cell_type": "code",
   "execution_count": 113,
   "metadata": {},
   "outputs": [],
   "source": [
    "final_mse = mean_squared_error(pred, test_target_array)"
   ]
  },
  {
   "cell_type": "code",
   "execution_count": 114,
   "metadata": {},
   "outputs": [],
   "source": [
    "final_rmse = np.sqrt(final_mse)"
   ]
  },
  {
   "cell_type": "code",
   "execution_count": 115,
   "metadata": {},
   "outputs": [
    {
     "data": {
      "text/plain": [
       "48096.062673000335"
      ]
     },
     "execution_count": 115,
     "metadata": {},
     "output_type": "execute_result"
    }
   ],
   "source": [
    "final_rmse"
   ]
  },
  {
   "cell_type": "code",
   "execution_count": 116,
   "metadata": {},
   "outputs": [
    {
     "data": {
      "text/plain": [
       "0.8224911969190245"
      ]
     },
     "execution_count": 116,
     "metadata": {},
     "output_type": "execute_result"
    }
   ],
   "source": [
    "final_model.score(test_features_array, test_target_array)"
   ]
  },
  {
   "cell_type": "code",
   "execution_count": 117,
   "metadata": {},
   "outputs": [],
   "source": [
    "from scipy import stats"
   ]
  },
  {
   "cell_type": "code",
   "execution_count": 118,
   "metadata": {},
   "outputs": [],
   "source": [
    "confidence = 0.95"
   ]
  },
  {
   "cell_type": "code",
   "execution_count": 119,
   "metadata": {},
   "outputs": [],
   "source": [
    "squared_errors = (pred - test_target_array) ** 2"
   ]
  },
  {
   "cell_type": "code",
   "execution_count": 120,
   "metadata": {},
   "outputs": [
    {
     "data": {
      "text/plain": [
       "array([46071.67898536, 50038.61393724])"
      ]
     },
     "execution_count": 120,
     "metadata": {},
     "output_type": "execute_result"
    }
   ],
   "source": [
    "np.sqrt(stats.t.interval(confidence, len(squared_errors) - 1,\n",
    "                         loc=squared_errors.mean(),scale=stats.sem(squared_errors)))"
   ]
  },
  {
   "cell_type": "code",
   "execution_count": null,
   "metadata": {},
   "outputs": [],
   "source": []
  }
 ],
 "metadata": {
  "kernelspec": {
   "display_name": "Python 3",
   "language": "python",
   "name": "python3"
  },
  "language_info": {
   "codemirror_mode": {
    "name": "ipython",
    "version": 3
   },
   "file_extension": ".py",
   "mimetype": "text/x-python",
   "name": "python",
   "nbconvert_exporter": "python",
   "pygments_lexer": "ipython3",
   "version": "3.6.5"
  }
 },
 "nbformat": 4,
 "nbformat_minor": 2
}
